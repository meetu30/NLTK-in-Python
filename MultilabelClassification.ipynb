{
  "nbformat": 4,
  "nbformat_minor": 0,
  "metadata": {
    "kernelspec": {
      "display_name": "Python 3",
      "language": "python",
      "name": "python3"
    },
    "language_info": {
      "codemirror_mode": {
        "name": "ipython",
        "version": 3
      },
      "file_extension": ".py",
      "mimetype": "text/x-python",
      "name": "python",
      "nbconvert_exporter": "python",
      "pygments_lexer": "ipython3",
      "version": "3.4.3"
    },
    "colab": {
      "name": "Copy of week1-MultilabelClassification.ipynb",
      "provenance": [],
      "collapsed_sections": [],
      "include_colab_link": true
    },
    "widgets": {
      "application/vnd.jupyter.widget-state+json": {
        "c6e27cef032a41ea9b2f007efd424d06": {
          "model_module": "@jupyter-widgets/controls",
          "model_name": "HBoxModel",
          "state": {
            "_view_name": "HBoxView",
            "_dom_classes": [],
            "_model_name": "HBoxModel",
            "_view_module": "@jupyter-widgets/controls",
            "_model_module_version": "1.5.0",
            "_view_count": null,
            "_view_module_version": "1.5.0",
            "box_style": "",
            "layout": "IPY_MODEL_84c6c04d34354088addde57b96691c43",
            "_model_module": "@jupyter-widgets/controls",
            "children": [
              "IPY_MODEL_0c3a3328a0a7406281e8f53f3b68cd9b",
              "IPY_MODEL_34878aad58664898849e958f4c017548"
            ]
          }
        },
        "84c6c04d34354088addde57b96691c43": {
          "model_module": "@jupyter-widgets/base",
          "model_name": "LayoutModel",
          "state": {
            "_view_name": "LayoutView",
            "grid_template_rows": null,
            "right": null,
            "justify_content": null,
            "_view_module": "@jupyter-widgets/base",
            "overflow": null,
            "_model_module_version": "1.2.0",
            "_view_count": null,
            "flex_flow": null,
            "width": null,
            "min_width": null,
            "border": null,
            "align_items": null,
            "bottom": null,
            "_model_module": "@jupyter-widgets/base",
            "top": null,
            "grid_column": null,
            "overflow_y": null,
            "overflow_x": null,
            "grid_auto_flow": null,
            "grid_area": null,
            "grid_template_columns": null,
            "flex": null,
            "_model_name": "LayoutModel",
            "justify_items": null,
            "grid_row": null,
            "max_height": null,
            "align_content": null,
            "visibility": null,
            "align_self": null,
            "height": null,
            "min_height": null,
            "padding": null,
            "grid_auto_rows": null,
            "grid_gap": null,
            "max_width": null,
            "order": null,
            "_view_module_version": "1.2.0",
            "grid_template_areas": null,
            "object_position": null,
            "object_fit": null,
            "grid_auto_columns": null,
            "margin": null,
            "display": null,
            "left": null
          }
        },
        "0c3a3328a0a7406281e8f53f3b68cd9b": {
          "model_module": "@jupyter-widgets/controls",
          "model_name": "FloatProgressModel",
          "state": {
            "_view_name": "ProgressView",
            "style": "IPY_MODEL_377b2876e2674ad396a76dc0671fe9f5",
            "_dom_classes": [],
            "description": "train.tsv: 100%",
            "_model_name": "FloatProgressModel",
            "bar_style": "success",
            "max": 7196138,
            "_view_module": "@jupyter-widgets/controls",
            "_model_module_version": "1.5.0",
            "value": 7196138,
            "_view_count": null,
            "_view_module_version": "1.5.0",
            "orientation": "horizontal",
            "min": 0,
            "description_tooltip": null,
            "_model_module": "@jupyter-widgets/controls",
            "layout": "IPY_MODEL_cbe1e8c1af834bddb85de2ca7b431c53"
          }
        },
        "34878aad58664898849e958f4c017548": {
          "model_module": "@jupyter-widgets/controls",
          "model_name": "HTMLModel",
          "state": {
            "_view_name": "HTMLView",
            "style": "IPY_MODEL_39adbc3c7cc54e98922dbc6efd72b0fb",
            "_dom_classes": [],
            "description": "",
            "_model_name": "HTMLModel",
            "placeholder": "​",
            "_view_module": "@jupyter-widgets/controls",
            "_model_module_version": "1.5.0",
            "value": " 7.20M/7.20M [00:01&lt;00:00, 5.55MB/s]",
            "_view_count": null,
            "_view_module_version": "1.5.0",
            "description_tooltip": null,
            "_model_module": "@jupyter-widgets/controls",
            "layout": "IPY_MODEL_20d4d59b887e4f978bef4a100a77602c"
          }
        },
        "377b2876e2674ad396a76dc0671fe9f5": {
          "model_module": "@jupyter-widgets/controls",
          "model_name": "ProgressStyleModel",
          "state": {
            "_view_name": "StyleView",
            "_model_name": "ProgressStyleModel",
            "description_width": "initial",
            "_view_module": "@jupyter-widgets/base",
            "_model_module_version": "1.5.0",
            "_view_count": null,
            "_view_module_version": "1.2.0",
            "bar_color": null,
            "_model_module": "@jupyter-widgets/controls"
          }
        },
        "cbe1e8c1af834bddb85de2ca7b431c53": {
          "model_module": "@jupyter-widgets/base",
          "model_name": "LayoutModel",
          "state": {
            "_view_name": "LayoutView",
            "grid_template_rows": null,
            "right": null,
            "justify_content": null,
            "_view_module": "@jupyter-widgets/base",
            "overflow": null,
            "_model_module_version": "1.2.0",
            "_view_count": null,
            "flex_flow": null,
            "width": null,
            "min_width": null,
            "border": null,
            "align_items": null,
            "bottom": null,
            "_model_module": "@jupyter-widgets/base",
            "top": null,
            "grid_column": null,
            "overflow_y": null,
            "overflow_x": null,
            "grid_auto_flow": null,
            "grid_area": null,
            "grid_template_columns": null,
            "flex": null,
            "_model_name": "LayoutModel",
            "justify_items": null,
            "grid_row": null,
            "max_height": null,
            "align_content": null,
            "visibility": null,
            "align_self": null,
            "height": null,
            "min_height": null,
            "padding": null,
            "grid_auto_rows": null,
            "grid_gap": null,
            "max_width": null,
            "order": null,
            "_view_module_version": "1.2.0",
            "grid_template_areas": null,
            "object_position": null,
            "object_fit": null,
            "grid_auto_columns": null,
            "margin": null,
            "display": null,
            "left": null
          }
        },
        "39adbc3c7cc54e98922dbc6efd72b0fb": {
          "model_module": "@jupyter-widgets/controls",
          "model_name": "DescriptionStyleModel",
          "state": {
            "_view_name": "StyleView",
            "_model_name": "DescriptionStyleModel",
            "description_width": "",
            "_view_module": "@jupyter-widgets/base",
            "_model_module_version": "1.5.0",
            "_view_count": null,
            "_view_module_version": "1.2.0",
            "_model_module": "@jupyter-widgets/controls"
          }
        },
        "20d4d59b887e4f978bef4a100a77602c": {
          "model_module": "@jupyter-widgets/base",
          "model_name": "LayoutModel",
          "state": {
            "_view_name": "LayoutView",
            "grid_template_rows": null,
            "right": null,
            "justify_content": null,
            "_view_module": "@jupyter-widgets/base",
            "overflow": null,
            "_model_module_version": "1.2.0",
            "_view_count": null,
            "flex_flow": null,
            "width": null,
            "min_width": null,
            "border": null,
            "align_items": null,
            "bottom": null,
            "_model_module": "@jupyter-widgets/base",
            "top": null,
            "grid_column": null,
            "overflow_y": null,
            "overflow_x": null,
            "grid_auto_flow": null,
            "grid_area": null,
            "grid_template_columns": null,
            "flex": null,
            "_model_name": "LayoutModel",
            "justify_items": null,
            "grid_row": null,
            "max_height": null,
            "align_content": null,
            "visibility": null,
            "align_self": null,
            "height": null,
            "min_height": null,
            "padding": null,
            "grid_auto_rows": null,
            "grid_gap": null,
            "max_width": null,
            "order": null,
            "_view_module_version": "1.2.0",
            "grid_template_areas": null,
            "object_position": null,
            "object_fit": null,
            "grid_auto_columns": null,
            "margin": null,
            "display": null,
            "left": null
          }
        },
        "b9b9bf3c67824fc7aad4037b28ab761c": {
          "model_module": "@jupyter-widgets/controls",
          "model_name": "HBoxModel",
          "state": {
            "_view_name": "HBoxView",
            "_dom_classes": [],
            "_model_name": "HBoxModel",
            "_view_module": "@jupyter-widgets/controls",
            "_model_module_version": "1.5.0",
            "_view_count": null,
            "_view_module_version": "1.5.0",
            "box_style": "",
            "layout": "IPY_MODEL_64c62932ddd14ad48f4947ccb3e2641b",
            "_model_module": "@jupyter-widgets/controls",
            "children": [
              "IPY_MODEL_2854dcf7c98e4e9c8b7afd422a1776b9",
              "IPY_MODEL_6231b8974a894cb2848be9d4c0709d6f"
            ]
          }
        },
        "64c62932ddd14ad48f4947ccb3e2641b": {
          "model_module": "@jupyter-widgets/base",
          "model_name": "LayoutModel",
          "state": {
            "_view_name": "LayoutView",
            "grid_template_rows": null,
            "right": null,
            "justify_content": null,
            "_view_module": "@jupyter-widgets/base",
            "overflow": null,
            "_model_module_version": "1.2.0",
            "_view_count": null,
            "flex_flow": null,
            "width": null,
            "min_width": null,
            "border": null,
            "align_items": null,
            "bottom": null,
            "_model_module": "@jupyter-widgets/base",
            "top": null,
            "grid_column": null,
            "overflow_y": null,
            "overflow_x": null,
            "grid_auto_flow": null,
            "grid_area": null,
            "grid_template_columns": null,
            "flex": null,
            "_model_name": "LayoutModel",
            "justify_items": null,
            "grid_row": null,
            "max_height": null,
            "align_content": null,
            "visibility": null,
            "align_self": null,
            "height": null,
            "min_height": null,
            "padding": null,
            "grid_auto_rows": null,
            "grid_gap": null,
            "max_width": null,
            "order": null,
            "_view_module_version": "1.2.0",
            "grid_template_areas": null,
            "object_position": null,
            "object_fit": null,
            "grid_auto_columns": null,
            "margin": null,
            "display": null,
            "left": null
          }
        },
        "2854dcf7c98e4e9c8b7afd422a1776b9": {
          "model_module": "@jupyter-widgets/controls",
          "model_name": "FloatProgressModel",
          "state": {
            "_view_name": "ProgressView",
            "style": "IPY_MODEL_12d8e6c1ad0b4bbc826ec5c3d2ab677c",
            "_dom_classes": [],
            "description": "validation.tsv: 100%",
            "_model_name": "FloatProgressModel",
            "bar_style": "success",
            "max": 2166270,
            "_view_module": "@jupyter-widgets/controls",
            "_model_module_version": "1.5.0",
            "value": 2166270,
            "_view_count": null,
            "_view_module_version": "1.5.0",
            "orientation": "horizontal",
            "min": 0,
            "description_tooltip": null,
            "_model_module": "@jupyter-widgets/controls",
            "layout": "IPY_MODEL_aa30842a9cad4faea4957afa3ffd19e5"
          }
        },
        "6231b8974a894cb2848be9d4c0709d6f": {
          "model_module": "@jupyter-widgets/controls",
          "model_name": "HTMLModel",
          "state": {
            "_view_name": "HTMLView",
            "style": "IPY_MODEL_c9107f77e1fd40eab5c94d83cd3358da",
            "_dom_classes": [],
            "description": "",
            "_model_name": "HTMLModel",
            "placeholder": "​",
            "_view_module": "@jupyter-widgets/controls",
            "_model_module_version": "1.5.0",
            "value": " 2.17M/2.17M [00:00&lt;00:00, 2.53MB/s]",
            "_view_count": null,
            "_view_module_version": "1.5.0",
            "description_tooltip": null,
            "_model_module": "@jupyter-widgets/controls",
            "layout": "IPY_MODEL_a7e856ddd5ff4a3395aedad70f2c626b"
          }
        },
        "12d8e6c1ad0b4bbc826ec5c3d2ab677c": {
          "model_module": "@jupyter-widgets/controls",
          "model_name": "ProgressStyleModel",
          "state": {
            "_view_name": "StyleView",
            "_model_name": "ProgressStyleModel",
            "description_width": "initial",
            "_view_module": "@jupyter-widgets/base",
            "_model_module_version": "1.5.0",
            "_view_count": null,
            "_view_module_version": "1.2.0",
            "bar_color": null,
            "_model_module": "@jupyter-widgets/controls"
          }
        },
        "aa30842a9cad4faea4957afa3ffd19e5": {
          "model_module": "@jupyter-widgets/base",
          "model_name": "LayoutModel",
          "state": {
            "_view_name": "LayoutView",
            "grid_template_rows": null,
            "right": null,
            "justify_content": null,
            "_view_module": "@jupyter-widgets/base",
            "overflow": null,
            "_model_module_version": "1.2.0",
            "_view_count": null,
            "flex_flow": null,
            "width": null,
            "min_width": null,
            "border": null,
            "align_items": null,
            "bottom": null,
            "_model_module": "@jupyter-widgets/base",
            "top": null,
            "grid_column": null,
            "overflow_y": null,
            "overflow_x": null,
            "grid_auto_flow": null,
            "grid_area": null,
            "grid_template_columns": null,
            "flex": null,
            "_model_name": "LayoutModel",
            "justify_items": null,
            "grid_row": null,
            "max_height": null,
            "align_content": null,
            "visibility": null,
            "align_self": null,
            "height": null,
            "min_height": null,
            "padding": null,
            "grid_auto_rows": null,
            "grid_gap": null,
            "max_width": null,
            "order": null,
            "_view_module_version": "1.2.0",
            "grid_template_areas": null,
            "object_position": null,
            "object_fit": null,
            "grid_auto_columns": null,
            "margin": null,
            "display": null,
            "left": null
          }
        },
        "c9107f77e1fd40eab5c94d83cd3358da": {
          "model_module": "@jupyter-widgets/controls",
          "model_name": "DescriptionStyleModel",
          "state": {
            "_view_name": "StyleView",
            "_model_name": "DescriptionStyleModel",
            "description_width": "",
            "_view_module": "@jupyter-widgets/base",
            "_model_module_version": "1.5.0",
            "_view_count": null,
            "_view_module_version": "1.2.0",
            "_model_module": "@jupyter-widgets/controls"
          }
        },
        "a7e856ddd5ff4a3395aedad70f2c626b": {
          "model_module": "@jupyter-widgets/base",
          "model_name": "LayoutModel",
          "state": {
            "_view_name": "LayoutView",
            "grid_template_rows": null,
            "right": null,
            "justify_content": null,
            "_view_module": "@jupyter-widgets/base",
            "overflow": null,
            "_model_module_version": "1.2.0",
            "_view_count": null,
            "flex_flow": null,
            "width": null,
            "min_width": null,
            "border": null,
            "align_items": null,
            "bottom": null,
            "_model_module": "@jupyter-widgets/base",
            "top": null,
            "grid_column": null,
            "overflow_y": null,
            "overflow_x": null,
            "grid_auto_flow": null,
            "grid_area": null,
            "grid_template_columns": null,
            "flex": null,
            "_model_name": "LayoutModel",
            "justify_items": null,
            "grid_row": null,
            "max_height": null,
            "align_content": null,
            "visibility": null,
            "align_self": null,
            "height": null,
            "min_height": null,
            "padding": null,
            "grid_auto_rows": null,
            "grid_gap": null,
            "max_width": null,
            "order": null,
            "_view_module_version": "1.2.0",
            "grid_template_areas": null,
            "object_position": null,
            "object_fit": null,
            "grid_auto_columns": null,
            "margin": null,
            "display": null,
            "left": null
          }
        },
        "aac57ce340bd430aa091c243d5012114": {
          "model_module": "@jupyter-widgets/controls",
          "model_name": "HBoxModel",
          "state": {
            "_view_name": "HBoxView",
            "_dom_classes": [],
            "_model_name": "HBoxModel",
            "_view_module": "@jupyter-widgets/controls",
            "_model_module_version": "1.5.0",
            "_view_count": null,
            "_view_module_version": "1.5.0",
            "box_style": "",
            "layout": "IPY_MODEL_9b187cbbd97a48058500f2de047a80a5",
            "_model_module": "@jupyter-widgets/controls",
            "children": [
              "IPY_MODEL_bf0e0e25904e4cbcbc78f8e3947d7b05",
              "IPY_MODEL_4e2d1dd3da944a99a16b6ac443957e7f"
            ]
          }
        },
        "9b187cbbd97a48058500f2de047a80a5": {
          "model_module": "@jupyter-widgets/base",
          "model_name": "LayoutModel",
          "state": {
            "_view_name": "LayoutView",
            "grid_template_rows": null,
            "right": null,
            "justify_content": null,
            "_view_module": "@jupyter-widgets/base",
            "overflow": null,
            "_model_module_version": "1.2.0",
            "_view_count": null,
            "flex_flow": null,
            "width": null,
            "min_width": null,
            "border": null,
            "align_items": null,
            "bottom": null,
            "_model_module": "@jupyter-widgets/base",
            "top": null,
            "grid_column": null,
            "overflow_y": null,
            "overflow_x": null,
            "grid_auto_flow": null,
            "grid_area": null,
            "grid_template_columns": null,
            "flex": null,
            "_model_name": "LayoutModel",
            "justify_items": null,
            "grid_row": null,
            "max_height": null,
            "align_content": null,
            "visibility": null,
            "align_self": null,
            "height": null,
            "min_height": null,
            "padding": null,
            "grid_auto_rows": null,
            "grid_gap": null,
            "max_width": null,
            "order": null,
            "_view_module_version": "1.2.0",
            "grid_template_areas": null,
            "object_position": null,
            "object_fit": null,
            "grid_auto_columns": null,
            "margin": null,
            "display": null,
            "left": null
          }
        },
        "bf0e0e25904e4cbcbc78f8e3947d7b05": {
          "model_module": "@jupyter-widgets/controls",
          "model_name": "FloatProgressModel",
          "state": {
            "_view_name": "ProgressView",
            "style": "IPY_MODEL_bd6756059f574d92bdd85b829e0adb36",
            "_dom_classes": [],
            "description": "test.tsv: 100%",
            "_model_name": "FloatProgressModel",
            "bar_style": "success",
            "max": 1041379,
            "_view_module": "@jupyter-widgets/controls",
            "_model_module_version": "1.5.0",
            "value": 1041379,
            "_view_count": null,
            "_view_module_version": "1.5.0",
            "orientation": "horizontal",
            "min": 0,
            "description_tooltip": null,
            "_model_module": "@jupyter-widgets/controls",
            "layout": "IPY_MODEL_c4c0dd4bcd384d9cb42baed3b9d9a6e5"
          }
        },
        "4e2d1dd3da944a99a16b6ac443957e7f": {
          "model_module": "@jupyter-widgets/controls",
          "model_name": "HTMLModel",
          "state": {
            "_view_name": "HTMLView",
            "style": "IPY_MODEL_ad3ef790fd3e40fb82d7465092ccc733",
            "_dom_classes": [],
            "description": "",
            "_model_name": "HTMLModel",
            "placeholder": "​",
            "_view_module": "@jupyter-widgets/controls",
            "_model_module_version": "1.5.0",
            "value": " 1.04M/1.04M [00:00&lt;00:00, 2.42MB/s]",
            "_view_count": null,
            "_view_module_version": "1.5.0",
            "description_tooltip": null,
            "_model_module": "@jupyter-widgets/controls",
            "layout": "IPY_MODEL_5dbb319eb4974cfeba69ac90386159de"
          }
        },
        "bd6756059f574d92bdd85b829e0adb36": {
          "model_module": "@jupyter-widgets/controls",
          "model_name": "ProgressStyleModel",
          "state": {
            "_view_name": "StyleView",
            "_model_name": "ProgressStyleModel",
            "description_width": "initial",
            "_view_module": "@jupyter-widgets/base",
            "_model_module_version": "1.5.0",
            "_view_count": null,
            "_view_module_version": "1.2.0",
            "bar_color": null,
            "_model_module": "@jupyter-widgets/controls"
          }
        },
        "c4c0dd4bcd384d9cb42baed3b9d9a6e5": {
          "model_module": "@jupyter-widgets/base",
          "model_name": "LayoutModel",
          "state": {
            "_view_name": "LayoutView",
            "grid_template_rows": null,
            "right": null,
            "justify_content": null,
            "_view_module": "@jupyter-widgets/base",
            "overflow": null,
            "_model_module_version": "1.2.0",
            "_view_count": null,
            "flex_flow": null,
            "width": null,
            "min_width": null,
            "border": null,
            "align_items": null,
            "bottom": null,
            "_model_module": "@jupyter-widgets/base",
            "top": null,
            "grid_column": null,
            "overflow_y": null,
            "overflow_x": null,
            "grid_auto_flow": null,
            "grid_area": null,
            "grid_template_columns": null,
            "flex": null,
            "_model_name": "LayoutModel",
            "justify_items": null,
            "grid_row": null,
            "max_height": null,
            "align_content": null,
            "visibility": null,
            "align_self": null,
            "height": null,
            "min_height": null,
            "padding": null,
            "grid_auto_rows": null,
            "grid_gap": null,
            "max_width": null,
            "order": null,
            "_view_module_version": "1.2.0",
            "grid_template_areas": null,
            "object_position": null,
            "object_fit": null,
            "grid_auto_columns": null,
            "margin": null,
            "display": null,
            "left": null
          }
        },
        "ad3ef790fd3e40fb82d7465092ccc733": {
          "model_module": "@jupyter-widgets/controls",
          "model_name": "DescriptionStyleModel",
          "state": {
            "_view_name": "StyleView",
            "_model_name": "DescriptionStyleModel",
            "description_width": "",
            "_view_module": "@jupyter-widgets/base",
            "_model_module_version": "1.5.0",
            "_view_count": null,
            "_view_module_version": "1.2.0",
            "_model_module": "@jupyter-widgets/controls"
          }
        },
        "5dbb319eb4974cfeba69ac90386159de": {
          "model_module": "@jupyter-widgets/base",
          "model_name": "LayoutModel",
          "state": {
            "_view_name": "LayoutView",
            "grid_template_rows": null,
            "right": null,
            "justify_content": null,
            "_view_module": "@jupyter-widgets/base",
            "overflow": null,
            "_model_module_version": "1.2.0",
            "_view_count": null,
            "flex_flow": null,
            "width": null,
            "min_width": null,
            "border": null,
            "align_items": null,
            "bottom": null,
            "_model_module": "@jupyter-widgets/base",
            "top": null,
            "grid_column": null,
            "overflow_y": null,
            "overflow_x": null,
            "grid_auto_flow": null,
            "grid_area": null,
            "grid_template_columns": null,
            "flex": null,
            "_model_name": "LayoutModel",
            "justify_items": null,
            "grid_row": null,
            "max_height": null,
            "align_content": null,
            "visibility": null,
            "align_self": null,
            "height": null,
            "min_height": null,
            "padding": null,
            "grid_auto_rows": null,
            "grid_gap": null,
            "max_width": null,
            "order": null,
            "_view_module_version": "1.2.0",
            "grid_template_areas": null,
            "object_position": null,
            "object_fit": null,
            "grid_auto_columns": null,
            "margin": null,
            "display": null,
            "left": null
          }
        },
        "8a1ab628906b4bab95db1214c6c46d9d": {
          "model_module": "@jupyter-widgets/controls",
          "model_name": "HBoxModel",
          "state": {
            "_view_name": "HBoxView",
            "_dom_classes": [],
            "_model_name": "HBoxModel",
            "_view_module": "@jupyter-widgets/controls",
            "_model_module_version": "1.5.0",
            "_view_count": null,
            "_view_module_version": "1.5.0",
            "box_style": "",
            "layout": "IPY_MODEL_a7714f2173f84c4095b12872195f644b",
            "_model_module": "@jupyter-widgets/controls",
            "children": [
              "IPY_MODEL_c1f0f2e981f24d8a8477e6233ef077e8",
              "IPY_MODEL_aa880596f8604120b713b6f390062a72"
            ]
          }
        },
        "a7714f2173f84c4095b12872195f644b": {
          "model_module": "@jupyter-widgets/base",
          "model_name": "LayoutModel",
          "state": {
            "_view_name": "LayoutView",
            "grid_template_rows": null,
            "right": null,
            "justify_content": null,
            "_view_module": "@jupyter-widgets/base",
            "overflow": null,
            "_model_module_version": "1.2.0",
            "_view_count": null,
            "flex_flow": null,
            "width": null,
            "min_width": null,
            "border": null,
            "align_items": null,
            "bottom": null,
            "_model_module": "@jupyter-widgets/base",
            "top": null,
            "grid_column": null,
            "overflow_y": null,
            "overflow_x": null,
            "grid_auto_flow": null,
            "grid_area": null,
            "grid_template_columns": null,
            "flex": null,
            "_model_name": "LayoutModel",
            "justify_items": null,
            "grid_row": null,
            "max_height": null,
            "align_content": null,
            "visibility": null,
            "align_self": null,
            "height": null,
            "min_height": null,
            "padding": null,
            "grid_auto_rows": null,
            "grid_gap": null,
            "max_width": null,
            "order": null,
            "_view_module_version": "1.2.0",
            "grid_template_areas": null,
            "object_position": null,
            "object_fit": null,
            "grid_auto_columns": null,
            "margin": null,
            "display": null,
            "left": null
          }
        },
        "c1f0f2e981f24d8a8477e6233ef077e8": {
          "model_module": "@jupyter-widgets/controls",
          "model_name": "FloatProgressModel",
          "state": {
            "_view_name": "ProgressView",
            "style": "IPY_MODEL_a6d0a13672674b38865e21a021c3b0d8",
            "_dom_classes": [],
            "description": "text_prepare_tests.tsv: 100%",
            "_model_name": "FloatProgressModel",
            "bar_style": "success",
            "max": 5091,
            "_view_module": "@jupyter-widgets/controls",
            "_model_module_version": "1.5.0",
            "value": 5091,
            "_view_count": null,
            "_view_module_version": "1.5.0",
            "orientation": "horizontal",
            "min": 0,
            "description_tooltip": null,
            "_model_module": "@jupyter-widgets/controls",
            "layout": "IPY_MODEL_e7314a0dcd344165b2fca08eb2189e12"
          }
        },
        "aa880596f8604120b713b6f390062a72": {
          "model_module": "@jupyter-widgets/controls",
          "model_name": "HTMLModel",
          "state": {
            "_view_name": "HTMLView",
            "style": "IPY_MODEL_e671770e7c6a490ea3d4b23200d79f13",
            "_dom_classes": [],
            "description": "",
            "_model_name": "HTMLModel",
            "placeholder": "​",
            "_view_module": "@jupyter-widgets/controls",
            "_model_module_version": "1.5.0",
            "value": " 5.09k/5.09k [00:00&lt;00:00, 72.2kB/s]",
            "_view_count": null,
            "_view_module_version": "1.5.0",
            "description_tooltip": null,
            "_model_module": "@jupyter-widgets/controls",
            "layout": "IPY_MODEL_67a03a7aeaa04fad8beae74655314675"
          }
        },
        "a6d0a13672674b38865e21a021c3b0d8": {
          "model_module": "@jupyter-widgets/controls",
          "model_name": "ProgressStyleModel",
          "state": {
            "_view_name": "StyleView",
            "_model_name": "ProgressStyleModel",
            "description_width": "initial",
            "_view_module": "@jupyter-widgets/base",
            "_model_module_version": "1.5.0",
            "_view_count": null,
            "_view_module_version": "1.2.0",
            "bar_color": null,
            "_model_module": "@jupyter-widgets/controls"
          }
        },
        "e7314a0dcd344165b2fca08eb2189e12": {
          "model_module": "@jupyter-widgets/base",
          "model_name": "LayoutModel",
          "state": {
            "_view_name": "LayoutView",
            "grid_template_rows": null,
            "right": null,
            "justify_content": null,
            "_view_module": "@jupyter-widgets/base",
            "overflow": null,
            "_model_module_version": "1.2.0",
            "_view_count": null,
            "flex_flow": null,
            "width": null,
            "min_width": null,
            "border": null,
            "align_items": null,
            "bottom": null,
            "_model_module": "@jupyter-widgets/base",
            "top": null,
            "grid_column": null,
            "overflow_y": null,
            "overflow_x": null,
            "grid_auto_flow": null,
            "grid_area": null,
            "grid_template_columns": null,
            "flex": null,
            "_model_name": "LayoutModel",
            "justify_items": null,
            "grid_row": null,
            "max_height": null,
            "align_content": null,
            "visibility": null,
            "align_self": null,
            "height": null,
            "min_height": null,
            "padding": null,
            "grid_auto_rows": null,
            "grid_gap": null,
            "max_width": null,
            "order": null,
            "_view_module_version": "1.2.0",
            "grid_template_areas": null,
            "object_position": null,
            "object_fit": null,
            "grid_auto_columns": null,
            "margin": null,
            "display": null,
            "left": null
          }
        },
        "e671770e7c6a490ea3d4b23200d79f13": {
          "model_module": "@jupyter-widgets/controls",
          "model_name": "DescriptionStyleModel",
          "state": {
            "_view_name": "StyleView",
            "_model_name": "DescriptionStyleModel",
            "description_width": "",
            "_view_module": "@jupyter-widgets/base",
            "_model_module_version": "1.5.0",
            "_view_count": null,
            "_view_module_version": "1.2.0",
            "_model_module": "@jupyter-widgets/controls"
          }
        },
        "67a03a7aeaa04fad8beae74655314675": {
          "model_module": "@jupyter-widgets/base",
          "model_name": "LayoutModel",
          "state": {
            "_view_name": "LayoutView",
            "grid_template_rows": null,
            "right": null,
            "justify_content": null,
            "_view_module": "@jupyter-widgets/base",
            "overflow": null,
            "_model_module_version": "1.2.0",
            "_view_count": null,
            "flex_flow": null,
            "width": null,
            "min_width": null,
            "border": null,
            "align_items": null,
            "bottom": null,
            "_model_module": "@jupyter-widgets/base",
            "top": null,
            "grid_column": null,
            "overflow_y": null,
            "overflow_x": null,
            "grid_auto_flow": null,
            "grid_area": null,
            "grid_template_columns": null,
            "flex": null,
            "_model_name": "LayoutModel",
            "justify_items": null,
            "grid_row": null,
            "max_height": null,
            "align_content": null,
            "visibility": null,
            "align_self": null,
            "height": null,
            "min_height": null,
            "padding": null,
            "grid_auto_rows": null,
            "grid_gap": null,
            "max_width": null,
            "order": null,
            "_view_module_version": "1.2.0",
            "grid_template_areas": null,
            "object_position": null,
            "object_fit": null,
            "grid_auto_columns": null,
            "margin": null,
            "display": null,
            "left": null
          }
        }
      }
    }
  },
  "cells": [
    {
      "cell_type": "markdown",
      "metadata": {
        "id": "view-in-github",
        "colab_type": "text"
      },
      "source": [
        "<a href=\"https://colab.research.google.com/github/meetu30/NLTK-in-Python/blob/master/MultilabelClassification.ipynb\" target=\"_parent\"><img src=\"https://colab.research.google.com/assets/colab-badge.svg\" alt=\"Open In Colab\"/></a>"
      ]
    },
    {
      "cell_type": "markdown",
      "metadata": {
        "id": "rGFFjBIQvbkj",
        "colab_type": "text"
      },
      "source": [
        "# Predict tags on StackOverflow with linear models"
      ]
    },
    {
      "cell_type": "markdown",
      "metadata": {
        "id": "9au-vkQDvbkk",
        "colab_type": "text"
      },
      "source": [
        "In this assignment you will learn how to predict tags for posts from [StackOverflow](https://stackoverflow.com). To solve this task you will use multilabel classification approach.\n",
        "\n",
        "### Libraries\n",
        "\n",
        "In this task you will need the following libraries:\n",
        "- [Numpy](http://www.numpy.org) — a package for scientific computing.\n",
        "- [Pandas](https://pandas.pydata.org) — a library providing high-performance, easy-to-use data structures and data analysis tools for the Python\n",
        "- [scikit-learn](http://scikit-learn.org/stable/index.html) — a tool for data mining and data analysis.\n",
        "- [NLTK](http://www.nltk.org) — a platform to work with natural language."
      ]
    },
    {
      "cell_type": "markdown",
      "metadata": {
        "id": "iCk0TsDhvbkl",
        "colab_type": "text"
      },
      "source": [
        "### Data\n",
        "\n",
        "The following cell will download all data required for this assignment into the folder `week1/data`."
      ]
    },
    {
      "cell_type": "code",
      "metadata": {
        "id": "y7vRJHNzvbkm",
        "colab_type": "code",
        "colab": {
          "base_uri": "https://localhost:8080/",
          "height": 400,
          "referenced_widgets": [
            "c6e27cef032a41ea9b2f007efd424d06",
            "84c6c04d34354088addde57b96691c43",
            "0c3a3328a0a7406281e8f53f3b68cd9b",
            "34878aad58664898849e958f4c017548",
            "377b2876e2674ad396a76dc0671fe9f5",
            "cbe1e8c1af834bddb85de2ca7b431c53",
            "39adbc3c7cc54e98922dbc6efd72b0fb",
            "20d4d59b887e4f978bef4a100a77602c",
            "b9b9bf3c67824fc7aad4037b28ab761c",
            "64c62932ddd14ad48f4947ccb3e2641b",
            "2854dcf7c98e4e9c8b7afd422a1776b9",
            "6231b8974a894cb2848be9d4c0709d6f",
            "12d8e6c1ad0b4bbc826ec5c3d2ab677c",
            "aa30842a9cad4faea4957afa3ffd19e5",
            "c9107f77e1fd40eab5c94d83cd3358da",
            "a7e856ddd5ff4a3395aedad70f2c626b",
            "aac57ce340bd430aa091c243d5012114",
            "9b187cbbd97a48058500f2de047a80a5",
            "bf0e0e25904e4cbcbc78f8e3947d7b05",
            "4e2d1dd3da944a99a16b6ac443957e7f",
            "bd6756059f574d92bdd85b829e0adb36",
            "c4c0dd4bcd384d9cb42baed3b9d9a6e5",
            "ad3ef790fd3e40fb82d7465092ccc733",
            "5dbb319eb4974cfeba69ac90386159de",
            "8a1ab628906b4bab95db1214c6c46d9d",
            "a7714f2173f84c4095b12872195f644b",
            "c1f0f2e981f24d8a8477e6233ef077e8",
            "aa880596f8604120b713b6f390062a72",
            "a6d0a13672674b38865e21a021c3b0d8",
            "e7314a0dcd344165b2fca08eb2189e12",
            "e671770e7c6a490ea3d4b23200d79f13",
            "67a03a7aeaa04fad8beae74655314675"
          ]
        },
        "outputId": "fd20e907-96dd-44d0-fda0-b3019b05cdbf"
      },
      "source": [
        "try:\n",
        "    import google.colab\n",
        "    IN_COLAB = True\n",
        "except:\n",
        "    IN_COLAB = False\n",
        "\n",
        "if IN_COLAB:\n",
        "    ! wget https://raw.githubusercontent.com/hse-aml/natural-language-processing/master/setup_google_colab.py -O setup_google_colab.py\n",
        "    import setup_google_colab\n",
        "    setup_google_colab.setup_week1() \n",
        "    \n",
        "import sys\n",
        "sys.path.append(\"..\")\n",
        "from common.download_utils import download_week1_resources\n",
        "\n",
        "download_week1_resources()"
      ],
      "execution_count": null,
      "outputs": [
        {
          "output_type": "stream",
          "text": [
            "--2020-06-26 03:29:28--  https://raw.githubusercontent.com/hse-aml/natural-language-processing/master/setup_google_colab.py\n",
            "Resolving raw.githubusercontent.com (raw.githubusercontent.com)... 151.101.0.133, 151.101.64.133, 151.101.128.133, ...\n",
            "Connecting to raw.githubusercontent.com (raw.githubusercontent.com)|151.101.0.133|:443... connected.\n",
            "HTTP request sent, awaiting response... 200 OK\n",
            "Length: 1991 (1.9K) [text/plain]\n",
            "Saving to: ‘setup_google_colab.py’\n",
            "\n",
            "\rsetup_google_colab.   0%[                    ]       0  --.-KB/s               \rsetup_google_colab. 100%[===================>]   1.94K  --.-KB/s    in 0s      \n",
            "\n",
            "2020-06-26 03:29:28 (27.1 MB/s) - ‘setup_google_colab.py’ saved [1991/1991]\n",
            "\n"
          ],
          "name": "stdout"
        },
        {
          "output_type": "display_data",
          "data": {
            "application/vnd.jupyter.widget-view+json": {
              "model_id": "c6e27cef032a41ea9b2f007efd424d06",
              "version_minor": 0,
              "version_major": 2
            },
            "text/plain": [
              "HBox(children=(FloatProgress(value=0.0, max=7196138.0), HTML(value='')))"
            ]
          },
          "metadata": {
            "tags": []
          }
        },
        {
          "output_type": "stream",
          "text": [
            "\n"
          ],
          "name": "stdout"
        },
        {
          "output_type": "display_data",
          "data": {
            "application/vnd.jupyter.widget-view+json": {
              "model_id": "b9b9bf3c67824fc7aad4037b28ab761c",
              "version_minor": 0,
              "version_major": 2
            },
            "text/plain": [
              "HBox(children=(FloatProgress(value=0.0, max=2166270.0), HTML(value='')))"
            ]
          },
          "metadata": {
            "tags": []
          }
        },
        {
          "output_type": "stream",
          "text": [
            "\n"
          ],
          "name": "stdout"
        },
        {
          "output_type": "display_data",
          "data": {
            "application/vnd.jupyter.widget-view+json": {
              "model_id": "aac57ce340bd430aa091c243d5012114",
              "version_minor": 0,
              "version_major": 2
            },
            "text/plain": [
              "HBox(children=(FloatProgress(value=0.0, max=1041379.0), HTML(value='')))"
            ]
          },
          "metadata": {
            "tags": []
          }
        },
        {
          "output_type": "stream",
          "text": [
            "\n"
          ],
          "name": "stdout"
        },
        {
          "output_type": "display_data",
          "data": {
            "application/vnd.jupyter.widget-view+json": {
              "model_id": "8a1ab628906b4bab95db1214c6c46d9d",
              "version_minor": 0,
              "version_major": 2
            },
            "text/plain": [
              "HBox(children=(FloatProgress(value=0.0, max=5091.0), HTML(value='')))"
            ]
          },
          "metadata": {
            "tags": []
          }
        },
        {
          "output_type": "stream",
          "text": [
            "\n"
          ],
          "name": "stdout"
        }
      ]
    },
    {
      "cell_type": "markdown",
      "metadata": {
        "id": "EkbOcYkmvbkq",
        "colab_type": "text"
      },
      "source": [
        "### Grading\n",
        "We will create a grader instance below and use it to collect your answers. Note that these outputs will be stored locally inside grader and will be uploaded to platform only after running submitting function in the last part of this assignment. If you want to make partial submission, you can run that cell any time you want."
      ]
    },
    {
      "cell_type": "code",
      "metadata": {
        "id": "Suj_3iCyvbkr",
        "colab_type": "code",
        "colab": {}
      },
      "source": [
        "from grader import Grader"
      ],
      "execution_count": null,
      "outputs": []
    },
    {
      "cell_type": "code",
      "metadata": {
        "id": "4DK3QAJbvbkv",
        "colab_type": "code",
        "colab": {}
      },
      "source": [
        "grader = Grader()"
      ],
      "execution_count": null,
      "outputs": []
    },
    {
      "cell_type": "markdown",
      "metadata": {
        "id": "GFMmoY16vbky",
        "colab_type": "text"
      },
      "source": [
        "### Text preprocessing"
      ]
    },
    {
      "cell_type": "markdown",
      "metadata": {
        "id": "_CPz0oH5vbkz",
        "colab_type": "text"
      },
      "source": [
        "For this and most of the following assignments you will need to use a list of stop words. It can be downloaded from *nltk*:"
      ]
    },
    {
      "cell_type": "code",
      "metadata": {
        "id": "0tSgf34Qvbk0",
        "colab_type": "code",
        "colab": {
          "base_uri": "https://localhost:8080/",
          "height": 51
        },
        "outputId": "3ae8d947-dd90-4bab-e154-3458d3226355"
      },
      "source": [
        "import nltk\n",
        "nltk.download('stopwords')\n",
        "from nltk.corpus import stopwords"
      ],
      "execution_count": null,
      "outputs": [
        {
          "output_type": "stream",
          "text": [
            "[nltk_data] Downloading package stopwords to /root/nltk_data...\n",
            "[nltk_data]   Unzipping corpora/stopwords.zip.\n"
          ],
          "name": "stderr"
        }
      ]
    },
    {
      "cell_type": "markdown",
      "metadata": {
        "id": "OIOyl-lRvbk3",
        "colab_type": "text"
      },
      "source": [
        "In this task you will deal with a dataset of post titles from StackOverflow. You are provided a split to 3 sets: *train*, *validation* and *test*. All corpora (except for *test*) contain titles of the posts and corresponding tags (100 tags are available). The *test* set is provided for Coursera's grading and doesn't contain answers. Upload the corpora using *pandas* and look at the data:"
      ]
    },
    {
      "cell_type": "code",
      "metadata": {
        "id": "9xZmGNgWvbk4",
        "colab_type": "code",
        "colab": {}
      },
      "source": [
        "from ast import literal_eval\n",
        "import pandas as pd\n",
        "import numpy as np"
      ],
      "execution_count": null,
      "outputs": []
    },
    {
      "cell_type": "code",
      "metadata": {
        "id": "YEmKhjFuvbk7",
        "colab_type": "code",
        "colab": {}
      },
      "source": [
        "def read_data(filename):\n",
        "    data = pd.read_csv(filename, sep='\\t')\n",
        "    data['tags'] = data['tags'].apply(literal_eval)\n",
        "    return data"
      ],
      "execution_count": null,
      "outputs": []
    },
    {
      "cell_type": "code",
      "metadata": {
        "id": "q3E936eQvbk_",
        "colab_type": "code",
        "colab": {}
      },
      "source": [
        "train = read_data('data/train.tsv')\n",
        "validation = read_data('data/validation.tsv')\n",
        "test = pd.read_csv('data/test.tsv', sep='\\t')"
      ],
      "execution_count": null,
      "outputs": []
    },
    {
      "cell_type": "code",
      "metadata": {
        "id": "1puq-Ci2vblD",
        "colab_type": "code",
        "colab": {
          "base_uri": "https://localhost:8080/",
          "height": 204
        },
        "outputId": "37d299b3-3115-4e82-c113-047fa0e7f40f"
      },
      "source": [
        "train.head()"
      ],
      "execution_count": null,
      "outputs": [
        {
          "output_type": "execute_result",
          "data": {
            "text/html": [
              "<div>\n",
              "<style scoped>\n",
              "    .dataframe tbody tr th:only-of-type {\n",
              "        vertical-align: middle;\n",
              "    }\n",
              "\n",
              "    .dataframe tbody tr th {\n",
              "        vertical-align: top;\n",
              "    }\n",
              "\n",
              "    .dataframe thead th {\n",
              "        text-align: right;\n",
              "    }\n",
              "</style>\n",
              "<table border=\"1\" class=\"dataframe\">\n",
              "  <thead>\n",
              "    <tr style=\"text-align: right;\">\n",
              "      <th></th>\n",
              "      <th>title</th>\n",
              "      <th>tags</th>\n",
              "    </tr>\n",
              "  </thead>\n",
              "  <tbody>\n",
              "    <tr>\n",
              "      <th>0</th>\n",
              "      <td>How to draw a stacked dotplot in R?</td>\n",
              "      <td>[r]</td>\n",
              "    </tr>\n",
              "    <tr>\n",
              "      <th>1</th>\n",
              "      <td>mysql select all records where a datetime fiel...</td>\n",
              "      <td>[php, mysql]</td>\n",
              "    </tr>\n",
              "    <tr>\n",
              "      <th>2</th>\n",
              "      <td>How to terminate windows phone 8.1 app</td>\n",
              "      <td>[c#]</td>\n",
              "    </tr>\n",
              "    <tr>\n",
              "      <th>3</th>\n",
              "      <td>get current time in a specific country via jquery</td>\n",
              "      <td>[javascript, jquery]</td>\n",
              "    </tr>\n",
              "    <tr>\n",
              "      <th>4</th>\n",
              "      <td>Configuring Tomcat to Use SSL</td>\n",
              "      <td>[java]</td>\n",
              "    </tr>\n",
              "  </tbody>\n",
              "</table>\n",
              "</div>"
            ],
            "text/plain": [
              "                                               title                  tags\n",
              "0                How to draw a stacked dotplot in R?                   [r]\n",
              "1  mysql select all records where a datetime fiel...          [php, mysql]\n",
              "2             How to terminate windows phone 8.1 app                  [c#]\n",
              "3  get current time in a specific country via jquery  [javascript, jquery]\n",
              "4                      Configuring Tomcat to Use SSL                [java]"
            ]
          },
          "metadata": {
            "tags": []
          },
          "execution_count": 12
        }
      ]
    },
    {
      "cell_type": "markdown",
      "metadata": {
        "id": "hmh8Q2rJvblG",
        "colab_type": "text"
      },
      "source": [
        "As you can see, *title* column contains titles of the posts and *tags* column contains the tags. It could be noticed that a number of tags for a post is not fixed and could be as many as necessary."
      ]
    },
    {
      "cell_type": "markdown",
      "metadata": {
        "id": "2wzE1vVBvblH",
        "colab_type": "text"
      },
      "source": [
        "For a more comfortable usage, initialize *X_train*, *X_val*, *X_test*, *y_train*, *y_val*."
      ]
    },
    {
      "cell_type": "code",
      "metadata": {
        "id": "XH_Xw_GAvblH",
        "colab_type": "code",
        "colab": {}
      },
      "source": [
        "X_train, y_train = train['title'].values, train['tags'].values\n",
        "X_val, y_val = validation['title'].values, validation['tags'].values\n",
        "X_test = test['title'].values"
      ],
      "execution_count": null,
      "outputs": []
    },
    {
      "cell_type": "markdown",
      "metadata": {
        "id": "5OSMcdqVvblL",
        "colab_type": "text"
      },
      "source": [
        "One of the most known difficulties when working with natural data is that it's unstructured. For example, if you use it \"as is\" and extract tokens just by splitting the titles by whitespaces, you will see that there are many \"weird\" tokens like *3.5?*, *\"Flip*, etc. To prevent the problems, it's usually useful to prepare the data somehow. In this task you'll write a function, which will be also used in the other assignments. \n",
        "\n",
        "**Task 1 (TextPrepare).** Implement the function *text_prepare* following the instructions. After that, run the function *test_text_prepare* to test it on tiny cases and submit it to Coursera."
      ]
    },
    {
      "cell_type": "code",
      "metadata": {
        "id": "HsAAxmrvvblL",
        "colab_type": "code",
        "colab": {}
      },
      "source": [
        "import re"
      ],
      "execution_count": null,
      "outputs": []
    },
    {
      "cell_type": "code",
      "metadata": {
        "id": "_m_n5rttvblO",
        "colab_type": "code",
        "colab": {}
      },
      "source": [
        "REPLACE_BY_SPACE_RE = re.compile('[/(){}\\[\\]\\|@,;]')\n",
        "BAD_SYMBOLS_RE = re.compile('[^0-9a-z #+_]')\n",
        "STOPWORDS = set(stopwords.words('english'))\n",
        "\n",
        "def text_prepare(text):\n",
        "    \"\"\"\n",
        "        text: a string\n",
        "        \n",
        "        return: modified initial string\n",
        "    \"\"\"\n",
        "    # convert to lowercase\n",
        "    text = text.lower()\n",
        "    \n",
        "    # replace REPLACE_BY_SPACE_RE symbols by space in text\n",
        "    text = re.sub(REPLACE_BY_SPACE_RE, \" \", text)\n",
        "    \n",
        "    # delete symbols which are in BAD_SYMBOLS_RE from text\n",
        "    text = re.sub(BAD_SYMBOLS_RE, \"\", text)\n",
        "    \n",
        "    # delete stopwords from text\n",
        "    text = \" \".join([i for i in text.split() if i not in STOPWORDS ])\n",
        "    \n",
        "    return text\n",
        "\n",
        "\n",
        "    "
      ],
      "execution_count": null,
      "outputs": []
    },
    {
      "cell_type": "code",
      "metadata": {
        "id": "_o6ODr9JvblS",
        "colab_type": "code",
        "colab": {}
      },
      "source": [
        "def test_text_prepare():\n",
        "    examples = [\"SQL Server - any equivalent of Excel's CHOOSE function?\",\n",
        "                \"How to free c++ memory vector<int> * arr?\"]\n",
        "    answers = [\"sql server equivalent excels choose function\", \n",
        "               \"free c++ memory vectorint arr\"]\n",
        "    for ex, ans in zip(examples, answers):\n",
        "        if text_prepare(ex) != ans:\n",
        "            return \"Wrong answer for the case: '%s'\" % ex\n",
        "    return 'Basic tests are passed.'"
      ],
      "execution_count": null,
      "outputs": []
    },
    {
      "cell_type": "code",
      "metadata": {
        "id": "E0l0X8eWvblV",
        "colab_type": "code",
        "colab": {
          "base_uri": "https://localhost:8080/",
          "height": 34
        },
        "outputId": "c4cc16f6-f207-43b5-8987-9b90c0c48147"
      },
      "source": [
        "print(test_text_prepare())"
      ],
      "execution_count": null,
      "outputs": [
        {
          "output_type": "stream",
          "text": [
            "Basic tests are passed.\n"
          ],
          "name": "stdout"
        }
      ]
    },
    {
      "cell_type": "markdown",
      "metadata": {
        "id": "14gW4IgOvblZ",
        "colab_type": "text"
      },
      "source": [
        "Run your implementation for questions from file *text_prepare_tests.tsv* to earn the points."
      ]
    },
    {
      "cell_type": "code",
      "metadata": {
        "id": "ZvWQ1UYuvblZ",
        "colab_type": "code",
        "colab": {
          "base_uri": "https://localhost:8080/",
          "height": 102
        },
        "outputId": "e10929fb-eede-4107-abdb-2cb0a729c4c3"
      },
      "source": [
        "prepared_questions = []\n",
        "for line in open('data/text_prepare_tests.tsv', encoding='utf-8'):\n",
        "    line = text_prepare(line.strip())\n",
        "    prepared_questions.append(line)\n",
        "text_prepare_results = '\\n'.join(prepared_questions)\n",
        "\n",
        "grader.submit_tag('TextPrepare', text_prepare_results)"
      ],
      "execution_count": null,
      "outputs": [
        {
          "output_type": "stream",
          "text": [
            "Current answer for task TextPrepare is:\n",
            " sqlite php readonly\n",
            "creating multiple textboxes dynamically\n",
            "self one prefer javascript\n",
            "save php date...\n"
          ],
          "name": "stdout"
        }
      ]
    },
    {
      "cell_type": "markdown",
      "metadata": {
        "id": "Zp5XVWt_vblc",
        "colab_type": "text"
      },
      "source": [
        "Now we can preprocess the titles using function *text_prepare* and  making sure that the headers don't have bad symbols:"
      ]
    },
    {
      "cell_type": "code",
      "metadata": {
        "id": "HWHTrX6kvbld",
        "colab_type": "code",
        "colab": {}
      },
      "source": [
        "X_train = [text_prepare(x) for x in X_train]\n",
        "X_val = [text_prepare(x) for x in X_val]\n",
        "X_test = [text_prepare(x) for x in X_test]"
      ],
      "execution_count": null,
      "outputs": []
    },
    {
      "cell_type": "code",
      "metadata": {
        "id": "l8Xa_oEevblk",
        "colab_type": "code",
        "colab": {
          "base_uri": "https://localhost:8080/",
          "height": 68
        },
        "outputId": "73abbfcd-2d70-46d3-9a87-94c6d7c0a2b8"
      },
      "source": [
        "X_train[:3]"
      ],
      "execution_count": null,
      "outputs": [
        {
          "output_type": "execute_result",
          "data": {
            "text/plain": [
              "['draw stacked dotplot r',\n",
              " 'mysql select records datetime field less specified value',\n",
              " 'terminate windows phone 81 app']"
            ]
          },
          "metadata": {
            "tags": []
          },
          "execution_count": 20
        }
      ]
    },
    {
      "cell_type": "markdown",
      "metadata": {
        "id": "4ip2FVmjvblp",
        "colab_type": "text"
      },
      "source": [
        "For each tag and for each word calculate how many times they occur in the train corpus. \n",
        "\n",
        "**Task 2 (WordsTagsCount).** Find 3 most popular tags and 3 most popular words in the train data and submit the results to earn the points."
      ]
    },
    {
      "cell_type": "code",
      "metadata": {
        "id": "zUZ6UsWBvblq",
        "colab_type": "code",
        "colab": {}
      },
      "source": [
        "from collections import defaultdict\n",
        "\n",
        "\n",
        "# Dictionary of all tags from train corpus with their counts.\n",
        "tags_counts = defaultdict(int)\n",
        "# Dictionary of all words from train corpus with their counts.\n",
        "words_counts = defaultdict(int)\n",
        "\n",
        "######################################\n",
        "######### YOUR CODE HERE #############\n",
        "######################################\n",
        "for text in X_train:\n",
        "  for word in text.split():\n",
        "    words_counts[word] = words_counts[word] + 1\n",
        "\n",
        "for tags in y_train:\n",
        "  for tag in tags:\n",
        "    tags_counts[tag] = tags_counts[tag] + 1"
      ],
      "execution_count": null,
      "outputs": []
    },
    {
      "cell_type": "markdown",
      "metadata": {
        "id": "HPC7TiXuvblu",
        "colab_type": "text"
      },
      "source": [
        "We are assuming that *tags_counts* and *words_counts* are dictionaries like `{'some_word_or_tag': frequency}`. After applying the sorting procedure, results will be look like this: `[('most_popular_word_or_tag', frequency), ('less_popular_word_or_tag', frequency), ...]`. The grader gets the results in the following format (two comma-separated strings with line break):\n",
        "\n",
        "    tag1,tag2,tag3\n",
        "    word1,word2,word3\n",
        "\n",
        "Pay attention that in this assignment you should not submit frequencies or some additional information."
      ]
    },
    {
      "cell_type": "code",
      "metadata": {
        "id": "Yy77__pJvblv",
        "colab_type": "code",
        "colab": {
          "base_uri": "https://localhost:8080/",
          "height": 68
        },
        "outputId": "1f2b8124-9e07-4628-bb87-475a70e2f260"
      },
      "source": [
        "most_common_tags = sorted(tags_counts.items(), key=lambda x: x[1], reverse=True)[:3]\n",
        "most_common_words = sorted(words_counts.items(), key=lambda x: x[1], reverse=True)[:3]\n",
        "\n",
        "grader.submit_tag('WordsTagsCount', '%s\\n%s' % (','.join(tag for tag, _ in most_common_tags), \n",
        "                                                ','.join(word for word, _ in most_common_words)))"
      ],
      "execution_count": null,
      "outputs": [
        {
          "output_type": "stream",
          "text": [
            "Current answer for task WordsTagsCount is:\n",
            " javascript,c#,java\n",
            "using,php,java...\n"
          ],
          "name": "stdout"
        }
      ]
    },
    {
      "cell_type": "markdown",
      "metadata": {
        "id": "0rdKi4jQvblz",
        "colab_type": "text"
      },
      "source": [
        "### Transforming text to a vector\n",
        "\n",
        "Machine Learning algorithms work with numeric data and we cannot use the provided text data \"as is\". There are many ways to transform text data to numeric vectors. In this task you will try to use two of them.\n",
        "\n",
        "#### Bag of words\n",
        "\n",
        "One of the well-known approaches is a *bag-of-words* representation. To create this transformation, follow the steps:\n",
        "1. Find *N* most popular words in train corpus and numerate them. Now we have a dictionary of the most popular words.\n",
        "2. For each title in the corpora create a zero vector with the dimension equals to *N*.\n",
        "3. For each text in the corpora iterate over words which are in the dictionary and increase by 1 the corresponding coordinate.\n",
        "\n",
        "Let's try to do it for a toy example. Imagine that we have *N* = 4 and the list of the most popular words is \n",
        "\n",
        "    ['hi', 'you', 'me', 'are']\n",
        "\n",
        "Then we need to numerate them, for example, like this: \n",
        "\n",
        "    {'hi': 0, 'you': 1, 'me': 2, 'are': 3}\n",
        "\n",
        "And we have the text, which we want to transform to the vector:\n",
        "\n",
        "    'hi how are you'\n",
        "\n",
        "For this text we create a corresponding zero vector \n",
        "\n",
        "    [0, 0, 0, 0]\n",
        "    \n",
        "And iterate over all words, and if the word is in the dictionary, we increase the value of the corresponding position in the vector:\n",
        "\n",
        "    'hi':  [1, 0, 0, 0]\n",
        "    'how': [1, 0, 0, 0] # word 'how' is not in our dictionary\n",
        "    'are': [1, 0, 0, 1]\n",
        "    'you': [1, 1, 0, 1]\n",
        "\n",
        "The resulting vector will be \n",
        "\n",
        "    [1, 1, 0, 1]\n",
        "   \n",
        "Implement the described encoding in the function *my_bag_of_words* with the size of the dictionary equals to 5000. To find the most common words use train data. You can test your code using the function *test_my_bag_of_words*."
      ]
    },
    {
      "cell_type": "code",
      "metadata": {
        "id": "zy42R00hvbl0",
        "colab_type": "code",
        "colab": {}
      },
      "source": [
        "DICT_SIZE = 5000\n",
        "\n",
        "####### YOUR CODE HERE #######\n",
        "INDEX_TO_WORDS = sorted(words_counts.keys(), key = lambda x: words_counts[x], reverse = True)[:DICT_SIZE]\n",
        "\n",
        "####### YOUR CODE HERE #######\n",
        "WORDS_TO_INDEX = {word: i for i, word in enumerate(INDEX_TO_WORDS)}\n",
        "\n",
        "ALL_WORDS = WORDS_TO_INDEX.keys()\n",
        "\n",
        "\n",
        "def my_bag_of_words(text, words_to_index, dict_size):\n",
        "    \"\"\"\n",
        "        text: a string\n",
        "        dict_size: size of the dictionary\n",
        "        \n",
        "        return a vector which is a bag-of-words representation of 'text'\n",
        "    \"\"\"\n",
        "    result_vector = np.zeros(dict_size)\n",
        "    ######################################\n",
        "    ######### YOUR CODE HERE #############\n",
        "    ######################################\n",
        "    for word in text.split():\n",
        "        if word in words_to_index:\n",
        "            result_vector[words_to_index[word]]+=1\n",
        "\n",
        "\n",
        "    return result_vector"
      ],
      "execution_count": null,
      "outputs": []
    },
    {
      "cell_type": "code",
      "metadata": {
        "id": "AxB5ypryvbl3",
        "colab_type": "code",
        "colab": {}
      },
      "source": [
        "def test_my_bag_of_words():\n",
        "    words_to_index = {'hi': 0, 'you': 1, 'me': 2, 'are': 3}\n",
        "    examples = ['hi how are you']\n",
        "    answers = [[1, 1, 0, 1]]\n",
        "    for ex, ans in zip(examples, answers):\n",
        "        if (my_bag_of_words(ex, words_to_index, 4) != ans).any():\n",
        "            return \"Wrong answer for the case: '%s'\" % ex\n",
        "    return 'Basic tests are passed.'"
      ],
      "execution_count": null,
      "outputs": []
    },
    {
      "cell_type": "code",
      "metadata": {
        "id": "9cgrgr5xvbl7",
        "colab_type": "code",
        "colab": {
          "base_uri": "https://localhost:8080/",
          "height": 34
        },
        "outputId": "a85fd56b-abb4-4892-d367-31277d4e6ce4"
      },
      "source": [
        "print(test_my_bag_of_words())"
      ],
      "execution_count": null,
      "outputs": [
        {
          "output_type": "stream",
          "text": [
            "Basic tests are passed.\n"
          ],
          "name": "stdout"
        }
      ]
    },
    {
      "cell_type": "markdown",
      "metadata": {
        "id": "taHCzuxdvbmA",
        "colab_type": "text"
      },
      "source": [
        "Now apply the implemented function to all samples (this might take up to a minute):"
      ]
    },
    {
      "cell_type": "code",
      "metadata": {
        "id": "7rcuOvDlvbmB",
        "colab_type": "code",
        "colab": {}
      },
      "source": [
        "from scipy import sparse as sp_sparse"
      ],
      "execution_count": null,
      "outputs": []
    },
    {
      "cell_type": "code",
      "metadata": {
        "id": "hZVUTp3EvbmF",
        "colab_type": "code",
        "colab": {
          "base_uri": "https://localhost:8080/",
          "height": 68
        },
        "outputId": "33fd848e-023b-4875-e933-bcfcddf5f1fe"
      },
      "source": [
        "X_train_mybag = sp_sparse.vstack([sp_sparse.csr_matrix(my_bag_of_words(text, WORDS_TO_INDEX, DICT_SIZE)) for text in X_train])\n",
        "X_val_mybag = sp_sparse.vstack([sp_sparse.csr_matrix(my_bag_of_words(text, WORDS_TO_INDEX, DICT_SIZE)) for text in X_val])\n",
        "X_test_mybag = sp_sparse.vstack([sp_sparse.csr_matrix(my_bag_of_words(text, WORDS_TO_INDEX, DICT_SIZE)) for text in X_test])\n",
        "print('X_train shape ', X_train_mybag.shape)\n",
        "print('X_val shape ', X_val_mybag.shape)\n",
        "print('X_test shape ', X_test_mybag.shape)"
      ],
      "execution_count": null,
      "outputs": [
        {
          "output_type": "stream",
          "text": [
            "X_train shape  (100000, 5000)\n",
            "X_val shape  (30000, 5000)\n",
            "X_test shape  (20000, 5000)\n"
          ],
          "name": "stdout"
        }
      ]
    },
    {
      "cell_type": "markdown",
      "metadata": {
        "id": "0KRWCGhVvbmI",
        "colab_type": "text"
      },
      "source": [
        "As you might notice, we transform the data to sparse representation, to store the useful information efficiently. There are many [types](https://docs.scipy.org/doc/scipy/reference/sparse.html) of such representations, however sklearn algorithms can work only with [csr](https://docs.scipy.org/doc/scipy/reference/generated/scipy.sparse.csr_matrix.html#scipy.sparse.csr_matrix) matrix, so we will use this one."
      ]
    },
    {
      "cell_type": "markdown",
      "metadata": {
        "id": "vAiJ4vhMvbmJ",
        "colab_type": "text"
      },
      "source": [
        "**Task 3 (BagOfWords).** For the 11th row in *X_train_mybag* find how many non-zero elements it has. In this task the answer (variable *non_zero_elements_count*) should be an integer number, e.g. 20."
      ]
    },
    {
      "cell_type": "code",
      "metadata": {
        "id": "Gh2v5wICvbmJ",
        "colab_type": "code",
        "colab": {
          "base_uri": "https://localhost:8080/",
          "height": 51
        },
        "outputId": "7ff0c5c6-d69a-49f8-8932-62f2812c0f75"
      },
      "source": [
        "row = X_train_mybag[10].toarray()[0]\n",
        "\n",
        "####### YOUR CODE HERE #######\n",
        "non_zero_elements_count = (row > 0).sum()\n",
        "\n",
        "grader.submit_tag('BagOfWords', str(non_zero_elements_count))"
      ],
      "execution_count": null,
      "outputs": [
        {
          "output_type": "stream",
          "text": [
            "Current answer for task BagOfWords is:\n",
            " 7...\n"
          ],
          "name": "stdout"
        }
      ]
    },
    {
      "cell_type": "markdown",
      "metadata": {
        "id": "0dUV6I7nvbmM",
        "colab_type": "text"
      },
      "source": [
        "#### TF-IDF\n",
        "\n",
        "The second approach extends the bag-of-words framework by taking into account total frequencies of words in the corpora. It helps to penalize too frequent words and provide better features space. \n",
        "\n",
        "Implement function *tfidf_features* using class [TfidfVectorizer](http://scikit-learn.org/stable/modules/generated/sklearn.feature_extraction.text.TfidfVectorizer.html) from *scikit-learn*. Use *train* corpus to train a vectorizer. Don't forget to take a look into the arguments that you can pass to it. We suggest that you filter out too rare words (occur less than in 5 titles) and too frequent words (occur more than in 90% of the titles). Also, use bigrams along with unigrams in your vocabulary. "
      ]
    },
    {
      "cell_type": "code",
      "metadata": {
        "id": "REkT7-MfvbmM",
        "colab_type": "code",
        "colab": {}
      },
      "source": [
        "from sklearn.feature_extraction.text import TfidfVectorizer"
      ],
      "execution_count": null,
      "outputs": []
    },
    {
      "cell_type": "code",
      "metadata": {
        "id": "Bo8Rv7IqvbmP",
        "colab_type": "code",
        "colab": {}
      },
      "source": [
        "def tfidf_features(X_train, X_val, X_test):\n",
        "    \"\"\"\n",
        "        X_train, X_val, X_test — samples        \n",
        "        return TF-IDF vectorized representation of each sample and vocabulary\n",
        "    \"\"\"\n",
        "    # Create TF-IDF vectorizer with a proper parameters choice\n",
        "    # Fit the vectorizer on the train set\n",
        "    # Transform the train, test, and val sets and return the result\n",
        "    \n",
        "     ####### YOUR CODE HERE #######\n",
        "    tfidf_vectorizer = TfidfVectorizer(min_df=5,max_df =0.8, ngram_range =(1,2),token_pattern ='(\\S+)')\n",
        "    \n",
        "    ######################################\n",
        "    ######### YOUR CODE HERE #############\n",
        "    ######################################\n",
        "    tfidf_vectorizer.fit(X_train)\n",
        "    X_train = tfidf_vectorizer.transform(X_train)\n",
        "    X_val = tfidf_vectorizer.transform(X_val)\n",
        "    X_test = tfidf_vectorizer.transform(X_test)\n",
        "\n",
        "    return X_train, X_val, X_test, tfidf_vectorizer.vocabulary_"
      ],
      "execution_count": null,
      "outputs": []
    },
    {
      "cell_type": "markdown",
      "metadata": {
        "id": "adTVHr4YvbmT",
        "colab_type": "text"
      },
      "source": [
        "Once you have done text preprocessing, always have a look at the results. Be very careful at this step, because the performance of future models will drastically depend on it. \n",
        "\n",
        "In this case, check whether you have c++ or c# in your vocabulary, as they are obviously important tokens in our tags prediction task:"
      ]
    },
    {
      "cell_type": "code",
      "metadata": {
        "id": "GjwUSJRevbmU",
        "colab_type": "code",
        "colab": {}
      },
      "source": [
        "X_train_tfidf, X_val_tfidf, X_test_tfidf, tfidf_vocab = tfidf_features(X_train, X_val, X_test)\n",
        "tfidf_reversed_vocab = {i:word for word,i in tfidf_vocab.items()}"
      ],
      "execution_count": null,
      "outputs": []
    },
    {
      "cell_type": "code",
      "metadata": {
        "id": "pex_4lhyvbmY",
        "colab_type": "code",
        "colab": {
          "base_uri": "https://localhost:8080/",
          "height": 88
        },
        "outputId": "d3b08666-9b4f-469d-ee52-7772e16b7992"
      },
      "source": [
        "######### YOUR CODE HERE #############\n",
        "print(\"c#\" in set(tfidf_reversed_vocab.values()))\n",
        "print(\"c++\" in set(tfidf_reversed_vocab.values()))\n",
        "print(set(tfidf_reversed_vocab.values()))"
      ],
      "execution_count": null,
      "outputs": [
        {
          "output_type": "stream",
          "text": [
            "True\n",
            "True\n",
            "{'firewall', 'r datatable', 'random value', 'received memory', 'nsregularexpression', 'multiple input', 'play', 'uiview', 'mode', 'standard time', 'managing', 'method within', 'alphabets', 'cakephp 3', 'followed', 'java process', 'construct', 'three', 'attachment', 'set date', 'grand', 'consolelog', 'python', 'custom login', 'context menu', 'execute java', 'copy file', 'type inference', 'c# async', 'event firing', '_get', 'javascript html5', 'data pandas', 'ascii string', 'hibernate error', 'set selected', 'list lists', 'as3', 'rails could', 'item listview', 'convert strings', 'specific key', 'nested models', 'using mockito', 'conversion error', 'px', 'sources', 'calculate number', 'macros', 'volatile', 'give error', 'recognition', 'lua c', 'wrapping text', 'separators', 'webservice using', 'line', 'resource boolean', 'actually', 'ionic 2', 'hangman', 'memory location', 'change selected', 'text within', 'return result', 'refused', 'different servers', 'shell command', 'shell', 'jquery get', 'data website', 'form app', 'screenshot', 'ldap authentication', 'change label', 'greater', 'viewdidload', 'named', 'success', 'files without', 'ipv4', 'getting html', 'trim', 'using opencv', '#2', 'intensive', 'data table', 'zip code', 'netbeans project', 'variable within', 'capistrano', 'array via', 'javascript dynamic', 'change background', 'qwidget', 'parameters function', 'stored mysql', 'arguments passed', 'datagridview data', 'allocating', 'pages using', 'error c++', 'onload', 'insert date', 'aspx', 'rails convert', 'statement java', 'given date', 'php application', 'box vbnet', 'url without', 'file via', 'play framework', 'c++ functions', 'package', 'errno', 'read property', 'parent element', 'macosx', 'phpexcel read', 'advantage using', 'method takes', 'textures', 'add button', 'custom objects', 'always', 'heatmap', 'geometry', 'member function', 'syntax', 'usercontrol', 'depending', 'makefiles', 'compare two', 'dd yyyy', 'compute', 'objective', 'button using', 'using anonymous', 'allowing', 'validation javascript', 'data controller', 'object property', 'view without', 'detect whether', 'bound datagridview', 'predict', 'effect using', 'platform independent', 'access nested', 'frame another', 'jquery submit', 'jaxws', 'max length', 'retrieving data', 'number given', 'data files', 'empty object', 'google pie', 'string entity', 'seo friendly', 'swf', 'c++ object', 'adding two', 'stuff', 'symbols architecture', 'string objects', 'asp', 'first character', 'clean', 'bootstrap navbar', 'find item', 'event aspnet', 'partial view', 'initialized error', 'seleniumwebdriver', 'transaction', 'tick', 'reading location', 'ggplot2', 'app icon', 'python cannot', 'values datatable', 'parameters url', 'database field', 'webdriver python', 'key name', 'clicks button', 'last word', 'hash', 'conditionals', 'games', 'call static', 'bits', 'jsp el', 'suppressing', 'exchange', 'int base', 'point number', 'select specific', 'xml response', 'symbol found', 'change dropdown', 'subprocesspopen', 'reference java', 'row using', 'file directory', 'unbound', 'function working', 'bundle', 'files php', 'crop image', 'unresolved externals', 'data grid', 'junit 4', 'result null', '1', 'connection client', 'decimal place', 'request method', 'uiviews', 'zindex', 'execute', 'unittest', 'gzip', 'php mvc', 'check version', 'specific object', 'jquery', 'ran', 'javascript uncaught', 'invalid value', 'submits', 'cell editing', 'title', 'arc', 'changing values', 'load class', 'many rows', 'sapui5', 'method parameter', 'switch statement', 'service calls', 'windowprint', 'error inflating', 'xml parser', 'occasionally', 'set input', 'eval function', 'decorator', 'static block', 'r plots', 'add text', 'determine current', 'mysqli_query expects', 'pil', 'use foreach', 'file load', 'least one', 'large csv', 'nonui', 'c# regular', 'doxygen', 'twig', 'link click', 'variables values', 'extension', 'test whether', 'direct access', 'get youtube', 'concatenate two', 'content using', 'using json', 'forced', 'unload', 'confirmation', 'href links', 'function button', 'autocomplete', 'least 2', 'using recursion', 'stl vector', 'dom object', 'taskrun', 'based users', 'decrement', 'process', 'something else', 'tabitem', 'typeerror str', 'flash movie', 'listening', 'bins', 'message page', 'mysqli prepared', 'jackson json', 'window open', 'check image', 'php using', 'ruby python', 'foreign keys', 'merge multiple', 'django custom', 'typeerror unsupported', 'ints', 'div jquery', 'fade', 'outofmemory exception', 'offline', 'custom google', 'use method', 'appdelegate', 'rows', 'pointer member', 'display current', 'values specific', 'real device', 'error saving', 'parameter using', 'afnetworking', 'x position', 'cell selection', 'character python', 'button press', 'provided', 'listeners', 'x coordinates', 'api service', 'table python', 'parameters c#', 'javascript sort', 'specific time', 'tiff', 'files like', 'base class', 'maven eclipse', 'miles', 'rgb values', 'webapi', 'dynamically creating', 'drop using', 'vbscript', 'web application', 'google places', 'jquery tabs', 'redis', 'task', 'using image', 'nspredicate', '54', 'date formatting', 'double string', 'python set', 'single cell', 'string time', 'date object', 'polygons', 'select values', 'restart', 'list function', 'output error', 'attachments', 'sqlite query', 'convert float', 'newest', 'int c#', 'null given', '127', 'submit html', 'disable click', 'android studio', 'website php', 'secret', 'parameter', 'timed', 'git', 'gmap', 'string numbers', 'dependency property', 'show list', 'add extra', 'allocated', 'array object', 'levels', 'file swift', 'unless', 'forms page', 'enough space', 'pdf image', 'function value', 'long java', 'eventlistener', 'mule', 'values unpack', 'appending', 'form c#', 'lists', '64 bit', 'elements type', 'installing', 'home', 'response php', 'hover click', 'array json', 'meta', 'api working', 'click link', 'work ajax', 'inside object', 'scratch', 'database schema', 'generate', 'json strings', 'get x', 'keyboard', 'qt c++', 'using apache', 'retina', 'file sql', 'button background', 'codeigniter active', 'csv python', 'django templates', 'dataframe using', 'unsafe', 'table inheritance', 'javascript time', 'file django', 'find length', 'transitions', 'undo', 'type parameter', 'virtual functions', 'wrong code', 'unnecessary', 'new column', 'jscript', 'javascript access', 'get next', 'parameter valid', 'dialog based', 'nonstatic field', 'html body', 'classpath', 'qualifiers', 'slidetoggle', 'child processes', 'c++ string', 'using statement', 'buildxml', 'return correct', 'spring dependency', 'viewstate', 'method get', 'remove text', 'row selection', 'detect touch', 'simulator', 'function doesnt', 'linux windows', 'needed', 'python data', 'event trigger', 'ios', 'file path', 'binding set', 'error resource', 'cron', 'end url', 'changes', 'side side', 'python regex', 'using xdocument', 'primefaces datatable', 'lxmlhtml', 'color based', 'xaml c#', 'procedure', 'annotation', 'string python', 'way search', 'content html', 'auto_now_add', 'dynamic menu', 'search text', 'config file', 'auto fill', 'almost', 'merge two', 'find replace', 'typo3', 'gcc', 'inserting node', 'digits decimal', 'top level', 'get event', 'long int', 'pointer pointer', 'input function', 'msg', 'integrity', 'input storing', 'item using', 'application server', 'accents', 'model class', 'loop', 'use angular', 'expiration', 'fabricjs', 'eloquent', 'constructor destructor', 'beautiful soup', 'test cases', 'login page', 'ajax rails', 'xpath query', 'cassandra', 'inside panel', 'id name', 'index column', 'annotated', 'disable default', 'jquery live', 'usercontrols', 'play video', 'display multiple', 'responds', 'within function', 'attach', 'pushviewcontroller', 'object value', 'html files', 'page control', 'help creating', 'hibernate annotations', 'robot', 'client socket', 'inmemory', 'substring', 'custom java', 'use regex', 'delete duplicate', 'war', 'week', 'property value', 'json key', 'auto increment', 'use custom', 'rails 41', 'wpf usercontrol', 'dictionary c#', 'rails rake', 'lines text', 'pass variable', 'values checkbox', '4', 'invalidate', 'set height', 'jsonresult', 'redirect form', 'hashmaps', 'php _server', 'ui thread', 'sqlite', 'user', 'file another', 'php 54', 'member', 'tomcat', 'specific string', 'get request', 'selected value', 'html5 drag', 'find largest', 'bootstrap datetimepicker', 'facebook login', 'needs', 'enter', 'parseint', 'ascii table', 'java selenium', 'window form', 'value datatable', 'spy', 'glsl', 'uibuttons', 'public constructor', 'paperclip', 'python use', 'sorting', 'exc_bad_access', 'datagridview row', 'way test', 'put data', 'find object', 'attempt', 'tile', 'type exception', 'property id', 'systeminvalidoperationexception', 'c++ passing', 'remove delete', 'executable jar', 'python writing', 'date c#', 'add rows', 'overwrite', 'alfresco', 'last row', 'api javascript', 'ubuntu', 'service returning', 'value 0', 'checker', 'file pdf', 'server application', 'data local', 'positions', 'every 5', 'name file', 'ruby sinatra', 'adding elements', 'showing properly', 'change class', 'update values', 'validation message', 'load main', 'sign', 'check integer', 'arguments', 'description', 'use java', 'static file', 'apache2', 'access url', 'printer', 'swap two', 'portion', 'extract', 'forloop', 'select first', 'function variable', 'protection', 'constructor class', 'windowopen', 'captured', 'allocation', 'passing char', 'bind datatable', 'consolereadline', 'jquery disable', 'pdf php', 'array ruby', '0s', 'work python', 'csv using', 'python beautifulsoup', 'upload data', 'credentials', 'utf', 'string given', 'included', 'database data', 'command working', 'manual corresponds', 'dice', 'temporarily', 'file names', 'tweets', 'using data', 'make background', 'using angularjs', 'permission', 'refreshing page', 'fit', 'colored', 'bean named', 'default page', 'toast', 'net web', 'usercontrol button', 'accessing', 'part path', 'error use', 'right left', 'name list', 'jquery datatables', 'time date', 'nonlinear', 'objects one', 'latin1', 'javascript based', 'post value', 'copy', 'rbind', 'implementing serializable', 'insert statement', 'optimization', 'height', 'called multiple', 'find number', 'drag drop', 'interface c#', 'uialertview', 'change html', 'loader', 'pop', 'modelform', '_post', 'link new', 'much slower', 'search using', 'blog', 'characters', 'last modified', 'appconfig file', 'dotted', 'ruby class', 'timeout error', 'value controller', 'servlets', 'render json', 'tableviewcell', 'php table', 'nhibernate mapping', 'inside function', 'lxml xpath', 'passing parameter', 'trycatch block', 'class template', 'signs', 'mappings', 'find closest', 'android project', 'upload progress', 'connection string', 'uploading multiple', 'created_at', 'query c#', 'get set', 'datagridview cells', 'uwp', 'xslt', 'preventing', 'recreate', 'listviewitem', '307', 'raises', 'make django', 'get div', 'getting number', 'somewhere', 'java data', 'long double', 'interprocess communication', 'pass object', 'regardless', 'populate listview', 'arrange', '+ hibernate', 'email gmail', 'change input', 'stray', 'creating custom', 'generate pdf', 'execute sql', 'arrays c++', 'inside div', 'mysql stored', 'hello world', 'feeds', 'image base64', 'using ant', 'directed', 'date day', 'testing', 'tag value', 'illegal characters', 'md5 hash', 'button_to', 'use loop', 'rest client', 'token error', 'change windows', 'war file', 'remove key', 'inside html', 'childs', 'thumbnail', 'actionviewtemplateerror', 'vs python', 'textbox using', 'designer', 'converted string', 'combobox c#', 'text widget', 'resttemplate', 'jersey rest', 'c++11', 'parentchild', 'columnwise', 'date jquery', 'custom control', 'socket programming', 'getting text', 'using code', 'grails', 'external page', 'multiple child', 'control value', 'keeping', 'change function', 'accessing variable', 'cron job', 'name parameter', 'javascript api', 'exceeds', 'app heroku', 'palindrome', 'elements array', 'password validation', 'item object', 'uncaught typeerror', '75', 'php delete', 'patterns', 'convert parameter', 'php variable', 'objectmapper', 'validate user', 'css js', 'php cron', 'kwargs', 'localize', 'parameter 1', 'best approach', 'frequency', 'opengl c++', 'guess', 'inside updatepanel', 'globalasax', 'callout', 'ajax return', 'negative numbers', 'deck cards', 'error 500', 'import error', 'session cookie', 'via javascript', 'query sql', 'backup', 'warn', 'picturebox', 'find class', 'bin ld', 'comments', 'unordered_map', 'c++ pointer', 'carray', 'hql', 'recursive function', 'form data', 'name class', 'stuck', 'includes', 'react +', 'committed', 'incompatible', 'good open', 'android custom', 'programming', 'checkout', 'wait till', 'implicit conversion', 'callable', 'sample code', 'ms', 'encodings', 'compiler errors', 'adonet', 'distinguish', 'feedback', 'german', 'occurred gdi+', 'base classs', 'session destroy', 'php without', 'await', 'unmarshalling', 'vice', 'table cell', 'playframework', 'keep getting', 'could execute', 'always return', 'fulltext', 'redirect another', 'multiple models', 'function using', 'java error', 'image control', 'type struct', 'check see', 'duplicating', 'react component', 'multiple times', 'wont find', 'new one', 'run eclipse', 'unknown type', 'eager', 'char array', 'multiple javascript', 'execute query', 'webbrowser control', 'regex parse', 'deploy', 'file visual', 'sending post', 'python image', 'responses', 'expected', 'values one', 'systemexit', 'class file', 'nested array', 'validate email', 'backbone view', 'knockout', 'dynamic object', 'data label', 'iis server', 'google chrome', 'win32 application', 'datetimes', 'data external', 'restriction', 'one button', 'unterminated string', 'dashes', 'ancestor', 'textbox value', 'php sql', 'clipping', 'deeply nested', 'linker error', 'unresolved', 'portable', 'c# aspnet', 'subqueries', 'object jquery', 'variable name', 'lua', 'custom authentication', 'bitwise operators', 'iframe javascript', 'coordinate', 'nosuchmethodexception', 'store data', 'element arraylist', 'atomic', 'server client', 'data type', 'based select', 'cell', '#object', 'us', 'dynamic content', 'backbone marionette', 'firefox chrome', 'unique id', 'toggling', 'linq group', 'read multiple', 'differs', 'first two', 'check box', 'jar', 'datastore', 'insertion', 'good bad', 'ios 6', 'local', 'length undefined', 'overload', 'text 2', 'silently', 'itemssource', 'databases', 'page chrome', 'stored', 'devise', 'value null', 'twitter user', 'search box', 'c#s', 'templating', 'angularjs ngclick', 'dynamically javascript', 'cocoa app', 'branch', 'google protocol', 'java path', 'framework 20', 'edition', 'keyboard events', 'detect window', 'element inside', '403', 'url validation', 'multiple checkboxes', 'invalid', 'new record', 'parallel', 'subscriptable', 'data via', 'browserify', 'never', 'met', 'script working', 'throws', 'using vbnet', 'c++ include', 'lxml', 'python matplotlib', 'multiple lists', 'awt', 'attack', 'throwing exception', 'rest services', 'self', 'wont start', 'want use', '192', 'object key', 'script run', 'within class', 'set session', 'multiple versions', 'float object', 'current active', 'delimited text', 'elements java', 'svg file', 'value checkbox', 'characters javascript', '3 app', 'deadlock', 'form database', 'point using', 'internal', 'escape characters', 'mocking', 'input value', 'first time', 'prototype method', 'specific line', 'demo', 'convert double', 'number generator', 'footer', 'whenever', 'securely', 'django use', 'read text', 'mongodb', 'taking long', 'message server', 'custom module', 'normally', 'selected items', 'existence', 'implementation', 'got', 'encryption decryption', 'working using', 'concatenate str', 'opensource', 'object ruby', 'return data', 'entitymanager', 'view within', 'upon', 'parameter controller', 'api error', 'new string', 'one array', 'chromedriver', 'queue', 'rule', 'im trying', 'databound', '18', 'php multidimensional', 'file codeigniter', 'servicestack', 'project visual', 'database java', 'api return', 'data r', 'prefixes', 'zurb foundation', 'js sdk', 'onetomany relationship', 'object expected', 'executes', 'http proxy', 'xml parsing', 'alamofire swift', 'afterwards', 'increment decrement', 'interactive', 'button submit', '21', 'logins', 'vars', 'want show', 'uploaded file', 'java send', 'community', 'facebook', 'value specific', 'nsuserdefaults', 'lost', 'configuration section', 'generate soap', 'console app', 'get count', 'guis', 'display icon', 'dynamic image', 'specific class', 'const int', 'php array', 'routesrb', 'seperate', 'non static', 'control parent', 'empty data', 'reset form', 'folder', 'access properties', 'return index', 'utc time', 'ordering', 'api calls', 'simple way', 'permissions', 'exception handling', 'fwrite', 'triggers', 'sscanf', 'xlsx file', 'shows', 'upgrading', 'trouble using', 'helpers', 'movement', 'variables java', 'datacontext', '_post values', 'cookie', 'simultaneously', 'ui grid', 'vectorstring', 'invoke method', 'sync', 'curl post', 'fault', 'javascript doesnt', 'swap', 'expected expression', 'macho linker', 'programmatically c#', 'injection attack', 'function reference', 'word count', 'connect smtp', 'array_search', 'app windows', 'code eclipse', 'generic types', 'code string', 'geolocation', 'php5', 'using entity', 'add array', 'get max', 'compile c++', 'wasnt', 'jquery change', 'serialize c#', 'date datetime', 'value array', 'subfolders', 'city', 'median', 'recognizing', 'appengine', 'get user', 'arrays mysql', 'page loads', 'values combobox', 'number range', 'php setting', 'selected checkbox', 'add div', 'java detect', 'application c#', 'becomes', 'traversing', 'symfony', 'grid lines', 'java version', 'stored database', 'pojo', 'javascript show', 'sound', 'php includes', 'sprintf', 'indent', 'database query', 'script command', 'autowire', 'multiple different', 'using different', 'type template', 'iterator', 'etc', 'data stored', 'passing json', 'different actions', 'shopping', 'plugin work', 'dbseed', 'selected rows', 'r code', 'display result', 'array c#', 'has_many relationship', 'file uploader', 'file already', 'two classes', 'variable values', 'remove characters', 'per day', 'pdf page', 'defaults', 'rails gem', 'mvc app', 'column based', 'invariant', 'injection', 'compressing', 'arraylist objects', 'get specific', 'multithreading', 'method return', 'variable session', 'database connection', 'specific attribute', 'autoscroll', 'page codeigniter', 'operator cannot', 'using java', 'posts', 'access local', 'cygwin', 'stdstring', 'jython', 'attribute aspnet', 'suitable', 'c++ compiler', 'new variable', 'using class', 'optional parameters', 'multiple parameters', 'sql update', 'service', 'jquery add', 'mkmapview', 'elastic search', 'ibaction', 'method vs', 'referenced assignment', 'dynamically using', 'transpose', 'csv mysql', 'difference two', 'spring bean', 'usr local', 'returning false', 'get url', 'display div', 'use spring', 'localhost8080', 'type swift', 'json output', 'parent page', 'child process', 'objects using', 'object creation', 'javascript loading', 'file multiple', 'list comprehension', 'constraint fails', 'clearing', 'files eclipse', 'app crash', 'query java', 'ioc', 'debugging', 'running background', 'uibarbuttonitem', 'mixing', 'jsp javascript', 'passenger', 'add external', 'specific cell', 'preflight', 'version control', 'done', 'worker', 'error creating', 'send javascript', 'callback function', 'importing', 'way format', 'zeros', 'value c', 'selector', 'sass', 'field without', 'report viewer', 'none python', 'generic parameter', 'cordova', 'extends', 'catch block', 'default controller', 'fields django', '5', 'overrides', 'joda datetime', 'jasmine test', 'date format', 'image library', 'calling web', 'android webview', 'outside form', 'stream file', 'jars', 'remove specific', 'showing', 'html inside', 'url rewrite', 'php working', 'call aspnet', 'ui datepicker', 'orgjsonjsonexception', 'source file', 'missing using', 'img', 'executenonquery', 'c# like', 'read socket', 'puzzle', 'toolsjar', 'new element', 'using objective', 'send xml', 'skip first', 'search api', 'attributeerror list', 'close', 'python removing', 'duplicate keys', 'step', 'error python', 'use c', 'manage multiple', 'array vs', 'navigation drawer', 'finding common', 'tcp client', 'childnodes', 'util', 'extracting', 'converting time', 'apache', 'compiletime', 'session user', 'hide element', 'fscanf', 'c string', 'php syntax', 'another domain', 'studio 2005', 'qt4', 'status', 'framework linq', 'ui', 'upload form', 'body using', 'block', 'string arrays', 'array number', 'count doesnt', 'keeps', 'last inserted', 'post php', 'regex ruby', 'messagesource', 'excel interop', 'vector vs', 'custom events', 'text color', 'calling java', 'json decode', 'az', 'visibility', 'way run', 'c# app', 'page pdf', 'file amazon', '2 decimal', 'c++ member', 'update progress', 'hashing', 'add images', 'done button', 'w', 'regex pattern', 'quickest', 'linked list', 'respond', 'change wpf', 'insert delete', 'earth', 'names', 'parse cloud', 'table column', 'entries', 'unable parse', 'another column', 'php set', 'values inside', 'show image', 'key constraint', 'c using', 'remove spaces', 'mysql_real_escape_string', 'apache php', 'manytomanyfields', 'access database', 'local database', 'interact', 'java nio', 'world', 'subdomains', 'facebook php', 'view controller', 'use twitter', 'function return', 'joda time', 'solution', 'logging module', 'subcategories', 'struts 1', 'change select', 'valueerror', 'select table', 'lower', 'menus', 'api android', 'dictionary value', 'parameters using', 'server localhost', 'webpack', 'optimizing', 'threads', 'dataview', 'ipod', 'r data', 'axis matplotlib', 'nonnullable', 'find method', 'less css', 'java servlets', 'label', 'multilevel', 'run batch', 'bash script', 'horizontal scroll', 'canonical', 'service wont', 'doesnt fire', 'flex', 'draw text', 'mysql ruby', 'indexphp', 'enable button', 'minutes seconds', 'spreadsheet using', 'password', 'similar', 'check boxes', 'insert array', 'display one', 'objectivec protocol', 'submit buttons', 'get windows', 'pass html', 'adding multiple', 'divisible', 'div clicked', 'gaussian', 'external php', 'form post', 'pandas groupby', 'two data', 'window c#', 'library path', 'html java', 'add remove', 'windows azure', 'reuse', 'java double', 'dd', 'proxy authentication', 'appsettings', 'touch event', 'list append', 'separated values', 'onetoonefield', 'set global', 'data api', 'default namespace', 'standard input', 'resolved field', 'mutable', 'display json', 'spa', 'add column', 'passing argument', 'method cannot', 'else statements', 'performed', 'c# reflection', 'check mysql', 'assemblies', 'net 35', 'somehow', 'error warning', 'linq lambda', 'parameter value', 'compiles', 'time php', 'laravel model', 'add edit', 'dynamically change', 'oracle', 'remotely', 'method definition', 'intent', 'get gridview', 'set cookie', 'local machine', 'failed start', 'web pages', 'get query', 'virtual', 'eclipses', 'find row', 'using hibernate', 'html file', 'read csv', 'requiring', 'character array', 'artisan', 'rotate image', 'ffmpeg', 'primitive type', 'date sql', 'remove', 'find average', 'php _post', 'query two', 'shows error', 'contains substring', 'inside another', 'aspnet webservice', 'nuget package', 'prior', 'rails jquery', 'display success', 'use regular', 'list strings', 'instance method', 'issue ie', 'variable object', 'applications', 'next line', 'cannot get', 'cocoa', 'xml text', 'codeigniter using', 'two words', '187', 'gsub', 'sites', 'phone 8', 'play 20', 'file data', 'cleaning', 'utils', 'caseinsensitive', 'org apache', 'change border', 'running junit', 'something', 'attaching', 'class one', 'repaint', 'php check', 'sql database', 'pixels image', 'storing array', 'datagridview cell', '1000', 'occurrence string', 'jackson', 'error chrome', 'legal', 'has_one', 'intersection two', 'selected using', 'connectivity', 'read xml', 'causes error', 'header row', 'collected', 'add table', 'preferred', 'path string', 'spring aop', 'cs files', 'php fatal', '0 key', 'ruby version', 'bot', 'java enums', 'unable instantiate', 'specific item', 'datatemplate', 'error string', 'concurrenthashmap', 'get controls', 'ex', 'idle', 'linq cast', 'result', 'concerns', 'event fire', 'post variables', 'gt', 'cannot find', 'network', 'retrieve values', 'dirty', 'update mysql', 'scanner class', 'list string', 'event fired', 'hibernate query', 'database value', 'python split', 'mongoid', 'multiple tabs', 'resolved type', 'arraylist java', 'file open', 'html checkbox', 'php windows', 'query update', 'previous declaration', 'cannot declare', 'tostring method', 'error lnk2001', 'tick marks', 'files python', 'request using', 'nested exception', 'file format', 'reserve', 'shows blank', 'get values', 'things', 'sprites', 'producer consumer', 'elsewhere', 'add items', 'file html', 'time delay', 'type casting', 'metadata', 'points', 'max value', 'stringify', 'scss', 'custom uiview', 'affected', 'way implement', 'second click', 'express nodejs', 'set values', 'variable number', 'image web', 'convert character', 'using select', 'boolean variable', 'encoding problem', 'rails activerecord', 'error occurred', 'laravel eloquent', 'indexhtml', 'content another', 'malloc', 'check one', 'video', 'answer', 'browser cache', 'return new', 'another servlet', 'across different', 'values table', 'remote server', 'cgrect', 'devise +', 't_variable', 'test class', 'pdf', 'threadingtimer', 'ef', 'error variable', 'error cant', 'without flash', 'android volley', 'selecting item', 'private method', 'commit', 'value integer', 'custom font', 'benefit using', 'classname', 'blob data', 'arraylists', 'warning', 'outofmemoryerror', 'returned error', 'way store', 'ignore', 'curl command', 'framework use', 'pointer type', 'check php', 'java fx', 'send http', 'released', 'regex match', 'different ways', 'database via', 'zend', 'horizontal', 'variable function', 'multiple data', 'cin', 'scoped', 'display table', 'javascript equivalent', 'nonnumeric', 'mysql data', 'stringstream', 'multiline', 'python import', 'support property', 'change position', 'javascript create', 'custom button', 'create constant', 'c++ 2010', 'multiple keys', 'ember', 'jquery ui', 'objects inside', 'help', 'pinch', 'jasper', 'stanford', 'isolated', 'recipients', 'generic method', 'controllers models', 'signed', 'plist', 'c language', 'chars string', 'drop event', 'running application', 'rectangle', 'add custom', 'form submitted', 'inside table', 'type expression', 'xcode 8', 'returns error', 'stamp', 'ordinal', 'multiple records', 'execute function', 'method unit', 'function inside', 'choices', 'class vbnet', 'file vbnet', 'error bars', 'wpf button', 'onclick using', 'r plot', '3rd party', 'add css', 'way save', 'script function', 'response', 'attribute using', 'gcc g++', 'exists mysql', 'wildcards', 'throwing error', 'capabilities', 'merge 2', 'navigation menu', 'iterative', 'user id', 'asmx', 'h1', 'content div', 'samples', 'variable r', 'whole', 'password using', 'wsdl', 'scrolls', 'cart', 'recognized', 'scene builder', 'hresult', 'struct pointer', 'c# regex', 'scanner', 'run bash', 'correlation', 'events', 'const char', 'list c', 'method overriding', 'send session', 'selenium web', 'element another', 'error reading', 'install ruby', 'cpp file', 'unable load', 'ioexception', 'class found', 'gui library', 'new android', 'vb6', 'session object', 'utf8 string', 'work chrome', 'string match', 'simple example', 'python decorator', 'text property', 'variable one', 'nas', 'encoding python', 'prev', 'differentiate', 'html5 canvas', 'remote host', 'dynamic dropdown', 'db php', 'c++ pass', 'returns', 'dataset', 'controlling', 'wpf using', 'words', 'utf8 characters', 'button php', 'angularjs uirouter', 'saved database', 'sort xml', 'present', 'content web', 'record using', 'method without', 'link library', '__getitem__', 'comparing two', 'intersect', 'form django', 'continuing', 'oserror', 'mean stack', 'array specific', 'memory exception', 'element name', 'namespace declaration', 'open pdf', 'v2', 'specific node', 'restricting', 'hashtable', 'touch 2', 'string comma', 'pass parameter', 'refresh div', 'integrity constraint', 'request header', 'complex type', 'page c#', 'axis', 'mvc application', 'switch case', 'sitecore', 'c# loop', 'trying get', 'file linux', 'messages', 'snap', 'another div', '6 beta', '__declspec', 'variable module', 'redirect url', 'readonly', 'trying create', 'slider', 'code android', 'data memory', 'api get', 'queues', 'cant install', 'label using', 'get column', 'child form', 'textfields', 'jsonnet', 'exc_bad_instruction', 'unmanaged c++', 'another jsp', 'hibernate entity', 'mm', 'memory issue', 'index key', 'find installed', 'api response', 'javas', 'could resolved', 'error messages', 'unix timestamp', 'custom message', 'mysql c#', 'lookup', 'private methods', 'webpage using', 'login form', 'prevent sql', 'mainobject', 'invalid argument', 'number c#', 'recommendation', 'javalangnoclassdeffounderror org', 'splitting', 'search multiple', 'submit working', 'upto', 'spaces javascript', 'excel', 'laravel 5', 'gridview header', 'set', 'mailto', 'c++ windows', 'specific id', 'touches', 'relative', 'value property', 'ip', 'phps', 'deploy war', 'create text', 'use group', 'varbinary', 'python remove', 'using two', 'deserialize xml', 'data json', 'hash value', 'current context', 'maximize', 'java print', 'window button', 'send email', 'show error', 'scrolling page', 'decimal value', 'procedure using', 'redirect page', 'c# web', 'four', 'getaddrinfo', 'java +', 'parsing text', 'active directory', 'java regex', 'returns blank', 'struts2', 'android application', 'array contains', 'dynamically jquery', 'canvas image', 'overflow', 'scalable', 'selected item', 'sql insert', 'conversion string', 'save', 'losing', 'confusing', 'shell_exec', 'open source', 'quickest way', 'php codeigniter', 'write text', 'mod', 'using new', 'convention', 'file specific', 'finish', 'builder', 'systemin', 'pointer types', 'list class', 'poi api', 'ruby 200', 'capitan', 'lib', 'initialize array', 'mono', 'fullcalendar', 'taken', 'parent container', 'text fields', 'ideas', 'mm dd', 'wordpress loop', 'input date', 'mouseover mouseout', 'api controller', 'add form', 'get users', 'chrome browser', 'java webservice', 'page refresh', 'populated', 'value reference', 'certain columns', 'stops', 'prevent browser', 'held', 'null value', 'objects class', 'return values', 'mongodb php', 'value inside', 'swift3', 'lotus', 'ternary operator', 'exporting', 'column name', 'comparing strings', 'take input', 'trans', 'c# use', 'via post', 'delete', 'layers', 'authenticate user', 'raspberry pi', 'issue using', 'windows', 'module class', 'remove empty', 'loop inside', 'server response', 'mutually', 'slots', 'cells excel', 'adding values', 'return true', 'sending json', 'html css', 'delete row', 'convert hex', 'brew', 'return key', 'asm', 'ajax requests', 'find symbol', 'javalangclasscastexception', 'hadoop', 'values selected', 'get_or_create', 'server running', '200', 'php', 'constructor function', 'file ruby', 'void method', 'java connect', 'cannot resolve', 'kernel', 'top n', 'code c#', 'sorting algorithm', 'process list', 'thread c#', 'map marker', 'chain', 'php creating', 'native', 'form via', 'direction', 'generating unique', 'single element', 'identity_insert', 'spacing', 'scenario', 'http connection', 'data existing', 'unicode string', 'set get', 'filled', 'python converting', 'method property', 'sheets', 'box c#', 'python getting', 'wise', 'request parameter', 'get application', 'comma separated', 'confirmation message', 'codec', 'filenotfoundexception', 'mimetype', 'windows 10', 'error loading', 'template file', 'ts', 'data array', 'extra column', 'text php', 'username password', 'anchor tag', 'python 27', 'strings php', 'array objects', 'multiple divs', 'possibly', 'time using', 'name java', 'cons', 'python google', 'include path', 'machines', 'attr', 'connect ms', 'double click', 'simple ajax', 'image c#', 'draw image', 'scene', 'api using', 'aspnet page', 'datefromstring', 'shared libraries', 'webgrid', 'broadcast', 'pydev', 'cannot access', 'codefirst', 'case insensitive', 'store', 'flickering', 'interface member', 'accepted', 'runner', 'descriptions', 'framework using', 'memory access', 'object oriented', 'datetime sql', 'intellisense', 'change content', 'setting session', 'form doesnt', 'using javamail', 'using timer', 'sql command', 'new', '2 digit', 'string c#', 'synchronized method', 'using password', 'intended', 'engine datastore', 'previews', 'php ubuntu', 'user root', 'strongly', 'column dataframe', 'bitmap image', 'pl', 'numeric value', 'stringsplit', 'c++ error', 'highcharts', 'webgl', 'dicts', 'last', 'values jquery', 'update query', 'get columns', 'sorting gridview', 'tcp port', 'line number', 'metro style', '25', 'textarea value', 'another site', 'multiple forms', 'javascript dom', 'using autofac', 'function vbnet', 'unable set', 'following error', 'angular controller', 'ember data', 'snippet', 'many values', 'illegalstateexception', 'keys array', 'angularjs form', 'auto', 'indexes', 'using window', 'visual basic', 'stored array', 'run', 'rmi', '5 seconds', 'c++ map', 'difference javascript', 'currency symbol', 'memory warning', 'checkbox checked', 'php apache', 'version', 'imported', 'xib', 'illegal start', 'working internet', 'c# function', 'data java', 'center image', 'object values', 'onclick working', 'string html', 'ipad', 'incompatible type', 'type python', 'show', 'month year', 'output file', 'certain character', 'higher', '1 vs', 'tolist', 'reservation', 'arguments method', 'classifier', 'format sql', 'value return', 'unordered list', 'reading json', 'link function', 'http headers', 'opencart', 'struts2 action', 'within certain', 'query group', 'loop mysql', 'getting class', 'word doc', 'length string', 'asmx web', 'complaining', 'whats use', 'conditional statement', 'two xml', 'killing', 'r error', 'caused', 'number arguments', 'solve error', 'getting value', 'c++ qt', 'rendered', 'characters using', 'java http', 'inside jsp', 'issues', 'standard c++', 'load image', 'rows data', 'data select', 'using much', 'java regular', 'devices', 'curly', 'delegate method', 'javascript alert', 'variable accessible', 'requirejs', 'inserted id', 'strptime', 'html link', 'event change', 'div', 'get rid', 'properties javascript', 'bound', 'aspnet gridview', 'textboxs', 'count elements', 'php format', 'help writing', 'text table', 'whole number', 'ejb3', 'hi', 'relate', 'using win32', 'alloc', 'inherited', 'question', 'd3js', 'implementing', 'yaml file', 'matrix r', 'hovering', 'line 7', 'memory error', 'content inside', 'classnotfoundexception', 'whats wrong', 'cannot select', 'executed', 'delete cookies', 'installation error', 'eval', 'app error', 'standard library', 'master', 'app background', 'function wordpress', 'popup window', 'sleep', 'soap web', 'default constructor', 'one database', 'make javascript', 'box php', 'monitor', 'class element', 'nodejs using', 'object c#', 'php sessions', 'last n', 'word interop', 'cant create', 'mysql query', 'check radio', 'set private', 'using intellij', 'call one', 'use global', 'memory address', 'unwanted', 'docs', 'sum elements', 'nsmutablearray', 'environment', 'check array', 'jasmine', 'display', 'dynamic', 'computation', 'substitute', 'extend', 'cipher', 'centered', 'delete record', 'checking string', 'tableview cell', 'request python', 'user type', 'random numbers', 'migrating', 'format python', 'web browser', 'maven pomxml', 'dynamic web', 'ef 6', 'capture output', 'html entities', 'string list', 'user already', 'defaultdict', 'type char', 'checkedlistbox', 'spring web', 'function callback', 'results php', 'proxy server', 'missing value', 'event work', 'columns values', 'far', 'wpf mvvm', 'assert', 'string jquery', 'file api', 'string special', 'web services', 'native android', 'runtime', 'convert swift', 'uiview animation', 'kendo ui', 'extjs 4', 'dealloc', 'findall', 'android apps', 'populate', 'local html', 'another html', 'passing values', 'remove elements', 'convert timestamp', 'permutations', 'show loading', 'bin', 'nonetype', 'excluding', 'line character', 'infer', 'error object', 'code running', 'different objects', 'class_name', 'jqueryajax', 'function definition', 'long running', 'visible interface', 'ordinal range', 'constructor called', 'download pdf', 'list one', 'doesnt match', 'execution', 'singly linked', 'create instance', 'static', 'profiler', 'parentheses', 'data read', 'using struts', 'latin', 'router', 'constant array', 'springmvc', 'validation failed', 'syntaxerror unexpected', 'date using', 'signals', 'painting', 'drawing line', 'html5 javascript', 'javascript class', 'disposed', 'discrete', 'show content', 'thousands', 'date database', 'load page', 'error converting', 'returning 404', 'uipickerview', 'console input', 'kinect', 'encrypted', 'run windows', 'scenarios', 'first line', 'mainwindow', 'paypal', 'child page', 'typeerror undefined', 'running tomcat', 'soapui', 'determining', 'delete item', 'way check', 'value input', 'error undefined', 'multiple text', 'separated list', 'ascending order', 'date', 'video url', 'nullpointer exception', 'difference static', 'mvvm', 'import name', 'path name', 'listing', 'endpoints', 'javalangnullpointerexception', 'character encoding', 'commandline', 'time range', 'escape sequence', 'filter list', 'inner class', 'servlet', 'php warning', 'winforms c#', 'html source', 'scikitlearn', 'autoincrement', 'directory c#', 'array unknown', 'normalize', 'command', 'empty line', 'svg', 'powershell script', 'safe use', 'calculations', 'cannot null', 'objectivec class', 'match words', 'target', 'dialogs', 'escaping double', 'make use', 'counting number', 'array ids', 'return 2', 'codeigniters', 'build json', 'arraylist', 'function parameters', 'batches', 'generating xml', 'basic', 'recursive', 'convert pdf', 'jetty', 'create sql', 'sensitive', 'drupal 7', 'sprite', 'iframe load', 'drawbacks', 'start stop', 'blocking', 'key javascript', 'php javascript', 'shallow', 'remove html', 'forin', 'pod', 'single query', 'class abstract', 'mulitple', 'modelchoicefield', 'java package', 'convert image', 'autoload', 'able run', 'swift xcode', 'realloc', 'using single', 'using textbox', 'get clicked', 'loads', 'pm', 'really', 'disable submit', '5 vnext', 'booleans', 'retrieving', 'storing retrieving', 'multiple selected', 'windowonbeforeunload', 'implicit declaration', 'instance methods', 'create variable', 'data values', 'cocoapods', 'parent method', 'eclipse kepler', 'text based', 'descriptor', 'pass text', 'binary operator', 'characters textbox', 'table laravel', 'rest service', 'working rails', 'array strings', 'specific rows', 'sql data', 'value based', 'login', 'svg elements', 'calling object', 'sql ce', 'image found', 'number python', 'saving array', 'mysql_fetch_array', 'se', 'cloud code', 'composer', 'error fatal', 'verifying', 'cover', 'drop list', 'drop option', 'java text', 'active class', 'searching', 'hide div', 'gallery', 'use remote', 'wpf grid', 'rounded', 'array dictionaries', 'swift error', 'file android', 'value empty', 'function function', '_files', 'phrases', 'singleton', 'gap', 'connecting database', 'data view', 'error page', 'use opengl', '2 3', 'locationhref', 'superview', 'collection view', '8601', 'aborted', 'source files', 'something went', 'notnull', 'python generate', 'polymer', 'pagination', 'string type', 'sqlserver', 'encode', 'default', '255', 'bootstrap tabs', 'air', 'capturing', 'exchange web', 'formula', 'difference int', 'valid date', 'powershell', 'scope', 'scaffolding', 'intercepting', 'duplicate rows', 'getting current', 'create folder', 'using get', 'numpy python', 'write error', 'access array', 'less equal', 'exception class', 'using format', 'filter data', 'frontend', 'default values', 'loop javascript', 'plugin eclipse', 'main window', 'datagridviews', 'put', 'switch statements', 'select array', 'service controller', 'sort column', 'check object', 'paths return', 'mvn', 'upload', 'matrix python', 'contents html', 'utf8 encoded', 'file_put_contents', 'error two', 'convert xml', 'two', 'window chrome', 'using http', 'magento get', 'type runtime', 'type systemint32', 'using eval', 'java format', 'password protected', 'http https', 'string swift', 'creating dynamic', 'ftp using', 'scroll content', 'unspecified error', 'words string', 'image codeigniter', 'array vbnet', 'incomplete', 'google plus', 'objectforkey', 'databinding', 'uniqid', 'expected exception', 'creator', 'ajax content', 'dataframe based', 'initialise', 'css3', 'international', 'properly use', 'keys dictionary', 'java bean', 'parameter 2', 'files java', 'another using', 'dependencyproperty', 'hour', 'button onclick', 'file descriptor', 'python typeerror', 'reopen', 'subplot', 'create web', 'xml attribute', 'need get', 'python cgi', 'database codeigniter', 'branching', 'dropdownlist', 'crossbrowser', 'cookie value', 'toggle button', 'create tables', 'based content', '403 forbidden', 'prestashop', 'counts', 'python os', 'ifs', 'album', 'htmlagilitypack', 'already loaded', 'get root', 'project android', 'python mechanize', 'statement multiple', 'services', 'thread safe', 'validations', 'digit number', 'form input', 'based another', 'old', 'error could', 'requestquerystring', 'cartesian', 'navigation property', 'struct', 'uploading', 'removing items', 'mysql2 gem', 'viewpager', 'websocket client', 'dashed', 'move files', 'mvc action', 'add image', 'unavailable', 'mamp', 'using try', 'trying add', 'rx', 'tasks', 'running ruby', 'alphanumeric', 'session php', 'purchase', 'file jar', 'uisegmentedcontrol', 'recyclerview', 'net assembly', 'singly', 'text search', 'table columns', 'variables python', 'file objectivec', 'javasqldate', 'modal open', 'using variable', 'get checkbox', 'blob', 'possible', 'window resize', 'field based', 'error connection', 'custom user', 'dynamically load', 'datagrid', 'type allowed', 'value pair', 'application error', 'follows', 'list javascript', 'distinct values', 'calculation', 'backend', 'multiple recipients', 'occurs', 'array list', 'allow users', 'show hide', 'pie chart', 'possible make', 'column value', 'independent', 'get parameters', 'jquery click', '+ javascript', 'div page', 'remember', 'observe', 'compound', 'without root', 'android xml', 'interface abstract', 'xdocument', 'array dictionary', 'python multiprocessing', 'javascript onclick', 'chat using', 'object arraylist', 'porting', 'interface using', 'didselectrowatindexpath', 'jquery like', 'pyspark', 'loading data', 'error unknown', 'object data', 'c++ console', 'construction', 'eclipse console', 'access dom', 'check email', 'typetext', 'current value', 'rectangles', 'c dll', 'running c++', 'relative layout', 'ways', 'linux', 'rownames', 'vagrant', 'php vs', 'setup file', 'pig', 'using jni', 'jquery find', 'map function', '1054', 'boost thread', '1110', 'shared object', 'xls', 'association', 'before_filter', 'display time', 'loaded content', 'set size', 'java using', 'two java', 'even odd', 'get screen', 'observer', 'generated code', 'left operand', 'private data', 'per', 'among', 'simulate click', 'date variable', 'c++ code', 'class declaration', 'suggestion', 'app version', 'twitter using', 'time elapsed', 'handler function', 'x function', 'angularjs error', 'pdf format', 'promise', 'extraction', 'redirect new', 'line php', 'add row', 'make copy', 'takes', 'sqlite database', 'send emails', 'rotated', 'program windows', 'pdo mysql', 'using c++', 'background thread', 'part string', 'tags javascript', 'progress bar', 'without blocking', 'admin site', 'calls', 'ggplot2 plot', 'path using', 'kit', 'json web', 'traversal', 'check internet', 'error uploading', 'using microsoft', 'number elements', 'object', 'angular 2', 'add class', 'light', 'modelspy', 'date date', 'activate', 'php replace', 'sdk', 'display message', 'conditional formatting', 'returning const', 'using mysql', 'nuget', 'django view', 'articles', 'objects python', 'using regexp', 'nested resources', 'always visible', 'highest', 'instantiate', 'query builder', 'loaderror', 'lock', 'triangle', 'descriptors', 'oop', 'add scroll', 'rails use', 'request javascript', 'tcp ip', 'numpy', 'structured', 'youre', 'fread', 'descending order', 'vs static', 'object support', '8 app', 'redirect loop', 'class override', 'delete object', 'ajax post', 'input javascript', 'elements jquery', 'json value', 'ajax php', 'bigger', 'scopes', 'triangles', 'byte arrays', 'js function', 'encryption java', 'graph r', 'date range', 'size limit', 'reverse', 'attribute error', 'whats easiest', 'laravel 4', 'table value', 'autocompletion', 'images folder', 'get system', 'versions', 'googlemaps', 'get tag', '17', 'read properties', 'chartjs', 'program', 'invalid parameter', 'nginclude', 't_string', 'using c#net', 'django request', 'failed instantiate', 'release', 'static functions', 'exception throw', 'equality', 'return object', 'given paths', 'custom view', 'frame r', 'php url', 'rangebased', 'pdf files', 'css', 'typing', 'day week', 'cloud storage', 'inline function', 'form values', 'get mysql', 'response code', 'number characters', 'natural language', 'using paperclip', 'synchronized', 'load', 'using method', 'running multiple', 'certificate', 'lines python', 'rewrite rule', 'attribute __getitem__', 'mvc 6', 'twitter', 'browser', 'listboxitem', 'first occurrence', 'using zend', 'business', 'shipping', 'button c#', 'redirect_uri', 'measuring', 'sqlstate hy000', 'resource id', 'string new', 'multiple source', 'cannot resolved', 'integer java', 'twice', 'card', 'row pandas', 'conf', 'setting default', 'select date', 'pressing', 'stage', 'clexe', 'set list', 'multithreaded environment', 'value parameter', 'matching multiple', 'xaxis labels', 'using laravel', 'javalangillegalstateexception', 'nth occurrence', 'string', 'using pdo', 'column names', 'httpservletresponse', 'chromes', 'const', 'expected argument', 'css3 animation', 'possible ways', 'r package', '1024', 'whilst', 'server php', 'java code', 'way set', 'popen', 'r markdown', 'run android', 'mysql datetime', 'using rails', 'use c#', 'mac', 'within array', 'serializing object', 'cxf', 'windows forms', 'send array', 'click submit', 'modification', 'ajax load', 'execute goal', 'iostream', 'closest', 'error event', 'work like', 'uploaded image', 'button show', 'download using', 'json result', 'data gridview', 'swift', 'configuration files', 'base', 'columns rows', 'recognized valid', 'row values', 'external url', 'link clicked', 'cannot install', 'cuda', 'cython', 'javascript syntax', 'byte array', 'memory size', 'browser window', 'event jquery', 'reversing', 'database mysql', 'add reference', 'shift', 'link text', 'scheduling', 'query database', 'helper functions', 'list dictionaries', 'middleware', 'set java', 'parsecom', 'file form', 'analog', 'convert hexadecimal', 'annotations', 'rails +', 'text files', 'referenceerror function', 'status code', 'alert view', 'programming using', 'image database', 'number parameters', 'equivalents', 'python flask', 'nested elements', 'invoked', 'red', 'mysql2', 'database error', 'speech', 'ensure', 'button inside', 'face', 'playlist', 'javalangoutofmemoryerror java', 'custom cell', 'show progress', 'crm 2011', 'could load', 'unable add', 'seem work', 'ui slider', 'random float', 'stack size', 'using sqlalchemy', 'uisplitviewcontroller', 'remove duplicates', 'two string', 'existing pdf', 'onclick function', 'temporarily disable', 'excel range', 'changed', 'work expected', 'processed', 'java cannot', 'back', 'method static', 'defined file', 'mocked', 'variable value', 'error stack', 'winform application', 'generate xml', 'databind', 'indirectly', 'count', 'php file', 'spanish', 'item another', 'add view', 'zero', 'disposing', 'dataframe index', 'data csv', 'tcp socket', 'functions c', 'cell using', 'values drop', 'value aspnet', 'checking whether', 'convert java', 'qtablewidget', 'accesscontrolalloworigin', 'apply function', 'using url', 'time page', 'referenceerror', 'resize images', 'angular material', 'create table', 'adding data', 'javascript html', 'wp', 'maximum call', 'smtp', 'lowest', 'text div', 'dump', 'using regular', 'anonymous method', 'cleared', 'lefthand', 'sql statements', 'another table', 'cloning', 'property names', 'thread', 'pthreads', 'scheme', 'variable empty', 'datatable column', 'responder', 'emails', 'app running', 'clause using', 'javaxmailmessagingexception', 'meteorjs', 'aspnet code', 'env', 'dao', 'contain constructor', 'groovy', 'codeigniter get', 'use local', 'get button', 'values function', 'static field', 'cant load', 'display different', 'make static', 'module found', 'user authenticated', 'files folder', 'getting object', 'user active', 'liferay', 'multiple functions', 'entity type', 'go', 'subset', 'page ajax', 'slug', 'apples', 'python using', 'java calling', 'value store', 'tables mysql', '+ sql', 'column row', 'framework 41', 'mvvm pattern', 'exactly 2', 'images c#', 'empty element', 'using string', 'values dynamically', 'resize', 'check url', 'button link', 'dynamically create', 'possible create', 'model attribute', 'joomla', 'class definition', 'labels', 'image data', 'array inside', 'files directory', 'folders', 'alternatives', 'item click', 'plus button', 'per second', 'native query', 'version ruby', 'delphi', 'chess', 'scheduler', 'ngroute', 'stdthread', 'xsl', 'sql php', 'replace characters', 'vbnet sql', 'belongs', 'column data', 'gldrawelements', 'save video', 'create tuple', 'assign javascript', 'current windows', 'war files', 'try', 'python list', 'subject', 'qlineedit', 'reference set', 'get data', 'reference member', 'bean type', 'uuid', 'nsurlconnection', 'void', 'parameterless constructor', 'opening required', 'mean java', 'profile', 'caching', 'terminating', 'usable', '2 arguments', 'text link', 'secure connection', 'ngoptions', 'jquery loading', 'object id', 'select jquery', 'unhandled exception', 'pure javascript', '0 1', 'method update', 'error unable', 'much', 'function angularjs', 'cell selected', 'injecting', 'linked', 'multidimensional', 'sha1', '2', 'forms authentication', 'value element', 'find id', 'ruby script', 'log', 'configurable', 'onchange event', 'auto login', 'django project', 'effect', 'largest', 'contexts', 'returning object', 'object model', 'underscores', 'translating', 'http get', 'include jquery', 'set multiple', 'tuple', 'proper way', 'using href', 'mail server', 'make text', 'check file', 'launch', 'using xpath', 'defined class', 'dynamic library', 'c# mvc', 'existing database', 'html5 form', 'string valid', 'empty file', 'frame', 'longer exists', 'affect', 'quiz', 'years', 'set null', 'public', 'widget', 'httpclient', 'parent child', 'mapkit', 'behind', 'tap', 'g++ error', 'anaconda', 'rails controller', 'escape character', 'horizontal scrollbar', 'density', 'postgresql', 'point', 'java find', 'xaml', 'transmit', 'function undefined', 'weekend', 'pros', 'expansion', 'files via', 'send file', 'string vs', 'latitude', 'backgroundposition', 'c++ template', 'way detect', 'suppress', 'assignment operator', 'input focus', 'parenthesis', 'openid', 'object xml', 'button pressed', '404', 'steps', 'merging multiple', 'library', 'adding columns', 'unable insert', 'users facebook', 'client php', 'operations', 'destructor', 'basic net', 'size java', 'import csv', 'onclicklistener', 'scale', 'little endian', 'b', 'colours', 'cant call', 'facebooks', 'observablecollection', 'value string', 'path python', 'boost c++', 'mock object', 'data different', 'distributions', 'value data', 'number 1', 'failed', 'unsupported', 'fill pdf', 'getting rid', 'file reading', 'line break', 'library java', 'specific data', 'print', 'dtype', 'nested json', 'generating random', 'static content', 'upload file', 'jtable cell', 'cannot execute', 'launcher', 'first argument', 'inspect', 'code 0', 'found exception', 'subtracting', 'stackoverflowerror', 'change height', 'bucket', 'see', 'chrome firefox', 'nodejs express', 'function result', 'dynamic table', 'image specific', 'p tags', 'particular div', 'lon', 'string class', 'side javascript', 'installed application', 'onclick javascript', 'timer', 'excel cell', 'working mobile', 'reading xml', 'show alert', 'array single', 'byte', 'returns different', 'connecting remote', 'select field', 'parent window', 'create array', 'setting focus', 'java annotation', 'framework java', 'function expects', 'page reload', 'wont show', 'end file', 'java use', 'automate', 'child object', 'return multiple', 'list directories', 'specific keys', 'lxml python', 'placing', 'event object', 'accurate', 'button within', 'nested hash', 'net application', 'method returns', 'facebook graph', 'top page', 'php string', 'expressjs', 'possible declare', 'create unique', 'two arrays', 'php input', 'radio', 'include header', 'multibyte', 'object type', 'smtp error', 'production server', 'flexible', 'pixel values', 'compact framework', 'post message', 'another computer', 'euler', 'printed', 'xml serialization', 'php problem', 'storing data', 'set error', 'ask', 'possible change', 'business logic', 'work ie', 'toolbox', '422', 'vs string', 'rcp', 'strcmp', 'image text', 'doesnt java', 'nested loops', 'eclipse project', 'create image', 'exact match', 'data user', 'graph', 'delete button', 'soap service', 'two dates', 'anchor link', 'weird error', 'webforms', 'write function', 'stls', 'headers', 'add select', 'castle windsor', 'jsp', 'navigation bar', 'ref', 'date php', 'real time', 'systemtimerstimer', 'database table', 'fileupload', 'otherwise', 'line 2', 'codec cant', 'selection dropdown', 'text button', 'prevents', 'maximum size', 'deeply', 'pass url', 'c#net', 'partially', 'javafx application', '504', 'onfocus', 'user information', 'faster way', 'secured', 'scientific notation', 'nullpointer', 'error 401', 'line using', 'tableviews', 'long', 'change string', 'inside arraylist', 'slice', 'facebook app', 'add onclick', 'sharepoint 2010', 'string except', 'python sqlite', 'call windows', 'using bitwise', 'full', 'css javascript', 'find duplicates', 'spreadsheet', 'calling functions', 'list images', 'one form', 'error invalid', 'phonegap', 'c++ application', 'modes', 'type cannot', 'create dictionary', 'eclipse debugger', 'amounts data', 'success function', 'checkbox', 'select option', 'objects type', 'execution time', 'ec2', 'chrome javascript', '+ java', 'php facebook', 'object php', 'entity data', 'html document', 'new window', 'advance', 'function works', 'object tag', 'mvc project', 'using jsoup', 'google analytics', 'action class', 'get string', 'pending', 'column type', 'position mouse', 'pictures', 'echoing', 'date last', 'room', 'object save', 'directory name', 'aspxgridview', 'line c', 'long text', 'tags php', 'last comma', 'gmail using', 'calculating', 'binding xml', 'dependent libraries', 'string hex', 'codeigniter pagination', 'controller method', 'tail', 'controller action', 'get source', 'check data', 'identifiers', 'ngdisabled', 'dashboard', 'dynamically resize', 'postfix', 'scales', 'back end', 'nsurl', 'mouse events', 'customer', 'floating', 'window resizing', 'work eclipse', 'reinstall', 'cards', 'set encoding', 'python 34', 'pandas merge', 'involving', 'coverage', 'apache spark', 'searches', 'yahoo', 'gemfile', 'markers', 'value database', 'texture', 'implement java', 'default value', 'disable form', 'kendoui', 'set image', 'encoded', 'bold text', 'reveal', 'unexpected eof', 'route', 'cant run', 'extension method', 'container', 'jquery js', 'make div', 'use enum', 'use struct', 'character input', 'idiomatic', 'python create', 'error opening', 'data file', 'fn', 'view iphone', 'php simple', 'dynamic linq', 'image inside', 'hardware', 'base classes', 'assign variable', 'export excel', 'using grid', 'opacity', 'dismiss', 'column using', 'iframe page', 'ie 7', 'x64', 'error failed', 'item list', 'swing', 'get enum', 'two divs', 'class constructor', 'flip', 'set variable', 'controller', 'take', 'get height', 'file angularjs', 'smarty', 'consistently', 'use int', 'validate string', 'd3 bar', 'mac os', 'client java', 'python +', 'validator', 'ios 7', 'aspnet vbnet', 'file onclick', 'angular js', 'htaccess mod_rewrite', 'view parent', 'image click', 'duplicate symbol', 'expand collapse', 'way populate', 'developer', 'separate', 'inner classes', 'get difference', 'filtered', 'http', 'link button', 'determine number', 'web request', 'characters mysql', 'empty array', 'running python', 'dynamic array', 'one dependencies', 'pythons', 'htm', 'developer tools', 'flasksqlalchemy', 'duration', 'add item', 'rails migration', 'indentation', 'manual', 'heap size', 'two way', '2007', 'jasperreports', 'run method', 'automatically detect', 'field value', 'arrow', 'download data', 'call using', 'syntax near', 'browser url', 'programming language', 'windows form', 'google play', 'fitting', 'disable textbox', 'command java', 'http requests', 'cakephp 20', 'smtp host', 'jsonparse unexpected', 'handled user', 'javascript callback', 'derived classes', 'change url', 'sending message', 'image div', 'dynamic link', 'cannot concatenate', 'variables c++', 'summary', 'build failed', 'sorting 2d', 'test data', 'namespace name', 'usage', 'char pointer', 'java create', 'invalid xml', 'posting json', 'evenly', 'current', 'string string', 'use google', 'find node', 'php nested', 'view mvc', 'string containing', 'text without', 'set php', 'zooming', 'renderer', 'single line', 'file without', 'paint', 'delete image', 'arrays php', 'act', 'sqlce', 'angularjs', 'tab', 'image format', 'object must', 'strings', 'together', 'mp3 files', 'undefined function', 'using devise', 'webdriver using', 'python code', 'returning array', 'manytomany relationship', 'audio', 'r shiny', 'matches', 'buffer size', 'parse date', 'uiscrollview scrolling', 'confusion', 'expensive', 'listed', 'c++0x', 'base64 encoding', 'admob', 'fading', '_id', 'error method', 'client using', 'toggle', 'selected dropdown', 'add dynamic', 'initialize', 'null undefined', 'bean class', 'copy image', 'learn python', 'play audio', 'core dumped', 'threadlocal', 'two arraylists', 'deleting rows', 'php search', 'name line', 'table using', 'junit test', 'youtube iframe', 'print preview', 'c# method', 'way insert', 'create new', 'cross browser', 'least', 'stack trace', 'library c++', 'rich', 'showing wrong', 'c unix', 'choose', 'element values', 'dimensional arrays', 'statement working', 'c# java', 'location', 'finger', 'list value', 'compile c', 'ending', 'qualifying bean', 'via command', 'maven plugin', 'variables across', 'jquery button', 'sending file', 'dowhile', 'error websocket', 'instances class', 'break', 'com', 'javascript match', 'observation', 'jquery element', 'operation couldnt', 'ifelse', 'inserted', 'set correctly', 'user logged', 'create google', 'utf8 character', 'pass form', 'class path', 'using tcp', 'maximum value', 'computers', 'pyside', 'product', 'trying connect', 'return tuple', 'server error', 'time javascript', 'child', 'helper method', 'project java', 'relationship', 'initializecomponent', 'model django', 'python reading', 'counter', 'classforname', 'type object', 'mvc get', 'word string', 'div class', 'object database', 'trouble', 'reading excel', 'python csv', 'inherited class', 'javascript using', 'expected 1', 'mvc controller', 'type php', 'reactnative', 'view codeigniter', 'mb', 'error uninitialized', 'updated', 'format datetime', 'tables sql', 'java command', 'django python', 'error errno', 'mstest', 'list items', 'submitted', 'incompatible types', 'operands', 'nomethoderror undefined', 'immutable', 'json rest', 'relationships', 'hours minutes', 'ability', 'object literal', 'spring form', 'null values', 'object empty', 'word document', 'folder php', '27', 'cgi', 'series', 'columns table', 'property name', 'python logging', 'handle different', 'conflicting types', 'generic error', 'completes', 'write specific', 'blocked', 'mailbox', 'source code', 'load ajax', 'ie 8', 'compiling', 'decimal values', 'c# linq', 'twitter account', 'volley', 'storage', 'message queues', 'python regular', 'call web', 'way using', 'preference', 'parsing xml', 'rails 323', 'file save', 'manner', 'javascript variables', 'bar graph', 'solid', 'new page', 'navigationbar', 'open chrome', 'results using', 'iframes', 'without refresh', 'djangorestframework', 'string data', 'ajax aspnet', 'typeerror cannot', 'converting java', 'c++ static', 'minimize', 'hdfs', 'without opening', 'executorservice', 'ul li', 'resize iframe', 'css classes', 'page without', 'encoder', 'remove rows', 'operator +', 'javascript method', 'due uncaught', 'vertical scroll', 'statement', 'nosuchmethoderror', 'sql injection', 'laravel 51', 'gui application', 'java problem', 'accessory', 'entering', 'matplotlib plot', 'double array', 'failed task', 'file size', 'jaxb', 'new session', 'different types', 'include', 'image aspnet', 'angularjs ngshow', 'token', 'httphandler', 'c# c++', 'systemcurrenttimemillis', 'json files', 'function calling', 'combo', 'gives error', 'uicollectionview', 'script using', 'using query', 'array database', 'ternary', 'firstordefault', 'lifetime', 'python difference', 'c# possible', 'eclipse java', 'parameters passed', 'get select', 'change font', '6', 'input user', 'must integers', 'popup', 'add controls', 'dates', 'itextsharp', 'alphabetical order', 'uinavigationbar', 'eager loading', 'using api', 'http method', 'hide show', 'sorted', 'color image', 'id url', 'bookmark', 'window closed', 'outside bounds', 'alternate', 'decode byte', 'auto populate', 'star', 'object spring', 'finder', 'magento product', 'one folder', 'cleanly', 'rxjava', 'hitting', 'file input', 'converters', 'modal form', 'args', 'using loop', 'macro', 'transformation', 'userdefined', 'django app', 'nio', 'c# threading', 'version using', 'ndarray', 'reponse', 'control windows', 'enum c#', 'get textbox', 'tomcat7', 'silverlight', 'value changes', 'universal windows', 'c# cannot', 'rect', 'item passed', 'check variable', 'find index', 'run php', 'gradle', 'file creating', 'window service', 'bigint', 'get database', 'enemy', 'would use', 'jquery onclick', 'javascript jquery', 'subcategory', 'without closing', 's3 using', 'value instead', 'naming conventions', 'system python', 'comment box', 'owner', 'reading file', 'two values', 'time datetime', 'logout facebook', 'value stored', 'pass input', 'view swift', 'return view', 'studio project', 'csrf', 'java xml', 'java split', 'located', 'wrong value', 'uploader', 'sqldatareader', 'runtime c#', 'purpose', 'one field', 'locally', 'binding wpf', 'base type', '1 hour', 'exit code', 'rt', 'moduleexports', 'insert multiple', 'tool', 'models one', 'machine actively', 'random access', 'string characters', 'nethttp', 'typeerror object', 'estimation', '303', 'filter', 'simple html', '7', 'html attributes', 'control inside', 'count row', 'unmarshal', 'open url', 'droppable', 'stream', 'button item', 'postgres', 'arrays key', 'validation rules', 'product list', 'submitting', 'way convert', 'using stl', 'rename', 'machine', 'uiwebview', 'junk', 'varbinary max', 'json net', 'php write', 'folder java', 'dll project', 'strongly typed', 'nested', 'removing', 'placed', 'initializing array', 'unqualifiedid', 'actions', 'found element', 'application', 'type key', 'implement interface', 'purposes', 'row 1', 'change values', 'portable class', 'resharper', 'objects json', 'fastest', 'c# custom', 'equivalent java', 'viewer', 'java switch', 'get element', 'generic object', 'initial value', 'php xml', 'via curl', 'people', 'hibernate jpa', '2008', 'mousedown', 'pivot table', 'jframe', 'id javascript', 'within custom', 'images javascript', 'value mysql', 'curl ssl', 'automatically generate', 'azure blob', 'html url', 'delegates', 'destroyed', 'optimized', 'easier way', 'compress', 'event', 'string objective', 'windowlocationhref', 'list index', 'useless', 'binary number', 'version python', 'method', 'string android', 'call member', 'removes', 'c# calling', 'stand alone', 'ticks', 'select box', 'filesystem', '404 found', 'engines', 'based current', 'game using', 'select elements', 'rules', 'subfolder', 'file encoded', 'change text', 'numbers text', '2003', 'socketerror', 'read html', 'call c++', 'sprite kit', 'languages', 'codeigniter form', 'cannot send', 'xib file', 'column index', 'top left', 'two separate', 'pointer char', 'zoom', 'front', 'get file', 'igniter', 'highchart', 'member variable', 'inside functions', 'types c', 'disable enable', 'call specific', 'run multiple', 'case statement', 'script', 'passed parameter', 'line graph', 'form mysql', 'uploading large', 'ui router', 'test failing', 'mailer', 'protected', 'simplexml_load_string', 'handshake', 'removefromsuperview', 'skips', 'license', 'barcode', 'log4j', 'using onclick', 'string datetime', 'drop', 'presentation', 'multiple value', 'request django', 'running', 'using itext', 'frame size', 'update form', 'number decimal', 'populate array', '2dimensional array', 'htaccess rewrite', 'compareto', 'dynamically created', 'vs2008', 'different column', 'wont run', 'label color', 'data inside', 'complex object', 'fs', 'thousand', 'documents folder', 'writable', 'height dynamically', 'getting data', 'clarification', 'output variable', 'update using', 'maximum number', 'multiple ajax', 'went wrong', 'multiple checkbox', 'yyyymmdd', 'order using', 'indirect', 'many open', 'rows one', 'database aspnet', 'jquery set', 'range values', 'httpget', 'index', 'right way', 'remainder', 'web applications', 'call java', 'working ie', 'regarding', 'python change', 'change scope', 'without page', 'never called', 'filter chain', 'testsuite', 'excel sheet', 'get sum', 'allow user', 'access web', 'cant update', 'studio c++', 'function check', 'set instance', 'error class', 'bidirectional', 'zoom level', 'database windows', 'integer array', 'page within', 'ignored', 'cannot assigned', 'using dynamic', 'position', 'string convert', 'parameters javascript', '5 canvas', 'improve', 'sliding', 'treating', 'android httpurlconnection', 'displaying table', 'tomcat 8', 'octal', 'file use', 'one query', 'match', 'transfer file', 'dont', 'need create', 'selecting', 'first word', 'number java', 'php use', 'special characters', 'using d3js', 'imply', 'mvc form', 'another list', 'aws elastic', 'prototypejs', 'function pointer', 'string field', 'finding number', 'jquery javascript', 'javascript memory', 'convert decimal', 'working directory', 'spreadsheets', 'docker', 'logic', 'wifi', 'array char', 'c# dll', 'spring +', 'mysql jdbc', 'swing gui', 'within web', 'without reloading', 'images database', 'rails database', '404 page', 'autofac', 'function returns', 'element tuple', 'plugins', 'save array', 'input output', 'return type', 'ajax data', 'minor', 'parent form', 'full url', 'though', 'doesnt contain', 'one click', 'wall', 'win32 api', 'name c#', 'error r', 'raw sql', 'continues', 'combine multiple', 'path image', 'event triggered', 'php accessing', 'google search', 'mvc return', '3', 'buffered', 'array one', 'connect facebook', 'windows 8', 'indirectly referenced', 'buffering', 'textbox values', 'null parameter', 'mutexes', 'file outside', 'mod_wsgi', 'values sql', 'clr', 'first n', 'guice', 'session using', 'import module', 'write data', 'translated', 'downloading large', 'values excel', 'contain definition', 'css hover', 'library using', 'hhmmss', 'public folder', 'database use', 'works fine', 'return empty', 'querystring', 'capacity', 'winforms', 'lag', 'accessing global', 'change column', 'http header', 'asset', 'search tree', 'numpy array', 'convert unicode', 'java converting', 'method name', 'remove single', 'oracle function', 'linkedlist', 'c# static', '3d array', 'distinct value', 'handle exceptions', 'variable names', 'gem rails', 'longitude latitude', 'class php', 'doesnt seem', 'xml java', 'need simple', '13 permission', 'image loaded', 'flow', 'string char', 'curly braces', 'columns using', 'documentcreateelement', 'obtained', 'adjust', 'convert video', 'end time', 'text label', 'htaccess file', 'qr code', 'around', 'troubles', 'writing', 'handle', 'events javascript', 'hash ruby', 'jquery make', 'free', 'criteria', 'raw data', 'fixed height', 'notebook', 'number using', 'unreadable', 'c# vbnet', 'cannot applied', 'intervals', 'value dictionary', 'spring application', 'gone', 'item value', 'auto scroll', 'youtube api', 'leaflet map', 'homework', 'pie charts', 'java php', 'text javascript', 'textbox input', '2gb', 'alphanumeric characters', 'data specific', 'getattr', 'page title', 'trying make', 'join table', 'create nested', 'crud operations', 'fileoutputstream', 'download php', 'uploads', 'remote mysql', 'webservice client', 'using using', 'calling external', 'structure union', 'java script', 'c++ win32', 'error application', 'unset', 'viewwillappear', 'using variables', 'human', 'map java', 'header footer', 'image url', 'catch exceptions', 'awteventqueue0', 'search array', 'extension url', 'lodash', 'cast valid', 'one big', 'memory', 'history', 'changing text', 'value child', 'image source', 'javascript events', 'one key', 'razor', 'mail function', 'time interval', 'string regex', 'client library', 'get http', 'raphael', 'start process', 'prepare', 'arrays c', 'connection timed', 'error calling', 'vertical', 'model r', 'class interface', 'script java', 'string ends', 'boxplot', 'gridlayout', 'declared class', 'backbone', 'calculated column', 'reducing', 'work php', 'illegal', 'django get', 'add method', 'convert array', 'websocket server', 'primitive', 'programmatically change', 'height change', 'hibernate spring', 'serializer', 'embedded', 'del', 'ajax calls', 'escape sequences', 'background colour', 'customise', 'fields form', 'br', 'data types', 'artifacts', 'c# webbrowser', 'code java', 'tcp', 'button element', 'timepicker', '1 valid', 'scope variables', 'placeholders', 'object based', 'next previous', 'deserialization', 'base 10', 'earlier', 'capital', 'violation reading', 'objectid', 'c# object', 'shortest', 'property null', 'using net', 'recv', 'inside update', 'erase', 'create list', 'j2me', 'animated', 'inside loop', 'xml node', 'next button', 'translation', 'image php', 'turns', 'app access', '3 form', 'already exists', 'order', 'accessed', 'orientation', 'replace character', 'vm', 'derived', 'partial views', 'select', 'fade fade', 'vbnet linq', 'along', 'alternative way', 'parent div', 'frequently', 'team', 'instantiation', 'function r', 'send values', 'tkinter canvas', 'deselect', 'python 35', 'exceptions java', 'ajax upload', 'classloader', 'development server', 'secondary', 'angularjs +', 'laravel 52', 'issues using', 'ruby 192', 'correct way', 'facebook wall', 'dropbox', 'html attribute', 'mysql tables', 'send post', 'find words', 'obj', 'fields using', 'subdomain', 'inside template', 'el', 'socket error', 'system', 'enterprise', 'spring jpa', 'data service', 'protect', 'highlight color', 'get selected', 'url string', 'view template', 'scroll view', 'page', 'richtextbox', 'type value', 'soup', 'control c#', 'django url', 'microsoft exchange', 'data data', 'landscape', 'images opencv', 'passing list', 'request jquery', 'returning error', 'excel spreadsheet', 'submission', 'storyboards', 'downloaded', 'doesnt', 'values array', 'java 7', 'cant find', 'check user', 'test', 'enabling', 'media player', 'symfony2 form', 'public static', 'xpath expression', 'eloquent orm', 'multiple strings', 'query working', 'cms', 'compile python', 'application settings', 'lazy', 'value column', 'completion', 'comparing', 'embed', 'conflicting', '12', 'ios 8', 'input fields', 'cancelled', 'dataframes pandas', '2d array', 'kendo grid', 'pool', 'check date', 'save image', 'mechanism', 'error callback', 's3 bucket', 'modal window', 'class constant', 'edit form', 'child parent', 'cells', 'protocols', 'migrate', 'bitwise', 'template type', 'another view', 'queryset', 'contextloaderlistener', 'draw line', 'based user', 'val', 'instance another', 'mysql queries', 'bundles', 'form jquery', 'rotating', 'uiimagepickercontroller', 'corresponding', 'namespace std', 'nested list', 'exists using', 'bad request', 'email multiple', 'tpl', 'versa', 'load different', 'pojos', 'data javascript', 'vuejs', 'url', 'daily', 'gain', 'elements', 'repository pattern', 'latitude longitude', 'javanetconnectexception', 'mysql date', 'caller', 'badge', 'folder path', 'struct type', 'failed converting', 'practices', 'tablet', 'quartz scheduler', 'using thread', 'values foreach', 'removing duplicates', 'prints', 'boolean', 'passing javascript', 'error error', 'fixed size', 'array mysql', 'devise rails', 'using button', 'navbar', 'set attributes', 'program using', 'jpg image', 'assertionerror', 'multiple files', 'fields value', 'hook', 'html textarea', 'tables database', 'interface java', 'audio video', 'html elements', 'objects c#', 'gridview inside', 'flash message', 'consider', 'element javascript', 'wpf datagrid', 'little', 'springsecurity', 'modify header', 'add header', 'c++ function', 'javascript windowopen', 'considered bad', 'operating system', 'find size', 'jsonobject', 'permission denied', 'django filter', 'struct union', 'count occurrences', 'click function', 'hide', 'internet connection', 'others', 'onload event', 'values xml', 'using selenium', 'based dropdown', 'local variable', 'gui', 'time python', 'programmatically set', 'title bar', 'nonexistent', 'error c#', 'exception unhandled', 'pointer c++', 'deviation', 'ssl connection', '51', 'entities query', 'passed dictionary', 'error module', 'manytomany', 'convert data', 'reference exception', 'c++ visual', 'miss', 'date month', 'must constant', 'using nokogiri', 'image path', 'trying run', 'php 55', 'php files', 'goes', 'getting exception', 'whats good', 'configuration error', 'mixed', 'aspnet membership', 'query select', 'method parameters', 'slide', 'year', 'retain', 'use select', 'monotouch', 'replacement', 'pairwise', 'jaxrs jersey', 'one servlet', 'interface method', 'error handling', 'data rails', 'new operator', 'call button', 'describe', 'datetime', 'rounded corner', 'header location', 'color table', 'elements inside', 'datagrid view', 'element contains', 'options', 'variables without', 'directory', 'object instance', 'text box', 'another form', 'write php', 'uiimage', 'page display', 'result type', 'declares', 'determine type', 'enum types', 'page login', 'png jpg', 'objects based', 'scripting', 'php soap', 'routine', 'rand', 'dynamic type', 'convert char', 'network using', 'recognised', 'update database', 'field list', 'make html', 'propagation', 'carrierwave', 'created', 'handle exception', 'field data', 'safe', 'invalid byte', 'textbox javascript', 'converting json', 'index array', 'single quote', 'without primary', 'problems getting', 'segment', 'datatables', 'jquery ajax', 'using curl', 'google drive', 'input array', 'addition', 'send data', 'spring xml', 'working angular', 'show time', 'java get', 'disk', 'char char', 'synchronous', 'jruby', 'file created', 'database sql', 'unauthorized', 'redirected', 'init', 'antipattern', 'render', 'directory path', 'remove items', 'restrict user', 'php static', 'data source', 'type class', 'folder files', 'throw', 'property list', 'entity entity', 'echo', 'value dropdown', 'recommended', 'button value', 'important', 'validated', 'table aspnet', 'ssis package', 'c++ struct', 'gridview edit', 'object name', 'unique', 'using netbeans', 'denied user', 'nodejs error', 'union', 'new form', 'custom method', 'pass dynamic', 'linq contains', 'attributeerror module', 'using webdriver', 'data member', 'form working', 'array different', 'possible set', 'analytics', 'order java', 'minute', 'specific order', 'convert ascii', 'downloading images', '1 type', 'string javascript', 'confirm', 'argument', 'type namespace', 'input java', 'initial', 'xmlelement', 'bit', 'rails submit', 'detached', 'enum', 'element click', 'using rest', 'data back', 'javascript compare', 'recursion', 'developers', 'explode', 'different results', 'every n', 'access files', 'thumbnail images', 'working php', 'kafka', 'address bar', 'linker', 'wpf listbox', 'improving', 'memory allocation', 'command prompt', 'datetime mysql', 'bracket', 'corners', 'stores', 'failed exit', 'add buttons', 'dealing', 'guessing', 'static member', 'administrator', 'every request', 'current thread', 'experience', 'image fit', 'fire', 'php wordpress', 'tabs', 'variable parent', 'prompt', 'true false', 'swipe gesture', 'using jpa', 'returning string', 'reading line', 'another folder', 'sides', 'two lines', 'editable', 'swt table', 'saving image', 'mongoclient', 'multipart form', 'string number', 'feed', 'without database', 'attributeerror nonetype', 'content size', 'bean spring', 'nonobject', 'different time', 'array aspnet', 'find default', 'multi select', 'jquery html', 'accessing parent', 'sort array', 'tmp mysqlsock', 'content script', 'django creating', 'list object', 'static constructor', 'new table', 'python web', 'rewrite', 'jinja2', 'c++ c#', 'validation', 'find string', 'percent', 'rewrite rules', 'trying read', 'unexpected end', 'doctrine', 'seed', 'return false', 'response data', 'query using', 'windows ce', 'linked lists', 'code behind', 'module object', 'expression string', 'visual c#', 'belonging', 'mbstring', 'dynamically set', 'jsf page', 'decimal', 'oauthexception', 'pattern match', 'error simple', 'html textbox', 'rails test', 'occurrences', 'build error', 'application windows', 'c# console', 'connections', 'migrations', 'returning data', 'rake aborted', 'jasperreport', 'separated spaces', 'time java', 'dynamic html', 'corruption', 'function method', 'swift 30', 'reaching', 'view another', 'java ee', 'object cannot', 'autolayout', 'rails3', 'executables', 'ie works', 'violation writing', 'xml file', 'want display', 'net object', 'technique', 'mobile browsers', 'parsing json', 'itext pdf', 'using cmake', 'osx', 'access session', 'get items', 'function page', 'automation', 'focus input', 'blackberry', 'mvc 4', 'applet', 'javascript code', 'throwable', 'remove white', 'href attribute', 'using gridview', 'latest', 'could locate', 'deny', 'using printf', 'convert excel', 'project without', 'post method', 'item array', 'javalangarrayindexoutofboundsexception', 'become', 'preg_match', 'django set', 'using msbuild', 'exponent', 'webrequest', 'measure', 'rest web', 'restrictions', 'marshalling', 'html tags', 'memory leaks', 'retrieve image', 'line txt', 'maps v3', 'c# get', 'invalid date', 'name', 'using sql', 'loading time', 'column chart', 'look', 'camel', 'activities', 'cannot accessed', 'sum two', 'json php', 'table r', 'interface implementation', 'ajax form', 'read json', 'users', 'returning nil', 'going back', 'working iis', 'filename', 'fopen', 'reference error', 'activity indicator', 'preventdefault', 'networking', 'lower case', 'anonymous type', 'missing error', 'string arguments', 'animation', 'find module', 'chart using', 'abstract classes', 'documentgetelementbyid', 'constantly', 'using char', 'literal int', 'changing value', 'way tell', 'array file', 'two html', 'disable scroll', '81', 'eclipse plugin', 'path denied', 'mouse coordinates', 'read specific', 'bounding', 'jquery rails', 'blob storage', 'webserver', 'rows column', 'method nilnilclass', 'select items', 'copy text', 'combine', 'global variables', 'new project', 'raspberry', 'devexpress gridview', 'conversion using', 'via c#', 'c# program', 'export gridview', 'js file', 'name type', 'get elements', 'get cell', 'ascx', 'fancybox', 'arent', 'validation errors', 'include php', 'one jsp', 'matching', 'locating', 'colon', 'paypal sandbox', 'http status', 'phonegap app', 'users input', 'min max', 'time duration', 'exchange server', 'ilist', 'canvas using', 'gradle build', 'symbol', 'systemiofilenotfoundexception', 'div slide', 'greasemonkey', 'coordinates image', 'file assembly', 'close browser', 'calling c#', 'get browser', 'scroll bottom', 'using user', 'select html', 'article', 'create json', 'operator overloading', 'global name', 'alphabetically', 'datarow', 'date get', 'manipulation', 'framework database', 'permitted', 'applicationcontextxml', 'restful web', 'running code', 'row number', 'collision detection', 'converting', 'paypal express', 'url http', 'misplaced', 'commandline arguments', 'inputstream', 'python equivalent', 'button event', 'best method', 'sockets', 'ff', 'error ie', 'file get', 'cant use', 'djangos', 'insert null', 'affecting', 'string array', 'subtract two', 'size', 'cpu usage', 'custom exception', '48', 'url php', 'search string', 'android use', 'poll', 'data php', '13', 'extending', 'violation', 'prevent direct', 'box', '500 error', 'tutorials', 'arrays one', 'ndk', 'another server', 'nsobject', 'commands', 'print console', 'passportjs', 'script error', 'way initialize', 'get nodes', 'using phonegap', 'ios app', 'finite', 'surfaceview', 'skscene', 'show full', 'front end', 'coming', 'dragging', 'custom sorting', 'forms one', 'mysqli_query', 'spritekit', 'datetime column', 'redirect external', 'transactional', 'namespace', 'callback called', 'file uploaded', 'garbage collector', 'containing', 'jndi', 'rails generate', 'naming convention', 'uppercase', 'blade', 'words text', 'two list', 'corner', 'values 2', 'based index', 'grades', 'value object', 'script file', 'infowindow', 'optional parameter', 'life', 'json parsing', 'book', 'python server', 'backbone model', 'set data', 'node js', 'text node', 'get random', 'one item', 'stop working', 'validation using', 'date formats', 'facing', 'clickonce', '128', 'list tuples', 'total', 'registry key', 'flipping', 'plus', 'netbeans ide', 'stdin', 'unicode', 'dropdown', 'unable execute', 'read string', 'disable horizontal', 'throwing instance', 'dropdown using', 'limit number', 'path without', 'null exception', 'sql file', 'time milliseconds', 'test case', 'reads', 'data web', 'insert value', 'scenes', 'repository', 'deleted', 'rest api', 'service application', 'div form', 'create pdf', 'mysql display', 'strings without', 'nested object', 'actionscript 3', 'one window', 'majorminor version', 'including', 'array foreach', 'nesting', 'json request', 'jsonp', 'zip', 'rounded corners', 'store mysql', 'c++ stl', 'best', 'dplyr', 'disconnect', 'drawimage', 'submit button', 'base64', 'join linq', 'copy contents', 'install php', 'option dropdown', 'safely', 'writeobject', 'stop', 'grouping', 'data image', 'xml object', 'crop', 'friendly', 'declare variable', 'modern', '0', 'could connect', 'using rvm', 'single value', 'dll files', 'example', 'rc', 'limiting', 'server c#', 'spaces', 'display number', 'picking', 'exits', 'critical', 'swift array', 'ajax control', 'solr', 'benchmark', 'contenteditable', 'wildfly', 'wrong result', 'xpath', 'weird issue', 'overloading operator', 'inconsistent', 'write', 'directives', 'control using', 'replacing', 'impact', 'static data', 'javascript event', 'image pdf', 'week date', 'returns wrong', 'many relationship', 'get textarea', 'statements', 'string ruby', 'instantly', 'strings java', 'values mysql', 'files c++', 'new data', 'c c++', 'opencv python', 'stock', 'comparing 2', 'matching function', 'add link', 'datagridview winform', 'breakpoints', 'insert table', 'installed', 'variables set', 'javascript string', 'inside jquery', 'wget', 'mysql statement', 'mysqldb', 'structure java', 'non', 'list contains', 'gmt', 'mobile app', 'multimodule', 'assign value', 'always returns', 'max size', 'java api', 'certain value', 'possible write', 'option value', 'back button', 'presses', 'change google', 'result set', 'ce', 'barplot', 'effectively', 'creating list', 'send', 'custom javascript', 'certain', 'scanner input', 'dynamically add', 'mysql html', 'make custom', 'infix', 'snake', 'using list', 'catch', 'external jar', 'stream java', 'twitterbootstrap', 'extending class', 'values based', 'routeprovider', 'bar button', 'state', 'jquery trigger', 'main thread', 'custom field', 'javascript remove', 'php call', 'method subclass', 'form1', 'configured', 'dynamic class', 'broken', 'delete selected', 'packet', 'checkbox value', 'local directory', 'switchcase', 'city state', 'relation', 'thirdparty', 'matrix multiplication', 'reply', 'flask', 'file found', 'jdbc connection', 'markup', 'resolution', 'media type', 'programmer', 'select row', 'http 11', 'new array', 'process using', 'friends list', 'forcing', 'mongodb c#', 'applicable', 'expire', 'found http', 'textboxes using', 'instead null', 'build', 'linear', 'create html', 'nsdateformatter', 'differences', 'installing python', 'zip file', 'devexpress', 'add javascript', 'undefined property', 'app use', 'web', 'webdriver c#', 'simple array', 'assembly code', 'combined', 'file transfer', 'apache 24', 'spring data', 'hostname', 'directx', 'ruby 193', 'redirect output', 'get variables', 'one javascript', 'last day', 'php loop', '1 given', 'postgresql database', 'ios xcode', 'button based', 'values column', '502', 'generic methods', 'time', 'arrays java', 'format error', 'jquery pass', 'ajax using', 'length char', 'variable string', 'could parse', 'rotate', 'database design', 'find next', 'value combobox', 'audio stream', 'one thread', 'load dll', 'simulate', 'executing python', 'export html', 'video id', 'string decimal', 'public private', 'detection using', 'string function', '193', 'response ajax', 'reading writing', 'bundle install', 'way obtain', 'page via', 'defines', 'reliable way', 'windows machine', 'tdd', 'spring batch', 'smooth scroll', 'v3 api', 'need', 'jquery mouseover', 'lists one', 'file contents', 'legends', '1 resource', 'nullable', 'uisearchbar', 'capture mouse', 'token expected', 'safety', 'udp server', 'upstream', 'using object', 'autoplay', 'return results', 'using pointers', 'string contains', 'response body', 'creating', 'div another', 'bank', 'css styling', 'sql error', 'array int', 'stand', 'react native', 'webbrowser', 'phone', 'server stored', 'webelement', 'decimal binary', 'separated comma', 'datagrid binding', 'identifying', 'reached', 'without reload', 'parent', 'prefer', 'way binding', 'works', 'method names', 'admin interface', 'public property', 'returning undefined', 'object method', 'raw_input', 'jar files', 'execute command', 'selected date', 'prepared statement', 'url variable', 'set custom', 'items', 'app without', 'java properties', 'javalangnoclassdeffounderror javax', 'get contents', 'unable read', 'multiple objects', 'window wpf', 'asynchronous function', 'using file', 'multiple selection', 'template class', 'ajax pass', 'action', 'webrtc', 'memory allocated', 'id like', 'javascript issue', 'subarrays', 'library php', 'serialization', 'numbers java', 'trim string', 'data points', 'rootscope', 'method rails', 'percentage', 'one one', 'beans', 'aspnet button', 'javascript validation', 'using bootstrap', 'use url', 'realm', 'using local', 'open error', 'everything', 'format', 'retrive', 'markers google', 'search engine', 'must declare', 'file arraylist', 'codeblocks', 'using array', 'implicit', 'r rstudio', 'web service', 'incoming', 'completely', 'prompt user', 'popular', 'certain amount', 'separate class', 'get ajax', 'global variable', 'class another', 'conditional statements', 'session id', 'home page', 'struggling', 'using spring', 'text text', 'mails', 'file r', 'make post', 'animating', 'nsstring', 'grid column', 'frames', 'multiprocessing', 'twisted', 'absolute url', 'git repository', 'cumulative', 'reasons', 'code c++', 'subclass object', 'string file', 'spam', 'php server', 'bar chart', 'space characters', 'class ruby', 'varchar', 'happening', 'attached', 'press', 'ascii codec', 'naming', 'ended', 'another', 'grunt', 'machine learning', 'jupyter', 'fulltext search', 'large number', 'bounding box', 'inside array', 'screen position', 'checkbox values', 'name url', 'null string', 'connect failed', 'opencl', '2 dates', 'monthly', 'operator new', 'hidden div', 'custom form', 'pass reference', 'websphere mq', 'character set', 'plot matplotlib', 'controller using', 'system function', 'subscribers', 'model view', 'htaccess url', 'json get', 'apache cxf', 'sublist', 'check empty', '52', 'independently', 'file paths', 'arraylist arraylist', 'kivy', 'convert number', 'jpeg image', 'odd numbers', 'spring hibernate', 'c# string', 'tinymce editor', 'distributed', 'usr bin', 'file uploading', 'dlopen', 'watching', 'passing multiple', 'paragraphs', 'lt', 'page loading', 'communication', 'linkage', 'php show', 'mobile page', 'openxml', 'size array', 'using ggplot', 'backslashes', 'pipes', 'opening browser', 'keystore', 'eclipse rcp', 'startup', 'app c#', 'pass model', 'javascript mvc', 'run java', 'report', 'remove array', 'array element', 'messagebox', 'error uncaught', 'python array', 'file present', 'anonymous', 'memory usage', 'connect local', 'jsp file', 'dont work', 'model using', 'auth', 'div using', 'webbased', 'qt application', 'long long', 'using struts2', 'changing background', 'detailed', 'join method', 'cannot open', 'via', 'huge', 'lat lng', 'loop working', 'scaling', 'converting string', 'python scripts', 'aspnet using', 'polling', 'php namespaces', 'opera', 'seems working', 'keyup', 'open xml', 'error adding', 'unmatched', 'windows c++', 'concurrently', 'get keys', 'longrunning', 'changing default', 'sitemap', 'tables', 'property nonobject', 'mechanize', 'set object', 'jquery show', 'generator', 'looking', 'regex extract', 'folder eclipse', 'fine', 'use static', 'hyphen', 'cpp', 'moves', 'string without', 'action method', 'entities recognize', 'stripe', 'ngchange', 'image canvas', 'modal view', 'jquerymobile', 'image width', 'indexer', 'numbers python', 'expiry', 'windowonload', 'javascript dynamically', 'medium', 'inline style', 'dom element', 'sorting array', 'request google', 'order list', 'javascript sending', 'fontsize', 'rotation', 'filecopy', 'json url', 'output php', 'spring integration', 'exceptions thrown', 'calculate', 'function controller', 'typeahead', 'array structure', 'create excel', 'datatable c#', 'preferably', 'objectivec method', 'javasqlsqlexception', 'predefined', '1 minute', 'joomla 25', 'error', 'amazon', 'string utf8', 'timer c#', 'raster', 'regex search', 'reset peer', 'make php', 'variables', 'file access', 'syntax use', 'local variables', 'windowsh', 'error try', 'hosting', 'uml', 'query parameters', 'checking null', 'click event', 'central dispatch', 'qt5', 'unknown', 'error message', 'repeat', 'print output', 'play services', 'iterating', 'maven', 'event button', 'convert utc', 'null date', 'tbody', 'unknown provider', 'end line', 'spring security', 'work around', 'window', 'push_back', 'content php', 'base url', 'icons', 'array using', 'datastructure', 'bubble chart', 'string object', 'member named', 'fieldset', 'magento custom', 'date function', 'selectedindexchanged event', 'contains digits', 'borland', 'http error', 'array c', 'implemented', 'transport', 'calculated', 'shell commands', 'jlabels', 'exists', 'represents', 'spring rest', 'inspector', 'incorrectly', 'rails view', 'django', 'within div', 'triggering', 'url address', 'aws', 'table mysql', 'php error', 'buttons using', 'going', 'mysql search', 'affects', 'web server', 'via api', 'column r', 'query returning', 'pitch', 'file_get_contents', 'custom widget', 'orderby', 'alert dialog', 'functional', 'cannot redeclare', 'pass data', 'dataframes', 'send mail', 'add click', 'collection_select', 'java c#', 'adjacent', 'static function', 'domain name', 'doesnt call', 'animations', 'files inside', 'drive api', 'returns null', 'opposed', 'arrayliststring', 'single string', 'dynamic memory', 'something similar', 'files different', 'metro', 'columns data', 'find text', 'c++ linux', 'fixed length', 'c# thread', 'table codeigniter', 'dataframe pandas', 'data django', 'complex', 'service start', 'convert byte', 'select item', 'function html', 'existing xml', 'serverside', 'python gui', 'module', 'number text', 'sms', 'settimeout', 'builds', 'listview item', 'many connections', 'twilio', 'useful', 'array javascript', 'void pointer', 'load multiple', 'ca', 'bitmap', 'wpf application', 'object null', 'crashing', 'knitr', 'object use', '56', 'java web', 'characters php', 'current state', 'dropdown select', 'blob field', 'nonnegative', 'form model', 'dbcontext', 'integers using', 'less accessible', 'id value', 'even', 'without jquery', 'variable php', 'java preparedstatement', 'current location', 'nsinvalidargumentexception reason', 'local resource', 'way find', 'magento', 'dynamically allocate', 'global exception', 'jcombobox', 'listboxes', 'android using', 'switching', 'localhost', 'xcode 5', '32bit', 'populate form', 'second', 'notepad++', 'differently', 'null null', 'move_uploaded_file', 'paypal ipn', 'java check', 'convert javascript', 'session array', 'multiple matches', 'timezone', 'jms', 'file xcode', 'programmatically add', 'id using', 'ie11', '_', 'associated', 'sqldatasource', 'photo gallery', 'values jsp', 'corrupted', 'request data', 'readable', 'axis labels', 'music', 'alt', 'unity3d', 'class package', 'send request', 'lambda', 'c++ using', 'integer value', 'coloring', 'pdoexception', 'jquery file', 'one method', 'mark', 'secure', 'high performance', 'using socketio', 'php ajax', 'condition variables', 'fields java', 'segmentation', 'constraints', 'aws sdk', 'customising', 'yii', 'try block', 'find path', 'way split', 'external website', 'debug mode', 'url python', 'combine two', 'rspec testing', 'transactions', 'java objects', 'connecting sql', 'white spaces', 'hibernate using', 'new line', 'div inside', 'referenced assembly', 'pandas python', 'function error', 'welcome', 'escaped', 'hover', 'certain characters', 'stops working', 'whether given', 'optimizations', 'conflicts', 'techniques', 'cannot read', 'nunit test', 'defining', 'heap corruption', 'applescript', 'checkbox selection', 'bean name', 'row id', 'type function', '8 c#', 'override', 'array loop', 'trick', 'multiple types', 'facebook javascript', 'class variable', 'multiple textboxes', 'modelsave', 'increment', 'use data', 'jar file', 'using ggplot2', 'query return', 'value dynamically', 'debug release', 'code igniter', 'variable reference', 'center', 'playing', 'successfully', 'click events', 'without', 'update table', 'particular column', 'view aspnet', 'process windows', 'call undefined', 'data selected', 'defined', 'phone numbers', 'static files', 'function jquery', 'separate files', 'webmethod', 'virtual machine', 'long string', 'image background', 'project eclipse', 'stacktrace', 'time error', 'one variable', 'form tag', 'javascript change', 'recommend', 'creating bean', 'greater less', 'click using', 'different folder', 'comparator', 'element string', 'pods', 'shortcuts', 'extjs4', 'top right', 'term', 'value returned', 'exactly one', 'instance', 'methods within', 'guarantee', 'proc', 'error log', 'android device', 'wpf textbox', 'syntax error', 'array form', 'bean method', 'bounce', 'lpcstr', 'javascript css', 'todays', 'php imap', 'polymorphic', 'pdo prepared', 'fontawesome', 'send multiple', 'xmlreader', 'error javascript', 'cannot found', 'terminated', 'bigo', 'group multiple', 'class files', 'circles', 'c error', 'sort table', 'admin login', 'php 53', 'partial', 'corpus', 'data inserted', 'get default', 'using phpunit', 'could decoded', 'interprocess', 'leaflet', 'rtf', 'natural', 'error json', 'occurance', 'object object', 'without repeating', 'two time', 'primary', 'f', 'sending http', 'float array', 'change name', 'id jquery', 'view source', 'remote database', 'sticky', 'inputs', 'array contents', 'querysets', 'get raw', 'calculate average', 'base64 encoded', 'changed event', 'installing numpy', 'worth', 'apache httpclient', 'xls file', 'open file', 'value c#', 'integrated', 'make', 'bootstrap datepicker', 'window handle', 'discriminator', 'crystal', 'create popup', 'architecture i386', 'pylab', 'returning value', 'wrap', 'rack', 'jlabel', 'office', 'class swift', 'keys values', 'disable button', 'name current', 'value xml', 'name id', '__file__', 'web form', 'using mouse', 'models django', 'ip address', 'multiple users', 'index range', 'function static', 'jump', 'find specific', 'color every', 'pythonic way', 'case sensitive', 'data dynamically', 'using angular', 'count many', 'selected text', 'convert base64', 'subprocess', 'get property', 'integers', 'phonegap cordova', 'xml content', 'work properly', 'android client', 'display name', 'integrating', 'get time', 'authentication using', 'tip', 'scan', 'vs2010', 'javascript settimeout', 'literal', 'two times', 'consuming', 'xampp', 'convert html', 'calling function', 'css using', 'content type', 'jpanel', 'perl', 'inherits', 'custom image', 'large array', 'keep', 'jasper report', 'string aspnet', 'mysql', 'php split', 'visible using', 'idea', 'closing form', 'javascript replace', 'calayer', 'cascade', 'database selected', 'wpf control', 'websphere 61', 'variable referenced', 'unexpected results', 'asynctask android', 'use array', 'object one', 'focus working', 'render html', 'multiple variables', 'chinese', 'implement', 'error vbnet', 'ejb', 'pointer integer', 'unrecognized', 'running script', 'click javascript', 'layout', 'interview question', 'click handler', 'fb', 'variable array', 'open excel', 'url htaccess', 'wrapper', 'wheel', 'throw error', 'c# delegate', 'file array', 'subprocesscheck_output', 'basic 2010', 'catch blocks', 'add jquery', 'server database', 'problem converting', 'change javascript', 'textboxes', 'circular', 'attach file', 'git pull', 'android browser', 'iso', 'nonempty', 'window closing', 'couchbase', 'transform', 'zend framework', 'dynamically loaded', 'test fails', 'elif', 'sequentially', 'execute php', 'trying convert', 'query mysql', 'javascript loop', 'json response', 'tabcontrol', 'module name', 'declared', 'parameter function', 'temp', 'values using', 'query strings', 'minimum maximum', 'mask', 'updating value', 'get response', 'parameter url', 'dynamically generated', 'overwriting', 'php detect', 'run function', 'microsoft word', 'hidden field', 'find source', 'user registration', 'eof', 'pooling', 'best use', 'distinct', 'wcf', 'exception occurs', 'place', 'new url', 'remove string', 'logstash', 'designed', 'network drive', 'entry', 'c# check', 'lpcwstr', 'time different', 'fields', 'refuses', 'activex', 'convert pandas', 'convert nsstring', 'get table', 'last 10', '__nsarraym', 'rdata', 'importerror module', 'code style', 'multiple services', 'session spring', 'special character', 'existing table', 'cancel', 'xss', 'clause', 'undefined symbols', 'php +', 'specific directory', 'remove default', 'external json', 'find max', 'argument error', 'dont show', 'injector', 'checking python', 'jekyll', 'items listview', 'string character', 'signup', 'month name', 'desktop', 'multiple select', 'gcc compiler', 'mysql get', 'matches regex', 'c++ xcode', 'systemnetwebexception', 'file store', 'string split', 'form php', 'way display', 'php inside', 'statment', 'active record', 'work', 'underscore', 'operation valid', '2 form', 'mismatch cannot', 'data database', 'form submit', 'list r', 'winform', 'situation', 'scaled', 'php post', 'align', 'mysql select', 'pass php', 'error handler', 'hiding', 'page url', 'bad file', 'jquery text', 'reading serial', 'image gallery', 'props', 'value pairs', '_request', 'monitoring', 'string offset', 'word', 'c++ boost', 'get cookie', 'port', 'errno 2', 'visual studio', 'algorithm', 'detecting', 'generic type', 'external js', '5 minutes', 'javascript call', 'dir', 'subprocess call', 'stdmap', 'fallback', 'array variable', 'order php', 'list different', 'tried', 'eclipse android', 'executing sql', 'query php', 'subset columns', 'apache tomcat', 'email already', 'java example', 'check string', 'django multiple', 'produce', 'distribution', 'event handling', 'stdset', 'connectionstring', 'body', 'notice', 'data model', 'execute shell', 'deallocated', 'google script', 'sdl', 'confirm box', 'builtin', 'suffix', 'object json', 'key error', 'invalid conversion', 'compare date', 'presented', 'select list', 'freeing', 'already running', 'django model', 'video streaming', 'subview', 'root', 'format another', 'partialview', 'developed', 'datareader', 'good practice', 'file url', 'rows pandas', 'c code', 'guidelines', 'cellforrowatindexpath', 'string based', 'python requests', 'dates java', 'based selected', 'cant start', 'nullreferenceexception', 'engine python', 'aspnet core', 'run selenium', 'first call', 'two integers', 'jsp servlets', 'jquery using', 'format string', 'authentication', 'weekly', 'program find', 'newline characters', 'files one', 'pyqt', 'bottleneck', 'pc', 'printing string', '109', 'method c++', 'formbased', 'command using', 'dynamically loading', 'flask application', 'yaxis', 'insert html', 'optimize', 'breaks', 'window javascript', 'jquery dialog', 'referenceerror defined', 'javalangunsupportedclassversionerror', 'javascript form', 'windows7', 'alias', 'widths', 'bind', 'array elements', 'material', 'list indices', 'routing error', 'html agility', 'name field', 'array based', 'json ajax', 'either', 'jquerys', 'add delete', 'get full', 'resource folder', 'css html', 'second element', 'linearlayout', 'mvc', 'query results', 'function code', 'distance two', 'allow numbers', 'checking', 'unix epoch', 'access', 'elements xml', 'shifting', 'using openmp', 'messaging', 'table sql', 'function print', 'sequence', 'java spring', 'current process', 'f#', 'script tag', '510', 'integrate', 'inside thread', 'gridview rows', 'database without', 'application run', 'conversion const', 'spark dataframe', 'smtp connect', 'unique elements', 'axes', 'model value', 'black', 'ios devices', 'downloading', 'update listview', 'right', 'first name', 'vs javascript', 'representation', 'rightclick', 'tmp', 'values json', 'strip', 'string float', 'page form', 'dword', 'level', 'uiscrollview scroll', 'guide', 'viewed', 'passing data', 'lambda expressions', 'insert new', 'integer string', 'uploading files', 'neural network', 'connect 2', 'http localhost', 'multiple buttons', 'nested else', 'pin', 'php send', 'subviews', 'mail api', 'java read', 'send value', 'logger', 'without creating', 'onclientclick', 'database c#', 'books', 'row height', 'throw exception', 'websocket connection', 'array sort', 'inside list', 'problems', 'data sql', 'empty list', 'pdf c#', 'tags xml', 'br tag', '100', 'settings', 'hibernate +', 'single', 'file ajax', 'authentication error', 'doesnt send', 'check text', 'accessible', 'double value', 'tag html', 'parametrized', 'evaluation', 'js code', 'setuptools', 'reference value', '2 numbers', 'tuples python', 'map api', 'daylight', 'max values', 'views', 'java class', 'remove element', 'multiple string', 'xy', 'l', 'crm', 'different classes', 'name javascript', 'pyramid', 'c++ project', 'pass function', 'develop', 'insert query', 'automapper', 'systemdrawingimage', 'using phpexcel', 'json file', 'android sdk', 'file instead', 'method requires', 'landscape orientation', 'msvc', 'python program', 'fields based', 'slightly', 'gem install', 'call external', 'large dataset', 'error 1', 'multiple mysql', 'requestbody', 'swipe', 'shortcut', 'c++ development', 'uniqueness', 'inverse', 'onclick', 'webdriver', 'adding row', 'refactor', 'separator', 'repeats', 'jodatime', 'using graph', 'font file', 'unit test', 'grouped', 'c1083 cannot', 'specific fields', 'filter using', 'one time', 'js get', 'rdd', 'append data', 'php page', 'javalangstring', 'python pandas', 'may', 'list dictionary', 'post using', 'updating multiple', 'db2', 'angular', 'architecture x86_64', 'program java', 'duplicate', 'function returning', 'object file', 'android php', 'two dataframes', 'variable type', 'alone', 'calculate time', 'onclick event', 'javamail', 'panning', 'mobile device', 'using html', 'soap xml', 'sending string', 'previous button', 'property values', 'get unique', 'googlemap', 'c# access', 'import statements', 'urls django', 'index item', 'boolean given', 'canvas javascript', 'datetime value', 'bar plot', 'array sql', 'rails4', 'vs instance', 'strtotime', 'integration', 'ascending', 'original', 'string concatenation', 'jsp using', 'shouldnt', 'external css', 'whole page', 'using contains', 'type mismatch', 'generating html', 'module could', 'c# datetime', 'friendly urls', 'type image', 'jquery div', 'xp', 'contents', 'expanded', 'windows authentication', 'passing null', 'put array', 'nongeneric', 'send ajax', 'vector c++', 'load jquery', 'android java', 'im using', 'position jquery', 'inner join', 'using template', 'ext js', 'extension methods', 'java classes', 'locale', 'dropdown selected', 'getattribute', 'fashion', 'trying compile', 'set combobox', 'iframe parent', 'value list', 'https request', 'datagridview using', 'text c#', 'wcf web', 'using auto', 'constructs', 'private variable', 'input', 'doubly linked', 'viewing', 'use get', 'pointers c++', 'uitabbar', 'checked radio', 'dash', 'single java', 'driven', 'to_json', 'declaration', 'constructor found', 'posting data', 'css background', 'c# creating', 'string literals', 'element within', 'get variable', 'google using', 'type int', 'exist', 'retaining', 'stdlist', 'generic dictionary', 'controller class', 'dispose', 'communicate', 'tag string', 'selectable', 'textarea jquery', 'easiest', 'error importing', 'another project', 'beginning end', 'selectmenu', 'example code', 'name function', 'system calls', '15', 'closures', 'attribute xml', 'php 52', 'reference', 'without submit', 'jsp servlet', 'various', 'snippets', 'amount data', 'data base', 'records database', 'semantic', 'rake dbcreate', 'reader read', 'error java', 'subsequence', 'tomcat using', 'file run', 'phtml', 'form using', 'dataframe column', 'owin', 'read write', 'image image', 'decorators', 'frameworks', 'definitions', 'formal', 'regex find', 'array 2d', 'socket client', 'string sql', 'browser back', 'textbox gridview', 'mapping json', 'convert date', 'p', 'compilers', 'assets', 'column values', 'studio 2008', 'height div', 'person', 'best practices', 'exist namespace', 'save dialog', 'async function', 'using pure', 'user session', 'anyway', 'eclipselink', 'calling method', 'type name', 'tolowercase', 'multiple submit', 'one using', 'background', 'close current', 'blocks', 'script c#', 'set default', 'submitting form', 'using gcc', 'framework core', 'fixed', 'listview row', 'youtube data', 'xelement', 'pointer function', 'could made', 'button form', 'illegal character', 'jquery form', 'script python', 'gets called', 'cpu', 'step step', 'candidate', 'troubleshooting', 'trying', 'get return', 'uncaught syntaxerror', 'rails paperclip', 'body class', 'android', 'newlines', 'cprogram', 'ist', 'undefined class', 'nonetype object', 'warning message', 'column header', 'image processing', 'java files', 'white', 'run time', 'uilabel text', 'phonegap android', 'method found', 'convert type', 'laravel get', 'select based', 'achieve', 'get reference', 'plots', 'locals', 'struts', 'reduce memory', 'display content', 'read files', 'aspnet mvc3', 'faster', 'connecting mysql', 'save data', 'sqlconnection', 'doctrine2', 'unexpected t_string', 'unable start', 'javascript inside', 'xml doc', 'date time', 'endless', 'tag attribute', 'payment gateway', 'textbox jquery', 'swing application', 'im', 'install python', 'pressing enter', 'method parent', 'member variables', 'vbnet application', 'wpf treeview', 'large file', 'c# show', 'model validation', 'wcf restful', 'task list', 'property setter', '42', 'low', 'basics', 'java driver', 'file type', 'values string', 'chart control', 'histogram r', 'creating html', 'exercise', 'whether object', 'constant error', 'loading new', 'mscorlibdll', 'jquery serialize', 'java c++', 'formatted', 'winxp', 'uncheck checkboxes', 'store value', 'wont', 'oracle database', 'linq query', 'using windows', 'line c#', 'convert object', 'wchar_t', 'codeigniter', 'assign', 'insert update', 'parser', 'json string', 'php session', 'work using', 'csv reader', 'contentlength', 'google+', 'cloud', 'multiple properties', 'bindings', 'class c++', 'incremental', 'windows explorer', 'react js', 'add current', 'polygon', 'string json', 'trying remove', 'fire event', 'stack overflow', 'keydown', 'arrayadapter', 'api rails', 'big file', 'two lists', 'user access', 'validation multiple', 'ui autocomplete', 'adding event', 'contain', 'threaded', 'substrings', 'python c', 'nullpointerexception', 'find position', 'row row', 'extjs', 'java desktop', 'timeline', 'new rails', 'add trailing', 'might', 'multiple php', 'php output', 'open popup', 'sip', 'force browser', 'dynamic javascript', 'jquery json', 'based condition', '2008 r2', 'integration tests', 'couldnt completed', 'ngmodel', 'count rows', 'set field', 'folder structure', 'process running', 'text dynamically', 'values php', 'remove last', 'pushed', 'webform', 'via http', 'modal popup', 'static variable', 'crystal report', 'php functions', 'get null', 'formats', 'forever', 'minified', 'looks like', 'asynchronous call', 'unhandled', 'triple', 'loading message', 'entities', 'form action', 'stack level', 'mac osx', 'pass values', 'rule make', 'microsoft sql', 'database connections', 'decode', 'accomplish', 'understand', 'country', 'sencha', 'organize', 'good idea', 'py file', 'part text', 'r ggplot2', 'typeof', 'passing', 'years months', 'usb device', 'visual', 'script server', 'anyone know', 'responseredirect', 'selenium firefox', 'begin', 'another action', 'convert rgb', 'validation java', 'get float', 'convert numbers', 'architecture', 'lwjgl', 'unparseable date', 'using smtp', 'xml validation', 'system using', 'crawling', 'rows two', 'h file', 'process c#', 'chooser', 'es6', 'binary tree', 'rake dbmigrate', 'student', 'immediately', 'getdata', 'pdo connection', 'via ajax', 'pattern matching', 'send parameter', 'delta', 'using rspec', 'name different', 'running php', 'using apply', 'convert integer', 'outofmemory', 'crashes', 'django rest', 'long time', 'com object', 'java vs', 'query list', 'one single', 'variable html', 'keywords', 'di', 'checking see', 'dropdownlists', 'add event', 'encodeuricomponent', 'codeigniter error', 'using jquery', 'webpage', 'xml tag', 'array function', 'numbers array', 'mime type', 'python module', 'longest', 'whitespace', 'regular expression', 'status bar', 'using socket', 'button jquery', 'count specific', 'different object', 'inserting database', '400 bad', 'connect remote', 'file excel', 'phones', 'places api', 'x86_64', 'display data', 'time field', 'accessor', 'framework 2', 'web app', 'paper size', 'overridden', 'file name', 'type conversion', 'copying one', 'jqgrid', 'functions', 'linux kernel', 'stylesheet', 'numbers c#', 'sort data', 'scatterplot', 'processstart', 'requested resource', 'outside controller', 'multiple statements', 'name attribute', 'query linq', 'jobject', 'submit', 'ago', 'send image', 'requestmapping', 'drive', 'scrape', 'url javascript', 'javascript convert', 'getting values', 'right click', 'cocos2dx', 'explorer', 'chunk', 'batch', 'jre', 'django queryset', 'tags inside', 'prevent form', 'numpy scipy', 'mvc view', 'histograms', 'objc', 'insert javascript', 'oauth 20', 'nothing happens', 'dropped', 'form file', 'specific number', 'install django', 'ios apps', 'rows based', 'int object', 'email', 'allow access', 'idisposable', 'xml nodes', 'weight', 'line python', 'html canvas', 'java config', 'access java', 'manipulating', '35', 'two files', 'argumenterror', 'sending receiving', 'file', 'current project', 'tags using', 'thymeleaf', 'filter method', 'swift 20', 'get result', 'selenium c#', 'debugging visual', 'javascript ajax', 'dont want', 'retriving', 'get json', 'cross domain', 'two variables', 'pausing', 'value multiple', 'vs', 'div content', 'recognized internal', 'domains', 'vb', 'concatenating two', 'tags html', 'uiimageview', 'html form', 'initializing', 'accuracy', 'taskbar', 'channels', 'without first', 'argument python', 'input form', 'pack', 'xcode 4', 'directive', 'current window', 'auto complete', 'project folder', 'studio 2013', 'postback', 'datagridview', 'list numbers', 'filestream', 'doc', 'jquery post', 'field javascript', 'compressed', 'catching exception', 'day month', 'uirouter', 'content text', 'mysql insert', 'channel', 'delegation', 'binary data', 'get error', 'unicode object', 'command linux', 'script execution', 'route matches', 'cyclic', 'column datagridview', 'pinvoke', 'button html', 'arguments function', 'accordion', 'acceptable', 'custom fonts', 'float number', 'error code', 'report using', 'plot', 'python tkinter', 'allocate memory', 'pretty', 'page div', 'python numpy', 'repeatedly', 'linking error', 'untrusted', 'externals', 'video files', 'library use', 'undeclared identifier', 'stl container', 'current date', 'exception error', 'login check', 'parameter number', '50', 'value file', 'drop menu', 'mvc calling', 'without running', 'email address', 'interpreter', 'login php', 'threads java', 'webclient', 'login user', 'tree c', 'unpack', 'throwing', 'using moq', 'shiny app', 'scrollview', 'vbnet 2010', 'deserializing xml', 'due', 'install pil', 'unittesting', 'diagonal', 'graph api', 'find value', 'game', 'error occured', 'characters nsstring', 'ipaddress', 'getting wrong', 'error file', 'dynamics crm', 'data html', 'shown', 'running web', 'ssh', 'sum columns', 'method object', 'model', 'fails', 'protobuf', 'nonstatic method', 'get content', 'without cast', 'sized', 'bounds', 'function type', 'running javascript', 'position 0', 'within another', 'submit post', 'serversocket', 'storyboard', 'premature end', 'javalanginteger', 'webdriver java', 'c# windows', 'output data', 'group', 'conversion', 'files use', 'equivalent python', 'object list', 'collection objects', 'statement using', 'snow', 'testng', 'php ftp', 'agility pack', 'italic', 'web crawler', 'cut', 'xml json', 'values database', 'x using', 'int32', 'array argument', 'fuzzy', 'wpf xaml', 'image thumbnail', 'jquery bind', 'clicking', 'floats', 'systemdatasqlclientsqlexception', 'operand', 'works firefox', 'oracle stored', 'dynamical', 'private member', 'loading content', 'create javascript', 'table cells', 'wordpress get', 'html string', 'specific element', 'elements class', 'cant read', 'method call', 'string literal', 'python lxml', 'class id', 'new row', 'mod rewrite', 'value insert', 'way concatenate', 'conversion int', 'data server', 'windows using', 'file error', 'output json', 'variables need', 'current position', 'trouble installing', 'db', 'copy data', 'day year', 'rows dataframe', 'error passing', 'specific image', 'bootstrap 3', 'need use', 'binary numbers', 'get previous', 'mongoose', 'rails 31', 'indicator', 'mysql2error', 'running program', 'function exists', 'image html', 'pst', 'turn', 'nan', 'access variable', 'alertdialog', 'blanks', 'value undefined', 'save file', 'find whether', 'classcastexception', 'linq expressions', 'text input', 'folders files', 'buffer', 'php parse', 'inside listview', 'maps', 'programmatically get', 'extremely slow', 'ms word', 'geom_line', 'bootstrap popover', 'jsondumps', 'retry', 'hasmany', 'value javascript', 'prime', 'regex', 'aliases', 'fast way', 'classic', 'section', 'system command', 'concepts', 'locate element', 'within html', 'sql connection', 'loop using', 'super', 'couldnt find', 'robust', 'linq expression', 'cannot use', 'hard', 'convert numeric', 'programs', 'missing argument', 'adding image', 'parent function', 'hierarchy', 'using command', 'kernel space', 'data store', 'email laravel', 'large data', 'viable', 'model data', 'keypress', 'export', 'mysql_num_rows', 'j', 'placement', 'delete files', 'nested lists', 'cant display', 'close window', 'screen width', 'fatal error', 'php query', 'rspec rails', 'countries', 'chaining', 'href value', 'store html', 'items array', 'update image', 'array numbers', 'selected index', 'last cell', 'whole file', 'range using', 'disappearing', 'access db', 'template', 'boostasio', 'pull', 'change default', 'tkinter window', 'php handle', 'safari', 'unsigned long', 'property javascript', 'supply', 'file project', 'questions', 'method java', 'code paths', 'create simple', 'encoded string', 'exception caught', 'list ids', 'studio 2015', 'objects xml', 'drawing', 'maps marker', 'library loaded', 'synchronization', 'get number', 'preprocessor', 'different class', 'jobs', 'configurations', 'leaked', 'class extends', 'one two', 'param', 'dataframe python', 'openlayers', 'value jquery', 'find sum', 'right side', 'view page', 'based database', 'value datagridview', 'wpf binding', 'sql server', 'strange', 'parsing php', 'classes using', 'bad idea', 'js files', 'sun', 'current datetime', 'html email', 'connected', 'aspnet control', 'unit testing', 'multivariate', 'retrieve value', 'find function', 'javascript firefox', 'best java', 'contentsize', 'images html', 'ui bootstrap', 'prime numbers', 'aka', 'arrays elements', 'direct url', 'rsa', 'page spring', 'mouseover', 'resized', 'team foundation', 'find load', 'methods static', 'library function', 'links php', 'run django', 'rows using', 'waitforsingleobject', 'speech recognition', 'controllers', 'capture', 'error c', 'type list', 'android google', 'way delete', 'curl error', 'array null', 'load css', 'getting specific', 'error using', 'rather', 'debug', 'async methods', 'delayed', '+ devise', 'could create', 'tab key', 'job', 'total number', 'insensitive', 'opencv2', 'pyc files', 'autocomplete php', 'text multiple', 'wont load', 'array csv', 'call methods', 'number lines', 'list another', 'image object', 'html input', 'friends', 'denied error', 'multiple attributes', 'jquery getjson', 'value django', 'xmpp', 'tree java', 'window close', 'query multiple', 'writing file', 'expression check', 'extra space', 'cannot cast', 'another function', 'twitter api', 'ie', 'recent', 'sublime', 'paste', 'php header', 'seo', 'working java', 'string long', 'two dimensional', 'https', 'explorer 8', 'python time', 'reloading', 'access class', 'use jquery', 'task manager', 'screen resolution', 'restkit', 'one line', 'connection refused', 'inputted', 'array method', 'color button', 'function another', 'static property', 'continuous', 'vs php', 'server without', 'using jersey', 'hex string', 'trying set', 'error missing', 'subtraction', 'writing csv', 'event listeners', 'simplest', 'class using', 'time zone', 'xml feed', 'print results', 'manipulate', 'flat', 'filter values', 'mootools', 'data mysql', 'web page', 'osx lion', 'pull data', 'multiples', 'data attributes', 'horizontally', 'values csv', 'form validation', 'array string', 'literals', 'instance variable', 'run loop', 'javascript canvas', 'python convert', 'compiling error', 'error must', 'findby', 'lists r', 'array android', 'response using', 'live', 'data page', 'usb', 'upgrade', 'username', 'binding', 'load html', 'api java', 'c# xaml', 'java 6', 'oracle connection', 'javalangnoclassdeffounderror', 'clustering', 'trying save', 'linking static', 'button android', 'string url', 'best solution', 'scrapy', 'net 40', 'uitabbarcontroller', 'java console', 'checkbox array', 'referential', 'gis', 'python property', 'sqlite table', 'good way', 'nth', 'lazy loading', 'larger', 'api v3', 'request sent', 'assertion', 'xml c#', 'list vs', 'table rows', 'still working', 'model without', '365', 'serial', 'error eclipse', 'hours', 'reload', '__init__py', 'make part', '40', 'shared hosting', 'default text', 'button image', 'cancellation', 'c++ c', 'json nested', 'undefined index', 'requirement', 'mobile browser', 'set background', 'data jpa', 'control visual', 'derive', 'doesnt appear', 'ajax jquery', 'mvc rest', 'database column', 'makes', 'remove part', 'facebook connect', 'convert list', 'php mongodb', 'template parameters', 'multiple urls', 'way merge', 'validation function', 'objectivec', 'id attribute', 'mvc razor', 'openerp', 'exit', 'file writing', 'float double', 'using generic', 'json c#', 'dynamic_cast', 'erb', 'click div', 'constructor using', 'one image', 'strange error', 'parameter javascript', 'chrome extension', 'connection', 'project', 'certificates', 'routes rails', 'shopify', 'extensions', 'mvc hibernate', 'retrofit', 'gridview', 'php timestamp', 'toolbar', 'part image', 'fix error', 'adding object', 'find variable', 'selectlist', 'initializers', 'uidatepicker', 'parameter c#', 'post array', 'row click', 'open another', 'rails error', 'refactoring', 'item type', 'function argument', 'working localhost', 'line arguments', 'c++ const', 'patch', 'application development', 'external process', 'html', 'based login', 'dynamic height', 'browsers', 'table jquery', 'notice undefined', 'multi', 'formdata', 'inclusion', 'photo', 'declare', 'underneath', 'google', 'expandablelistview', 'captcha', 'matlab', 'notifications', 'make method', 'mapped', 'picklist', 'array value', 'getters', 'smaller', 'file text', 'code visual', 'threw exception', 'jsp pages', 'retrieved', 'enhanced', 'modulus', 'application configuration', 'nice', 'use python', 'python selenium', 'inserting values', 'paired', 'errors', 'value another', 'php pass', 'application mac', 'using proxy', 'timeout', 'sql table', 'headertemplate', 'zipping', 'eclipse error', 'python linux', 'input field', 'class c#', 'hibernate transaction', 'value textfield', 'click button', 'store apps', 'max', 'select max', 'string format', 'slicing', 'end date', 'd3 javascript', 'calling another', 'run code', 'rest webservice', 'urlaction', 'typed', 'plain text', 'slashes', 'intermittent', 'php equivalent', 'sandbox', 'sqlcommand', 'remove object', 'pseudo', 'table exists', 'string variable', 'get real', 'get current', 'major', 'empty strings', 'giving', 'session value', 'compiling c++', '32 bit', 'document java', 'jtextfield', 'suggest', 'scroll div', 'insert current', 'expected response', 'consumption', 'alamofire', 'refused connect', 'mongodb using', 'request parameters', 'operands type', 'negative value', 'strange behavior', 'leaks', 'duplicate key', 'dictionary using', 'passenger nginx', 'static context', 'comment', 'li tag', 'factor', 'sizeof', 'object attribute', 'setting', 'enabling disabling', 'streamwriter', 'jackson deserialization', 'project using', 'reload page', 'override default', 'square brackets', 'type application', 'long strings', 'returned', 'thread safety', 'null pointer', 'change button', 'poco', 'javalangnosuchfielderror', 'keras', 'deletes', 'simplexmlelement', 'text image', 'unreachable', 'getting invalid', '55', 'data datagridview', 'value set', 'connection error', 'jquery hide', 'comparisons', 'coding style', 'range', 'existing data', 'java netbeans', 'week month', 'restrict access', 'multiple inputs', 'performance java', 'domain', 'minutes', 'precise', 'sending image', 'one div', 'java application', 'value field', 'api mvc', 'onetoone', 'public key', 'value view', 'primary keys', 'accepting', 'yet', 'multipart', 'ordering django', 'via js', 'arguments 1', 'blank', 'model fields', 'capistrano deploy', 'function ajax', 'peer', 'ldap', 'button click', 'ioerror', 'signal', 'java thread', 'plot multiple', 'string pattern', 'software', 'performseguewithidentifier', 'change mouse', 'autolayout constraints', 'glassfish server', 'causing memory', 'key event', 'auto generated', 'nslog', 'innerhtml', 'get child', 'biginteger', 'python unittest', 'redirection', 'file php', '46', 'encoding utf8', 'page every', 'array integers', 'django cannot', 'unknown command', 'data row', 'change value', 'previous month', 'template parameter', 'change variable', 'decrease', 'vanilla', 'javascript url', 'dependency injection', 'aspnet webapi', 'hard drive', 'file jquery', 'integer values', 'navigation controller', 'cannot call', 'function cannot', 'regression line', 'interpreted integer', 'selected radio', 'read txt', 'getting input', 'class call', 'transactionscope', 'percentages', 'start new', 'php email', 'save values', 'url query', 'wordpress plugin', 'write csv', 'curl', 'please', 'multiple requests', 'nested class', 'download images', 'search bar', 'exe file', 'scikit learn', 'create input', 'specific column', 'objects different', 'file net', 'list using', 'expression', 'previous page', 'array php', 'weak', 'python 32', 'administration', 'pass json', 'within string', 'phpunit test', 'pthread_create', 'requestparam', 'size exceeded', 'keyvalue pairs', 'image load', 'tracking', 'continuewith', 'object python', 'uitableview', 'page another', 'type', 'first click', 'query get', 'arrays', 'datetime c#', 'hashes ruby', 'lambda function', 'transfer', 'net dll', 'inserting data', 'contains certain', 'javascript new', 'commaseparated', 'menuitem', 'jsf +', 'date input', 'wanted', 'mongodb java', 'two csv', 'ws', 'dropdown selection', 'heap space', 'subsetting', 'data ms', 'virtual function', 'windsor', 'selecting multiple', 'invalid uri', 'androidviewinflateexception', 'preexisting', 'fan', 'polymorphism', 'framework c#', 'error sql', 'static classes', 'cant seem', 'trying access', 'data aspnet', 'proxy', 'parameter another', 'parse json', 'make spring', 'loses', 'ms access', 'belongs_to association', 'status 1', 'background images', 'strict', 'sqlparameter', 'member functions', 'array type', 'receiving data', 'server returned', 'spring 3', 'reports', 'service layer', 'google spreadsheet', 'read whole', 'today', 'mysql like', 'datagridview vbnet', 'numbers php', 'object parameter', 'php cli', 'select columns', 'pandas data', 'webapp', 'social', 'value button', 'list gridview', 'code 1', 'xaml file', 'wordpress theme', 'object given', 'tapped', 'proceed', 'variadic', 'inheritance', 'convert sql', 'applied operands', 'table display', 'scrollable', 'maps javascript', 'element', 'valgrind', 'acting', 'mysqli', 'react redux', 'tutorial', 'permgen', 'get jquery', 'makefile', 'using com', 'reloading page', 'configure', 'cant set', 'target machine', 'lambdas', 'c source', 'versioning', 'value dropdownlist', 'change div', 'displayed', 'using opengl', 'force', 'jquery image', 'vsto', 'make array', 'dll c#', 'response text', 'open html', 'automatically import', 'd3', 'div click', 'characters like', 'hy000', 'loss', 'class struct', 'easier', 'multiple inheritance', 'via python', 'function java', 'keydown event', 'difference using', 'directory structure', 'hexadecimal', 'two characters', 'dictionary list', 'save multiple', 'disk space', 'form ajax', 'generate html', 'cant', 'win', 'error null', 'jdk', 'transforming', 'selectors', 'login system', 'moving objects', 'uitextfield', 'full text', 'explain', 'jquery multiple', 'without context', 'class base', 'user control', 'enum type', 'read data', 'behaving', 'function nodejs', 'data string', 'retrieve database', 'p invoke', 'commysqljdbcdriver', 'luna', 'multiple clients', 'error accessing', 'python global', 'var', 'stored procedures', 'input typefile', 'packets', 'url path', 'php app', 'hub', 'eg', 'continue', 'using session', 'change model', 'android opengl', 'next', 'ruby gem', 'tick labels', 'inherit', 'expression must', 'android error', 'gif', 'resources', 'instagram', 'doesnt exist', 'delimited string', 's3', 'iphone apps', 'server ip', 'authorization', 'python script', 'google api', 'urls using', 'application net', 'get called', 'wpf databinding', 'element jquery', 'locations', 'styling', 'draggable', 'json xml', 'defer', 'table java', 'struts 2', 'preg_replace', 'files uploaded', 'master page', 'ddd', 'websites', 'adjust height', 'using dom', 'zurb', 'anyobject', 'pie', '202', '4 +', 'update existing', 'array containing', 'structure', 'two sets', 'headless', 'add multiple', 'rails route', 'post data', 'invalidoperationexception', 'run jquery', 'bind_param', 'using named', 'turning', 'c++ compile', 'sections', 'get value', 'img src', 'wizard', 'htmlelement', 'categorical', 'invalid input', '+ jquery', 'multiple sql', 'treeset', 'overlay', 'extremely', 'matrix using', 'another controller', 'handle multiple', 'copy files', 'universal app', 'attributes using', 'dropdowns', 'key django', 'automated', 'qt', 'populating', 'payment', 'http authentication', 'like query', 'value attribute', 'imap', 'href', '2nd', 'epoch time', 'return null', 'values list', 'call php', 'video file', 'php arrays', 'mysql +', 'date android', 'reference c++', 'formatting', 'event listener', 'multiple elements', 'heap', 'jquery modal', 'list type', 'must return', 'method javascript', 'selected row', 'custom directive', 'number integer', 'jquery select', 'rename file', 'display error', 'javascript regular', 'cant encode', 'mysql connector', 'godaddy', 'eclipse create', 'binded', 'name found', 'value python', 'defined using', 'wpf image', 'ram', 'flash', 'dynamically changing', 'css jquery', 'page post', 'covered', 'piechart', 'using database', 'writer', 'days two', 'text area', 'revert', 'image src', 'universal', 'pg', 'case', 'model field', 'elements vector', 'stat', 'recursive method', 'join query', 'bean property', 'alert message', 'jquery event', 'python 2', 'microsoft', 'queries', 'generated html', 'object class', 'maven artifact', 'javascript java', 'multi threaded', 'dom javascript', 'showing error', 'smtp email', 'gmail account', 'rights', 'child element', 'mysql error', 'hover event', 'spent', 'projection', 'manytoone', 'server program', 'pointers c', 'txt file', 'calling class', 'encrypt decrypt', 'openssl', 'xml files', 'downloadable', 'aspnet user', 'connect mysql', 'hit', 'lnk2001 unresolved', 'image preview', 'executing php', 'textbox empty', 'isolate', 'documents', 'virtual environment', 'json mysql', 'get link', 'form field', 'input file', 'via java', 'date value', 'java gui', 'service reference', 'ruby windows', 'hexadecimal string', 'javascript without', 'ivars', 'combobox selection', 'serial data', 'overlapping', 'beautifulsoup', 'encoding problems', 'factory girl', 'get type', 'anchor', 'unknown number', 'compatibility', 'dataframe r', 'dont match', 'unable open', 'starts', 'apache camel', 'using pandas', 'use class', 'server connection', 'device', 'websockets', 'get attribute', 'bigquery', 'get back', 'memoryerror', 'values dynamic', 'integers array', 'proper use', 'put delete', 'adonet entity', 'connection closed', 'user select', 'mpi', 'vertically', 'exception type', 'pro', 'one row', 'found', 'json array', 'wheres', 'saving', 'php display', 'files ftp', 'html data', 'regex matching', 'arrays javascript', 'video duration', 'aligning', 'declarations', 'locking', 'symfony2 twig', 'timeseries', 'principal', 'app using', 'javascript array', 'passing 2d', 'example working', 'array index', 'based upon', 'prevent duplicate', 'select dropdown', 'passing class', 'set file', 'javascript redirect', 'identical', 'way use', '#', 'selenium java', 'main', 'using id', 'new item', 'value number', 'loop list', 'different page', 'jquery toggle', 'decimal points', 'type node', 'javascript send', 'paused', 'bar', 'get maximum', 'unsigned', 'ci', 'php login', 'valid win32', 'mail', 'time string', 'trigger event', 'property another', 'scrolled', 'gridview row', 'file new', 'iframe', 'heap memory', 'indices', 'load error', 'value text', 'default browser', 'write console', 'learn', 'asynchronous', 'packages', 'azure storage', 'instanceof', 'already defined', 'number rows', 'compile error', 'get location', 'findviewbyid', 'dependency', 'core', 'selected file', 'switch', 'problem reading', 'c++ memory', '15 seconds', 'programming c', 'aspnet controls', 'file class', 'main class', 'automapper mapping', 'shutdown', 'value method', 'method signature', 'stringbuilder', 'titanium', 'overlap', 'via ftp', 'console application', 'tabbar', 'parameters', '2dimensional', 'fixed position', 'compression', 'filter array', 'studio 2012', 'connection c#', 'c# visual', 'php data', 'plaintext', 'redirecting page', 'simplify', 'set position', 'fastest way', '05', 'insert values', 'multiplication table', 'observable collection', 'iteration', 'listview android', 'timing', 'section header', 'code multiple', 'objectivec iphone', 'django admin', 'cell color', 'simulation', 'unable locate', 'image folder', 'get parameter', 'sql syntax', 'input button', 'contains value', 'partial string', 'regex validate', 'work ie8', 'g', 'expression replace', 'framework code', 'azure ad', 'trigger file', 'python opencv', 'sorted array', 'expr', 'extjs grid', 'standalone', 'ljavalangobject', 'child window', 'way access', 'boost asio', 'ado', 'wpf window', 'properties file', 'cameras', 'soap', '5x', 'hidden', 'variable jquery', 'jquery function', 'data listview', 'current page', 'wcf client', 'button change', '09', 'lvalue', 'openmp', 'http web', 'move div', '80', 'decrypt', 'text java', 'user name', 'r version', 'using php', 'reference file', 'class vs', 'get input', 'self referential', 'column 1', 'record table', 'many times', 'java 8', 'using switch', 'minimum', 'strings javascript', 'records', 'file c++', 'request body', 'groovy script', 'variables one', 'pause', 'changing css', 'leading trailing', 'working expected', 'python find', '2 times', 'coding', 'programme', 'unable send', 'c++ opengl', 'convert stdstring', 'text string', 'apple push', 'get coordinates', 'false', 'ienumerable', 'without affecting', 'colors', 'guessing game', 'area', 'tags', 'set aspnet', 'php json', 'objects via', 'documentwrite', 'source', 'connection failed', 'fonts', 'admin form', 'character time', 'ios 10', 'server time', 'ssl certificate', 'linq queries', 'string conversion', 'connect database', 'request get', 'vba', 'gruntjs', 'accepts', '#define', 'rails using', 'shared', 'despite', 'flash object', 'error attempting', 'best practice', 'xhtml', 'varying', 'qml', 'taking', 'query find', 'variable equal', 'say', 'doesnt recognize', 'rails active', 'unique constraint', 'grayscale', 'button', 'passing pointer', 'php excel', 'request uri', 'color value', 'files c', 'characters text', 'results', 'page javascript', 'marked', 'bat file', 'javascript global', 'round number', 'properties files', 'use string', 'values hashmap', 'console', 'openshift', 'django tutorial', 'check process', 'char c', 'catch exception', 'jquery autocomplete', 'multiple arrays', 'datepicker', 'whats efficient', 'like c', 'fosuserbundle', 'unordered', 'match text', 'ipad iphone', 'js regex', 'must', 'python 3', 'clicking button', 'time value', 'ellipse', 'attacks', 'boolean values', 'address', 'get objects', 'equivalent c#', 'data retrieved', 'c++ source', 'users profile', 'dumping', 'authorized', 'upload using', 'jquery replace', 'object iterable', 'aligned', 'hql query', 'utf8 format', 'using post', 'resize event', 'evaluate', 'net framework', 'dialect', 'alert box', 'difference class', 'ocr', 'textview', 'resources folder', 'c++ return', 'make simple', 'move image', 'rxjs', 'activerecord find', 'combinations', 'generate java', 'yaml', 'phone number', 'convert binary', 'pass null', 'xna', 'form controls', 'file doesnt', '43', 'hosted', 'page php', 'python modules', 'instances', 'distinct records', 'ssl certificates', 'php convert', 'gridview excel', 'stackoverflow', 'next row', 'decoded', 'object graph', 'numbers string', 'quartz', 'saving files', 'file line', 'tests', 'umbraco', 'open include', 'java8', 'django error', 'tables one', '1st', 'given user', 'correct use', 'design patterns', 'email using', 'studio code', 'boundary', 'jquery object', 'zipped', 'serve', 'parsing date', 'indices must', 'streams', 'form checkbox', 'unique random', 'possible add', 'direct', 'cant write', 'mobile phone', 'snake game', 'real', 'systemtype', 'specifically', 'way copy', 'save value', 'dynamically select', 'php make', 'apache commons', 'packing', 'connection using', 'create empty', 'uiviewcontroller', 'simultaneous', 'getting user', 'lambda expression', 'phone 81', 'mocha', 'function template', 'converting data', 'except', '1 2', 'inline', 'get date', 'string integer', 'integral', 'use instead', 'returning', 'response header', 'de', 'import class', 'python extract', 'unable get', 'aspnet session', '2000', 'fileinputstream', 'form without', 'execute javascript', 'another one', 'code execution', 'standards', 'client api', 'locked', 'class based', 'include javascript', 'arguments java', 'decoding', 'karma', 'select value', 'create database', 'way print', 'navigator', 'clicked', 'values multiple', 'function load', 'first row', 'big', 'gcm', 'custom validation', 'piece', 'new tab', 'k', 'windowlocation', 'sudo', 'node', 'handled', 'jpa2', 'addeventlistener', 'using global', 'mysql column', 'failed initialize', 'helloworld', 'formset', 'implicitly', 'double quotes', 'select data', 'mistake', 'interview', 'formed', 'iis 7', 'qpushbutton', 'convert python', 'please help', 'pass arguments', 'scroll bars', 'file content', 'call rails', 'pageload', 'scrolling', 'resize image', 'formpanel', 'loaded', 'attribute form', 'convert void', 'apple', 'pythonrequests', 'button swift', 'array random', 'products', 'java function', 'h', 'sortable', 'record mysql', 'fatal', 'symfony2', 'file object', 'property working', 'code javascript', 'dropping', 'left outer', 'form_tag', 'symmetric', 'nonobject error', 'using jdbc', 'return statement', 'data excel', 'streaming', 'valid', 'select checkbox', 'paths format', 'enclosed', 'matching string', '256', 'stub', 'removing multiple', 'sharepoint', 'could open', 'errors using', 'using directive', 'vbnet c#', '106', 'bindingsource', 'java tcp', 'ssl error', 'file dialog', 'django development', 'running windows', 'specifier', 'application web', 'convert const', 'api', 'refresh data', 'get', 'class array', 'java generics', 'programmatically swift', 'working jquery', 'java compiler', 'delimited file', 'object another', 'signalr', 'drawn', 'inconsistent accessibility', 'using swift', 'service android', 'javascript date', 'wxwidgets', 'signatures', 'currently logged', 'subclass', 'messed', 'image files', 'returns empty', '1054 unknown', 'java methods', 'using iterator', 'vertex', 'common', 'frame based', 'float string', 'ajax request', 'output console', 'basic example', 'calling python', 'using httpwebrequest', 'priority queue', 'disadvantages', 'find last', 'areas', 'parameter values', 'previous value', 'account', 'parsing error', 'clients', 'specific table', 'studio express', 'masterpage', 'last 7', 'hex color', 'groupbox', 'using log4j', 'net core', 'two vectors', 'list files', 'model rails', 'surface', 'shows wrong', 'repeating', 'nested dictionary', 'cropping', 'timestamp', 'vs 2015', 'server', 'endpoint', 'guaranteed', 'alignment', 'random color', 'jwt', 'assignments', 'create objects', 'potential', 'string multiple', 'toggle div', 'beginner', 'window using', 'use mysql', 'login button', 'time specific', 'typedef', 'multiple table', 'udp packets', 'request error', 'limit', 'definition', 'randomly generated', 'next element', 'function php', 'class attribute', 'use default', 'event bubbling', 'sorting data', 'sort function', 'free memory', 'attributes', 'subprocess module', 'javascript validate', 'contains text', 'cannot assign', 'web reference', 'aspnet c#', 'properties object', 'ubuntu 1110', 'debugger', 'c++ java', 'eliminate', 'image google', 'multiplayer', 'within aspnet', 'python return', 'toarray', 'image blob', 'unbuffered', '1204', 'homebrew', 'express', 'separated string', 'oracle sql', 'storing', 'chat', 'functions javascript', 'variable declared', 'marker', 'browsing', 'method type', 'credit card', 'c++ vector', 'policy', 'vector pointers', '111', 'font color', 'ruby', 'file opening', 'constructor call', 'remote true', 'custom list', 'multiple conditions', 'unicodedecodeerror', 'pass one', 'string text', 'happen', 'find file', 'jscrollpane', 'display selected', 'class type', 'error checking', 'net 4', 'wav', 'ant', 'whether string', 'object javascript', 'string integers', 'exhausted', 'internet', 'applicationproperties', 'get rails', 'calling javascript', 'pixels', 'using', 'limitations', 'event div', 'ruby array', 'readline', '2 dimensional', 'rows sql', 'warning failed', 'mdb', 'catching', 'div width', 'occured', 'javalangoutofmemoryerror', 'keeping aspect', 'repositories', 'fstream', 'access specific', 'radiobuttonlist', 'focus textbox', 'match string', 'using mvvm', 'precision', 'bind data', 'standard deviation', 'token using', 'superclass', 'find main', 'array parameter', 'test project', 'httpcontext', 'underscorejs', 'method set', 'one list', 'better use', 'multiple columns', 'zip archive', 'rvm install', 'make input', 'ljava', 'pairs', 'python c++', 'lng', 'functionality', 'possible get', 'get form', 'class inside', 'item dropdown', 'backgroundcolor', 'open directory', 'template function', 'dbnull', 'apk', 'visited', 'systemdrawing', 'resets', 'appropriate', 'link error', 'returns false', 'fields one', 'remove class', 'changes value', 'multiple interfaces', 'html page', 'app console', 'jquery tooltip', 'cake php', 'get local', 'column count', 'run command', 'yields', 'textfile', 'locationpath', 'hell', 'string name', 'previous', 'mp4 video', 'text file', 'origin', 'fragment', 'jenkins', 'click jquery', 'redraw', 'lazy load', 'getting file', 'file remote', 'server table', '000', 'first page', 'datetimepicker', 'contained', 'gateway', 'reporting', 'cant select', 'get key', 'trigger function', 'llvm', '8 streams', 'pagination using', 'encountered', 'solaris', 'divided', 'java string', 'error sending', 'firebird', 'javascript set', 'python package', 'c# make', 'update column', 'browser download', 'authorizeattribute', 'app ios', 'raw', 'value checked', 'htmlactionlink', 'sends', 'code coverage', 'tinymce', 'page load', 'image view', 'unable', 'email addresses', 'c++ copy', 'adding items', 'java runtime', 'button selected', 'another array', 'serial port', 'remove extra', 'spring boot', 'unsorted', 'application startup', 'game server', 'depending value', '16', 'linq', 'json html', 'plain javascript', 'element list', 'use existing', 'wmi', 'exception java', 'generate random', 'perform action', 'path database', 'one listbox', 'development', 'foreign key', 'login failed', 'unit tests', 'woocommerce', 'data sets', 'gem', '71', 'jquery date', 'function onclick', 'context', 'compiled', 'graphic', 'google charts', 'centos', 'division', 'permgen space', 'prices', 'listobject', 'celery', 'service call', 'populating dropdown', 'attribute element', 'emberjs', 'previously', 'foreign', 'code inside', 'strong', 'launched', 'encoding', 'whether', 'minus', 'type error', 'scrollto', 'checkbox list', 'preceded', 'clean way', 'bootstrap modal', 'goal', 'letter word', 'validate multiple', 'format date', 'segments', 'python class', 'type array', 'last name', 'date type', 'check first', 'foreach loop', 'could created', 'java variable', 'remove attributes', 'https using', 'anonymous functions', 'cforeach', 'hits', 'autowired', 'variables functions', 'shared library', 'escape', 'php compare', 'bufferedreader', 'python datetime', 'int variable', 'property type', 'item listbox', 'hashcode', 'html select', 'nonstatic', 'url contains', 'nodejs +', 'based radio', 'number occurrences', 'win7', 'wamp', 'styled', 'update model', 'countdown timer', 'pointer c', 'first last', 'border around', 'rpc', 'es 20', 'table database', 'toolkit', 'actionscript', 'display none', 'view cell', 'dropdown list', 'calculate sum', 'strategies', 'displaying images', 'unread', 'winforms listview', 'heroku', 'page working', 'specific form', 'values dictionary', 'want', 'publish', 'odd', 'resolved', 'gdi+', 'lat', 'quantile', 'udp client', 'microsoft access', 'value without', 'using ip', 'android listview', 'cant change', 'unicodeencodeerror', 'rs', 'neither', 'spec', 'without modifying', 'eclipse juno', 'another object', 'string parameter', 'new thread', 'jscript runtime', 'method string', 'session data', 'many many', 'ansi', 'adding additional', 'call action', 'string database', 'using canvas', 'jserb', 'c# using', 'url django', 'way parse', 'click menu', 'method called', 'line chart', '2d vector', 'register', 'arrow keys', 'c# call', 'parsing java', 'removing item', 'using c', 'method error', 'without showing', 'disappears', 'soft keyboard', 'process cannot', 'fail', 'doesnt update', 'end string', 'images using', 'soon', 'tcp connections', 'way read', 'property file', 'using recursive', 'memorystream', 'c file', 'odata', 'mapreduce', 'json', 'exception hresult', 'server multiple', 'spot', 'distance matrix', 'sending multiple', 'multiprocess', 'mongo db', 'suggestions', 'implement custom', 'access private', 'multi line', 'series data', 'output', 'radgrid', 'marks', 'field changed', 'webinf lib', 'name django', 'crazy', 'jquery load', 'value ajax', 'within loop', 'oneliner', 'data insert', 'news', 'net code', 'class members', 'session management', 'whats equivalent', 'class without', 'notification', 'uitableview swift', 'using matplotlib', 'python subprocess', 'coded', 'propertyplaceholderconfigurer', 'another dropdown', 'able connect', 'objects attribute', 'action using', 'cgi script', 'algorithms', 'boolean value', 'want make', 'subplots', 'dreamweaver', 'would', 'wild', 'columns one', 'restcontroller', 'jdbctemplate', 'nsdate', 'creating new', 'vs class', 'php variables', 'mpmovieplayerviewcontroller', 'send message', 'additional', 'class properties', 'nonblocking', 'way extract', 'fires', 'view android', 'better way', 'attempting', 'default selected', 'uint8', 'file based', 'property method', 'info', 'new user', 'contextmenu', 'user data', 'sailsjs', 'testing framework', 'receiver', 'php print', 'angular directive', 'value', 'simple javascript', 'data textbox', 'icon file', 'regression', 'decryption', 'ssrs', 'invoke virtual', 'x seconds', 'mobile', 'separately', 'static fields', 'spaces string', 'file c', 'c# client', 'eclipse', 'crossplatform', 'grids', 'good', 'circular dependency', 'function c++', 'webservices', 'ascii code', 'listbox items', 'corresponds', 'send receive', 'windows linux', 'facebook user', 'loading animation', 'python bindings', 'codeigniter controller', 'displaynone', 'set environment', 'newline character', 'homestead', 'spring configuration', 'speed', 'browser save', 'external', 'html pages', 'android set', 'session variable', 'chat application', 'windows mobile', 'java system', 'pages', 'insert item', 'random row', 'database django', 'hash string', 'angularjs controller', 'php update', 'using jaxb', 'alert', 'object serialization', 'invalid characters', 'using retrofit', 'jquery plugin', 'fatalerrorexception', 'abc', 'mysql table', 'insert sql', 'using facebook', 'check number', 'vue', 'central', 'sftp', 'information', 'virtualenv', 'android development', 'multiply', 'port number', 'outside', 'application spring', 'array image', 'create button', 'could instantiate', 'way close', 'find x', 'class key', 'sort string', 'url parameter', 'checkbox click', 'expression type', 'linq join', 'catch error', 'query like', 'number array', 'div tag', 'expression tree', 'date mysql', 'using enums', 'jbutton', 'twitter bootstrap', 'app engine', 'option select', 'combobox items', 'changing', 'api retrieve', 'dimensional array', 'mingw', 'container using', 'var_dump', 'plugin', 'use php', 'cast value', 'wpf get', 'caption', 'singleton pattern', 'move file', 'java linux', 'specific part', 'csv file', 'error call', 'file types', 'value vbnet', 'uiviewcontrollers', 'height based', 'button checked', 'older', 'javascript function', 'using junit', 'check', 'api getting', 'working django', 'reject', 'api aspnet', 'lpwstr', 'multiple database', 'list view', 'basic authentication', 'array unique', 'qapplication', 'appear', 'dual', 'android http', 'application java', 'posting', 'using javascript', 'datetime date', 'birth', 'one html', 'prompt using', 'javascript button', 'totals', 'taking much', 'consume web', 'statement php', 'required field', 'ansi c', 'file uploads', 'page button', 'importerror cannot', 'certain number', 'decimal numbers', 'fill', 'scroll working', 'int array', 'loaded page', 'app store', 'set initial', 'column csv', 'server python', 'src attribute', 'wont open', 'div clicking', 'typefile', 'html table', 'outline', 'must string', 'datagridview control', 'comparable', 'reading numbers', 'float int', 'mysql array', 'integration testing', 'media queries', 'c# array', 'phpunit', 'get class', 'error near', 'top bottom', 'getting python', 'csharp', 'seconds', 'html tables', 'get position', 'tell', 'c', 'azure', 'symfony doctrine', 'socket', 'curl php', 'dynamically based', 'grid layout', 'rails 30', 'logout', 'using another', 'javadoc', 'prepared statements', 'jaxrs', 'signal strength', 'one property', 'data codeigniter', 'dll file', 'catalog', 'failed error', 'find header', 'object reference', 'array item', 'c# create', 'multiple instances', 'file within', 'gridview data', 'method generic', 'member type', 'uid', 'use visual', 'really slow', 'return custom', 'binding data', 'types', 'float value', 'binary image', 'passing array', 'fluent', 'creating instance', 'eclipse tomcat', 'expires', 'return array', 'without javascript', 'scipy', 'select query', 'cannot used', '30 seconds', 'length one', 'elements name', 'exit status', 'stl', 'without actually', 'cap', 'ad', 'select menu', 'profiles', 'table without', 'web apps', 'jquery defined', 'rdlc report', 'clang', 'originally', 'using explode', 'file exists', 'directive angularjs', 'use', 'image javascript', 'ngclick', 'using static', 'function within', 'angular bootstrap', 'python map', 'inside repeater', 'executable', 'synchronously', 'sql developer', 'expired', 'equivalent javascript', 'synthesize', 'radio buttons', 'rails console', 'source destination', 'get text', 'byte string', 'admin', 'get html', 'characters java', 'php getting', 'using open', 'writing program', 'c++ program', 'without refreshing', 'using conditional', 'swift project', 'adjusting', 'incrementing', 'copy directory', 'program c++', 'index page', 'collapsing', 'mpmovieplayercontroller', 'beginners', 'expecting', 'reading files', 'php scripts', 'reboot', 'supporting', 'assigned', 'thread java', 'generate list', 'highlight', 'function element', 'backwards', 'referrer', 'inside custom', 'firefox ie', 'using cocoa', 'remaining', 'runworkercompleted', 'two mysql', 'downloaded file', 'consolewriteline', 'pass parameters', 'joining', 'alive', 'database visual', 'static array', 'data post', 'make class', 'another window', 'fetching', 'variables inside', 'idiom', 'initialize static', 'file user', 'named parameters', 'data multiple', 'function parameter', 'slow', 'subversion', 'type string', 'language', 'maybe', 'mysql connection', 'weblogic', 'cleaner', 'string mysql', 'parse xml', 'sqlite3', 'write javascript', 'initialising', 'method working', 'nanoseconds', 'dynamic json', 'content javascript', 'hibernate mysql', 'marshall', 'mysql java', 'read excel', 'set font', 'coordinates', 'script within', 'swift 2', 'jade', 'localhost using', 'http post', 'tag beautifulsoup', 'producer', 'begin end', 'class model', 'actual', 'mean javascript', 'problems using', 'php mysqli', 'javascript library', 'wait element', 'tensorflow', 'hibernate exception', 'string formatting', 'kotlin', 'run python', 'local network', 'read lines', 'image element', 'passing arguments', 'string value', 'user aspnet', 'cant see', 'https url', 'array pointer', 'query returns', 'api without', '#ifdef', 'constructor java', 'session cookies', 'different versions', 'use pointer', 'web api', 'dbcreate', 'receive data', 'main method', 'notice array', 'table view', 'canvas', 'constant value', 'problem', 'logged user', 'arrow key', 'fetch array', 'cli', 'bizarre', 'property files', 'query join', 'rspec', 'customize', 'itext', 'function data', 'side using', 'via email', 'value count', 'network share', 'line 0', 'persist', 'php socket', 'statement inside', 'root node', 'fixnum', 'json java', 'mvc 5', 'using r', 'support', 'remote machine', 'scroll position', 'rest', 'need help', 'another property', 'string using', 'tuple python', 'exited code', 'text xml', 'method find', 'deal', 'line file', 'completed', 'column gridview', 'broken pipe', 'calendar api', 'sorting list', 'find', 'jstl', 'const reference', 'path java', 'attribute value', 'losing focus', 'dependencies', 'amounts', 'type text', 'windows xp', 'eclipse c++', 'simple php', 'file local', 'c++ gui', 'arguments c#', 'structs c', 'payments', 'key using', 'dos', 'request working', 'tabbed', 'print statement', 'hello', 'interval', 'dollar', 'link inside', 'function call', 'c# dynamic', 'newer', 'gd', 'g++', 'loading external', 'conversion char', 'delete file', 'image file', 'link page', 'declared scope', 'hides', 'structures', 'cstring', 'multiple url', 'javascript console', 'wide', 'passing value', 'datetime format', 'stdvector', 'double quote', 'upload image', 'java eclipse', 'file convert', 'two digits', 'accurately', 'track', 'freezing', 'liststring', 'detect user', 'pdo error', 'certification', 'port communication', 'input validation', 'javascript pass', 'providing', 'field empty', 'merging', 'header files', 'mvc 3', 'parameters python', 'getting last', 'systemnullreferenceexception object', 'referencing', 'http response', 'javascript jsp', 'reading text', '_server', 'mysql timestamp', 'responding', 'apps script', 'creating empty', 'nstimer', 'photos', 'network interface', 'horizontal scrolling', 'page view', 'wrong', 'method doesnt', 'add elements', 'practise', 'create edit', 'ibm', 'error swift', 'form application', 'servlet using', 'websocket handshake', 'method one', 'emulate', 'sql queries', '503', 'linq sql', 'status 500', 'redirecting another', 'shopping cart', 'aspnet mvc5', 'magic', 'static library', 'getting time', 'layer', 'framework 5', 'returns 0', 'expected primaryexpression', 'crash', 'selecteditem', 'php oop', 'file csv', 'error compiling', 'padding', 'children', 'different lengths', 'php save', 'undefined offset', 'update panel', 'method must', 'every row', 'fragments', 'set text', 'c structs', 'ruby rails', 'ubuntu 1404', 'graphing', 'stdclass', 'modified', 'model classes', 'detect', 'text uilabel', 'using objectivec', 'extern', 'int value', 'terminating app', 'files server', 'mouse pointer', 'message box', 'impossible', 'add string', 'structs', 'square', 'lowercase uppercase', 'integer pointer', 'solved', 'stringcontains', 'hibernate 4', 'model name', 'application eclipse', 'reconnect', 'iterable', 'one server', 'clear textbox', 'sendkeys', 'importerror', 'c# reading', 'google oauth', 'add java', 'couchdb', 'running django', 'dynamic values', 'jpa query', 'forbidden error', 'java threads', 'load time', 'uitoolbar', 'unresolved external', 'resizing', 'asio', 'expression allow', 'driver found', 'leaving', 'running two', 'keyerror', 'c++ lambda', 'get work', 'vs 2012', 'linq entities', 'map using', 'download csv', 'cause', 'inserting', 'rails model', 'td element', 'video stream', 'keycode', 'nested objects', 'tcp sockets', 'class instance', 'stylesheets', 'edit text', 'wpf data', 'casts', 'near', 'viewcontroller', 'hash table', 'without loop', 'xxxx', 'dialogbox', 'recover', 'html using', 'mysql_result', 'wordpress php', 'empty value', 'registry', 'points google', 'constraint', 'dates php', 'www', 'method c#', 'insecure', 'ruby gems', 'config', 'pixel', 'zipfile', 'microsoft jscript', 'upload photo', 'string encoding', 'php contact', 'generated javascript', 'ios android', 'int bool', 'selfsigned', 'simple xml', 'dead', 'authenticated', 'well', 'role', 'subquery', '0 0', 'check table', 'cannot modify', 'telerik', 'one many', 'using column', 'click working', '1 column', 'creating multiple', '__init__', 'pom', 'jquery working', 'echo variable', 'project netbeans', 'attr_accessor', 'number pages', 'store array', 'onclick button', 'passing objects', 'dll', 'python loop', 'union two', 'xcode swift', '10', 'extract first', 'variable undefined', 'annotate', 'input html', 'join two', 'interacting', 'link php', 'lowercase', 'select multiple', '31', 'difference', 'batch file', 'associate', 'change file', 'empty string', 'objects php', 'api call', 'method getting', 'cmdexe', 'injected', 'jumping', 'objects array', 'facebook application', '81 app', '45', 'raise', 'determined', 'loading images', 'thumb', 'serial number', 'detect right', 'resolve error', 'could converted', 'url browser', 'select drop', 'specific div', 'css selector', 'rest apis', 'time difference', 'transition', 'date conversion', 'doubly', 'nondefault', 'fails error', 'information available', 'javautildate', 'iterate array', 'call stored', 'within php', 'heroku rails', 'new value', 'quotes', 'activemq', 'php echo', 'getelementbyid', 'jdbc', 'enforce', 'sql select', 'ever', 'clickonce application', 'struct array', 'redirect_to', 'jquery val', 'components', 'ansible', 'template using', 'show message', 'unable access', 'inline javascript', 'rails create', 'using jackson', 'page iframe', 'list aspnet', 'unable cast', 'indexing', 'vector r', 'custom style', 'set width', 'servlet jsp', 'attempted', 'variable error', 'sorry', 'pure', 'relational', 'save canvas', 'terminal', 'python twisted', 'sort value', 'user input', 'disable input', 'particular row', 'delete mysql', 'number format', 'actionbar', 'route working', 'value 1', 'conflict', 'record exists', 'add new', 'oauth', 'time day', 'unable find', 'symfony 2', 'new object', 'mysql php', 'double float', 'ios device', 'blue', 'values c', 'key pressed', 'appender', 'doesnt find', 'rows jquery', 'expression split', 'update statement', 'defined type', 'without file', 'days date', 'way get', 'dictionary contains', 'type javalangstring', 'javascript variable', 'advantages', 'guava', 'xwwwformurlencoded', 'c1083', 'browser console', 'break loop', 'c++ exception', 'new lines', 'headers already', 'perfect', 'python socket', 'stored procedure', 'multiple queries', 'library linux', 'input radio', 'search result', 'integer', 'yyyy', 'null object', 'automating', 'timely fashion', 'inside java', 'form_for', 'php switch', 'list c++', 'send server', 'invalid token', 'aspnet webform', 'html5 audio', 'cascading', 'single page', '500 internal', 'column excel', 'files visual', 'different threads', 'null error', 'updatepanel', 'encode decode', 'approach', 'bubble', 'confused', 'erlang', 'linebreaks', 'api key', 'documentready', 'javascript calling', 'java heap', 'every page', 'silent', 'multiple options', 'library python', 'row data', 'storing user', 'hash map', 'method group', 'converting integer', 'private static', 'color java', 'express checkout', 'datatypes', 'would like', 'parameter passing', 'parallel processing', 'printf', 'validation allow', 'substring string', 'connection class', 'sum', 'deserialize', 'background worker', 'based web', 'date column', 'mouseenter', 'multiple form', 'variable assignment', 'implement file', 'use net', 'java date', 'smart', 'input tag', 'studio c#', 'certain time', 'local storage', 'beginning', 'last value', 'dictionary keys', 'holding', 'sample', 'async sockets', 'date string', 'cannot add', 'vista', 'svg element', 'virtual method', 'stop page', 'digital', 'rid', 'observable array', 'validation fails', 'sql java', 'onsubmit', 'uploading images', 'checkboxs', 'tab delimited', 'type arguments', 'users location', 'stringreplace', 'function python', 'image save', 'contenttype', 'net equivalent', 'yes', 'word sentence', 'java swing', 'find current', 'file classpath', 'regular expressions', 'pi', 'serializing', 'aspnetmvc', 'single array', 'method inside', 'use object', 'invalid arguments', 'mvc2', 'change cursor', 'installing package', 'connection pooling', 'check input', 'intact', 'threejs', 'completion handler', 'expected declaration', 'mediaplayer', 'line java', 'individually', 'ssl', 'destruction', 'focused', 'values aspnet', 'within iframe', 'biggest', 'jpa spring', 'scheduled', 'key dictionary', 'property length', 'class inheritance', 'menu bar', 'variable scope', 'error expression', 'c struct', 'clicked using', 'backgroundworker', 'allows', 'email php', 'two columns', 'value code', 'crontab', 'xml request', 'pk', 'class python', 'anything', 'inside javascript', 'function execute', 'static methods', 'scatter plot', 'third', 'geting', 'directory files', 'draw rectangle', 'name variable', 'validate form', 'find common', 'java input', 'prism', 'send string', 'setinterval', 'scrollbar', 'image via', 'procedure c#', 'currency', 'make thread', 'calculate difference', 'string representation', 'directory java', 'mean', 'swift get', 'vulnerability', 'ftp php', 'lib folder', 'repo', 'update value', 'hex value', 'existing file', 'tls', 'vector', 'string two', 'execute python', 'desktop app', '22', 'custom attribute', 'without default', 'using twitter', 'using requests', 'option selected', 'cost', 'button clicked', 'configuration settings', 'object using', 'lots', 'rating', 'column id', 'vertices', 'list based', 'jersey client', 'string php', 'binding source', 'javascript nested', 'gps', 'generation', 'java jdbc', '500', 'obtaining', 'weeks', 'sufficient', 'practice java', 'finishes', 'engine java', 'button trigger', 'fields empty', 'file database', 'supported', 'loading indicator', 'ascii characters', 'cannot modified', 'specific page', 'using xaml', 'creating file', 'hibernate', 'script running', '+ angularjs', 'backgroundimage', 'dimension', 'image upload', 'unique values', 'slides', 'concept', 'php class', 'java equivalent', 'create random', 'calculate percentage', 'c# generic', 'class class', 'part array', 'line breaks', 'layouts', 'trusted', 'get xml', 'always returning', 'large string', 'array items', 'processes', 'field form', 'prop', 'cocos2d', 'hashtag', 'pad', 'window without', 'using interface', 'page new', 'method method', 'use linq', 'return function', 'servlet container', 'java scanner', 'async await', 'activex control', 'custom format', 'asterisks', 'way update', 'run shell', 'using cakephp', 'element class', 'last character', 'old version', 'syntax check', 'application context', 'variable loop', 'write method', 'visitor', 'thats', 'using arrays', 'localtime', 'eventhandler', 'destructors', 'matrix vector', 'invalid character', 'dropdown value', 'file client', 'pip install', 'pil image', 'importing excel', 'didnt', 'cursor', 'denied', 'add textbox', 'forms c#', 'windows store', 'rails 3', 'root directory', 'following code', 'specific text', 'columns pandas', 'logcat', 'mvc c#', 'using sqlite', 'cakephp', 'xml php', 'div onclick', 'listbox item', 'ajax function', 'url jquery', 'get rows', 'php xpath', 'played', 'ftp server', 'form another', 'printable', 'via https', 'notification system', 'xxx', 'return two', 'delimiters', 'bad practice', 'io', 'java jar', 'using jstl', 'studio 2010', 'element div', 'requirements', 'check whether', 'decimal string', 'parsing string', 'remove first', 'tables using', 'based selection', 'project structure', 'import xml', 'kendo', 'fetch', 'custom error', 'run program', 'dojo', 'groupby', 'clear', 'linqtoentities', 'min', 'row table', 'ios simulator', 'project euler', 'using flask', 'working', 'script php', 'plugin working', 'hex', 'continuous integration', 'drawing lines', 'make button', 'index 1', 'large', 'windows services', 'set properties', 'writing xml', 'technology', 'getting cannot', 'note', 'android emulator', 'hidden fields', 'redux', 'castle', 'convert', 'file different', 'invalid json', 'lnk2001', 'failed execute', 'current url', 'deep', 'braces', 'array array', 'cs', 'command python', 'foundation server', 'utility', 'replace string', 'resx', 'checkbox using', 'c++ header', 'form', 'gaps', 'elements using', 'soap api', 'disallowed', 'typescript', 'elementwise', 'valueerror invalid', 'mercurial', 'method calling', 'clicking link', 'values another', 'unzip', 'sorted list', 'listint', '302', 'methods class', 'every time', 'append element', 'combobox using', 'row mysql', 'already use', 'sql function', 'array another', 'ubuntu 1204', 'display image', 'sum values', 'exception spring', 'within one', 'laravel check', 'last 24', 'submit form', 'odd even', 'c++ get', 'new browser', 'working android', 'retrieve images', 'php returning', 'sec', 'company', 'systemstackoverflowexception', 'input text', 'hibernate criteria', 'function object', 'ipython', 'current day', 'passing variables', 'savings', 'fadein', 'user controls', 'list containing', 'html formatting', 'pattern c#', 'get php', 'unable run', 'jquery scroll', 'workaround', 'function codeigniter', 'multiple threads', 'aspnet identity', 'way make', 'db connection', 'specific characters', 'represented', 'run javascript', 'find difference', 'fixed width', 'inside fragment', 'aggregate', 'open link', 'ror', 'values django', 'file display', 'rational', 'working ie8', 'qt creator', '110', 'nil swift', 'client connection', 'push', 'unsupported majorminor', 'convert text', 'springboot', 'fully', 'nested loop', 'string letters', 'path windows', 'using date', 'lexical', 'arbitrary', 'daemon', 'multiple tables', 'disable', 'urlopen', 'leading', 'displaying image', 'fedora', 'function find', 'strings c', 'regex allow', 'classification', 'objects list', 'c# programmatically', 'adding rows', 'template argument', 'current file', 'exception thread', 'start c#', 'open', '32', 'setattribute', 'delimited', 'current_user', 'via url', 'method check', 'error ajax', 'create 2d', 'jpa hibernate', 'string find', 'document using', 'convert json', 'intellij', 'pound', 'value enum', 'migration', 'draw', 'files within', 'yosemite', 'window title', 'objects c++', 'concat', 'runs', 'value cannot', 'function javascript', 'correct format', 'depend', 'find dom', 'pre', 'chrome console', 'call method', 'undefined variable', 'smoothly', 'sublime text', 'download link', 'jboss', 'os x', 'type type', 'images php', 'autogenerated', 'terms', 'expiring', 'input console', 'number c', 'decode json', 'forward slash', 'proxy setting', 'query', 'one page', 'value table', 'studio gradle', 'uitableview scroll', 'empty space', 'specific values', 'actively', 'systemargumentexception', 'object callable', 'underline', 'smooth', 'bootstrap carousel', 'java call', 'aspnet ajax', 'making ajax', 'pipeline', 'html5 localstorage', 'libs', 'subclasses', 'printf format', 'laravel 54', 'property object', 'significant', 'java finding', 'radius', 'nonstandard', 'dangerous', 'downloading files', 'sounds', 'variable defined', 'plain', 'simple c#', 'server ce', 'return string', 'command button', 'please explain', 'minimal', 'onclick change', 'play mp3', 'way combine', 'lnk2019', 'form page', 'sending emails', 'mongodb query', 'values java', 'served', 'two strings', 'unwrapping', 'close child', 'file json', 'view based', 'cannot start', 'synchronize', 'user authentication', 'preferences', 'looks', 'webcam', 'hidden input', 'pop window', 'jquery callback', 'linking', 'get function', 'streamreader', 'getting error', 'append', 'cs file', 'specific category', 'ui tabs', 'sort list', 'google visualization', 'display javascript', 'get client', 'outside class', 'type reference', 'conversion java', 'jquery cant', 'image size', 'thread synchronization', 'c reading', 'visual c++', 'edit data', 'outside function', 'use undeclared', 'multiple items', 'closes', 'convert datetime', 'checkboxlist', 'money', 'swift ios', 'tkinter', 'predicate', 'read values', 'dropdown menu', 'getdate', 'seperated', 'key php', 'stringjoin', 'picture', 'multiple fields', 'get absolute', 'different file', 'modules', 'len', 'regex c#', 'using multiple', 'method python', 'dummy', 'net winforms', 'call function', 'file http', 'moving object', 'properties', 'presence', 'ruby 19', 'java convert', 'subscript', 'possible run', 'checking file', 'aspnet 20', 'single double', 'less size', 'data sent', 'ie firefox', 'c function', 'xml attributes', 'used', 'random', 'wordpress site', 'characters string', 'multiple images', 'effects', 'simple calculator', 'txt', 'c library', 'successful', 'name already', 'windows server', 'logged users', 'swift 3', 'spring 4', 'pane', 'change data', 'callback functions', 'chrome ie', 'factory', 'jsonparse', 'webdriver selenium', 'executereader', 'opening file', 'given type', 'show hidden', 'file full', 'jqueryui', 'overwritten', 'visualize', 'returns nan', 'c++ inheritance', 'hashset', 'convert php', 'notes', 'c# dictionary', 'twodimensional', 'saving multiple', 'factors', 'official', 'aspnet 40', 'value change', 'key', 'remove everything', 'tips', '2 different', 'contents div', 'uk', 'make image', 'connector', 'multiple jquery', 'pointer array', 'virtual directory', 'pdf document', 'within list', 'return value', 'java client', 'textblock', 'php command', 'wp8', 'test java', 'download image', 'namespaced', 'talk', 'ie chrome', 'restricted', 'ms excel', 'fetched', 'json post', 'wpf c#', 'initializer', 'href tag', 'base64 string', 'model changes', 'c++ classes', 'check two', 'multiplication', 'links using', 'built', 'call controller', 'character php', 'displaying multiple', 'remote file', 'c# getting', 'making', 'using scanner', 'node xml', 'return boolean', 'read local', 'getjson', 'different database', 'array struct', 'write java', 'text textbox', 'qr', 'rails application', 'associations', 'server socket', 'browser close', 'name key', 'package name', 'validation error', 'normalizing', 'ruby regex', 'java windows', 'browser using', 'elements arraylist', 'events dynamically', 'ptr', 'multi level', 'class android', 'histogram', 'infinity', 'c# winform', 'line line', 'performance issues', 'rvalue', 'method android', 'extract image', 'service windows', 'properly', 'start', 'prepareforsegue', 'specific row', 'generic repository', 'listener', 'give', 'freeze', 'private key', 'offset', 'getting started', 'coldfusion', 'n elements', 'converting datetime', 'email attachment', 'value hashmap', 'create custom', 'session one', 'platforms', 'looping', 'access elements', 'text column', 'last element', 'leading zero', 'missing', 'calling', 'byte java', 'serving', 'remove column', 'add one', 'crypto', 'querying', 'get index', 'training', 'putting', 'trigger', 'rectangular', 'javascript use', 'trace', 'linq statement', 'nbsp', 'directory file', 'two datatables', 'backbonejs', 'prevent double', '2010 express', 'destination', 'using scanf', 'list', 'spider', 'advantage', 'output array', 'add property', 'sys', 'elapsed time', '2d matrix', 'file python', 'image another', 'send sms', 'line characters', 'benefit', 'invocation', 'management', 'caesar cipher', 'translate', 'proper', 'different', 'grant', 'thousand separator', 'collection type', 'value two', 'apache poi', 'within foreach', 'add back', 'retrieve text', 'c++ equivalent', 'zf2', 'behaviour', '+ python', 'failed build', 'odbc driver', 'scanf', 'find user', 'relative file', 'slows', 'stacked', 'wav file', 'using value', 'grid using', 'minification', 'use try', 'method post', 'variables r', 'window load', 'static variables', 'pass generic', 'attempts', 'scikit', 'value function', 'using xmlhttprequest', 'console window', 'poi java', 'parse', 'single row', 'line javascript', 'operator', 'picker', 'error setting', 'phpini', 'ajax file', 'data frame', 'error encountered', 'die', 'new activity', 'webconfig', 'element found', 'blur', 'native c++', 'current month', 'workspace', 'validate textbox', 'use session', 'cant insert', 'write xml', 'sheet using', 'multiple spaces', 'post', 'python3', 'limit exceeded', 'design pattern', 'one element', 'constructors', 'ie7 ie8', 'bearer', 'html javascript', 'using form', 'round', 'google app', 'datatable using', 'massive', 'load content', 'bar controller', 'one submit', 'html webpage', 'unserialize', 'twitter oauth', 'vs arraylist', 'delete multiple', 'method controller', 'meant', 'ruby without', 'python scrapy', 'records sql', 'post request', 'deserialized', 'determine whether', 'prototypes', 'c# add', 'doesnt start', 'aspnet textbox', 'headers sent', 'ascending descending', 'open local', 'menu item', 'associative', 'command line', 'electron', 'visitors', 'api oauth', 'missing type', 'basis', 'value changed', 'characters python', 'available', 'array c++', 'max_execution_time', 'field method', 'without spaces', 'json python', 'event handler', 'scroll', 'variable java', 'bars', 'ajax call', 'uncaught exception', 'unable deploy', 'explanation', 'javascript google', 'phone 7', 'update sql', 'installation', 'second column', 'php add', 'change', 'great', 'format time', 'one letter', 'file upload', 'strings array', 'cant convert', 'dynamic allocation', 'phpfpm', 'cant access', 'select options', 'firefox extension', 'sqlite3 database', 'encoded utf8', 'limits', 'file resources', 'nearest', 'socketio', 'image urls', 'large files', 'blob javascript', 'simple python', 'numeric column', 'detail', 'nonascii', 'gravity', 'comma delimited', 'field using', 'complexity', 'reference object', 'python open', 'back previous', 'cannot connect', 'python read', 'root element', 'object without', 'custom fields', 'html php', 'input line', 'c# list', 'java collections', 'rake', 'number days', 'row database', 'copy clipboard', 'abstract', 'unique key', 'short', 'javascript json', 'vbnet mysql', 'cluster', 'inside form', 'board', 'row dataframe', 'redirecting', 'connection php', 'programmatic', 'scheduled task', 'without changing', 'get twitter', 'resolve method', 'avplayer', 'django static', 'div height', 'code blocks', 'page aspnet', 'c++ library', 'graphical', 'using google', 'join multiple', 'box select', 'gridview aspnet', 'compiler', 'targets', 'performance issue', 'equation', 'c++ file', 'sd', 'dismissing', 'procedures', 'instance variables', 'quit', 'margin', 'reversed', 'ivar', 'automatically', 'dynamic id', 'jquery error', 'finished', 'control', 'remove parent', 'grayscale image', 'values c++', 'directory error', 'instructions', 'absolutely', 'current language', 'another java', 'cast', 'choice', 'hyperlinks', 'textbox aspnet', 'stdfunction', 'run c', 'need make', 'column pandas', 'controls using', 'php preg_match', 'javascript file', 'aspnet 5', 'linkbutton', 'header datagridview', 'mesh', 'preserve', 'rubygem', 'deserializing json', 'yesterday', 'response object', 'parse csv', 'generic interface', 'running time', 'currently', 'format php', 'post facebook', 'error connecting', 'django query', 'creating json', 'counting', 'convert unsigned', 'way write', 'arg', 'text inside', 'customized', 'existing', 'field another', 'manytoone relationship', 'twig template', 'places', 'created using', 'bootstrap tooltip', 'java best', 'dom node', 'one character', 'host', 'error deploying', 'started', 'contenteditable div', 'setcookie', 'remove border', 'parameter method', 'java library', 'code block', 'json using', 'file binary', 'extract text', 'ie 11', 'upload images', 'process id', 'site', 'get row', 'service java', 'inactivity', 'method use', 'one column', 'log4jxml', 'iterate json', 'webapplication', 'array', 'ios using', 'html content', 'file browser', 'mix', 'identity column', 'cant decode', 'else', 'value update', 'iphone using', 'server java', 'access memory', 'set locale', 'resolve symbol', 'keyup event', 'json format', 'icloud', 'java loop', 'call jquery', 'silverlight datagrid', 'ef6', 'array controller', 'framework model', 'client server', 'giving error', 'tomcat server', 'console output', 'arrows', 'promises', 'print variable', 'inside circle', 'tools', 'java getting', 'ajax working', 'form2', 'flush', 'without error', 'based text', 'finding', 'text lines', 'class javascript', 'making custom', 'python 33', 'multithreaded application', 'split list', 'user password', 'rspec test', 'cant open', 'advantages disadvantages', 'running java', 'javax', 'map markers', 'another thread', 'sub folder', 'epoch', 'bar iphone', 'auto refresh', 'created div', 'libgdx', 'downgrade', 'value textbox', 'hyperlink', 'write large', 'text cell', 'jquery passing', 'rails devise', 'php curl', 'r2', 'numpy matrix', 'login website', 'find substring', 'svn', 'visible', 'width div', 'get distinct', 'systemoutofmemoryexception', 'correctly', 'viewport', 'fortran', 'rss', 'machine using', '4 bytes', 'suddenly', 'access value', 'majorminor', 'pomxml', 'c# wpf', 'dynamically generate', 'hash values', 'human readable', 'doctrine 2', 'integrityerror', 'class', 'get web', 'integer division', 'recurring', 'custom model', 'i386', 'contact form', 'custom 404', 'httpurlconnection', 'comma', 'columns datatable', 'unexpected expecting', 'class object', 'exited', 'systemint32', 'data object', 'width', 'dictionary python', 'sharing', 'javascript split', 'error unrecognized', 'location header', 'mouseup', 'website url', 'returning json', 'mysql odbc', 'according', '2 bytes', 'data update', 'null', 'conversion failed', 'dynamic value', 'score', 'item assignment', 'options select', 'statistics', 'ld cannot', 'lead', 'tag javascript', 'listview control', 'char arrays', 'date javascript', 'threading', 'gson', 'ckeditor', 'rows r', 'loading', 'ordered', 'increment number', 'display loading', 'init method', 'rows database', 'apostrophe', 'colour', 'camera', 'letters', 'addon', 'interrupt', 'bmp', 'find smallest', 'timezones', 'data two', 'iframe content', 'merge sort', 'null objects', 'remove multiple', 'serialization deserialization', 'cannot invoke', 'page using', 'image using', 'ie9', 'java based', 'jsp form', 'javascript passing', 'password change', 'keyword argument', 'preprocessor directive', 'first second', 'different models', 'specified cast', 'unmanaged', 'searchbar', 'read first', 'reset', 'related entity', 'dynamically adding', 'active', 'handling null', 'time period', 'android get', 'knowing', 'navigationcontroller', 'websphere', 'multithread', 'nsthread', 'hide column', 'message queue', 'another string', 'expected token', 'something like', 'contains', 'stable', 'uncaught', 'progressbar', 'python file', 'discover', 'milliseconds', 'javascript functions', 'database android', 'creating class', 'form user', 'tree', 'text 3', 'table c#', 'excel c#', 'javalangnumberformatexception', 'mysql_query', 'followers', 'way', 'ignoring', 'japanese characters', 'v', 'application json', 'barchart', 'add element', 'complex objects', 'tooltip', 'remove div', 'check textbox', 'get domain', 'late', 'operand type', 'icon', 'rails tutorial', 'empty rows', 'unexpected error', 'nsinvalidargumentexception', 'python version', 'strlen', 'releasing', 'one another', 'import json', 'image new', 'without downloading', 'java scala', 'rows gridview', 'support item', 'balance', 'two objects', 'uitextview', 'using python', 'sqlalchemy', 'child class', 'php dom', 'getting null', 'python pip', '3rd', 'kv', 'program running', 'second time', 'start activity', 'default image', 'fresh', 'validation plugin', 'one class', 'autoimplemented', 'fadeout', 'undefined', 'fileinfo', 'error ruby', 'jboss 7', 'select count', 'forbidden', 'distance', 'ctrl', 'return 0', 'app due', 'via jquery', 'entity class', 'cannot convert', 'adding extra', 'applying', 'create string', 'c++ cli', 'way send', '401 unauthorized', 'store image', 'processor', 'user model', 'background task', 'grand central', 'across multiple', 'freed', 'also', 'msword', 'vice versa', 'elasticsearch', '41', 'hidden iframe', 'transfer data', 'unsorted array', 'xhr', 'mean python', 'checked items', 'linux command', 'javascript find', 'spring framework', 'excel using', 'exiting', 'cookies', 'parameter count', 'expects parameter', 'googles', 'php mysql', 'terminate', 'values javascript', 'button name', 'via code', 'pyqt4', 'attribute class', 'redirect using', 'get whole', 'login using', 'quantity', 'return json', 'native code', 'access file', 'mime', 'values c#', 'binary', 'efficient', 'scores', 'expected string', 'downloading file', 'add attribute', 'table php', 'innertext', 'gd library', 'modal', 'string enum', 'dynamically update', '3d', 'saving file', 'early', 'input box', 'salt', 'java virtual', 'jdbc driver', 'drawrect', 'java google', 'web based', 'redirect login', 'c# form', 'object properties', 'scrapy python', 'modifier', 'set current', 'using rsa', 'org', 'protractor', 'localstorage', 'removeclass', 'strings using', 'get active', 'best fit', 'log file', '64', 'temperature', 'video using', 'select2', 'buffers', 'create class', 'unescape', 'file rails', 'loading screen', 'use boost', 'php foreach', 'performance', 'edit mode', 'css file', 'url java', 'play sound', 'arrays json', 'hashmap', 'user management', 'value label', 'hide unhide', 'undefined error', 'scoping', 'redefinition', 'benefits using', 'multiple column', 'get google', 'gae', 'skip', 'value select', 'uploaded', 'java j2ee', 'dot notation', 'accent', 'seg', 'change style', 'building', 'formatting string', '0xc0000005', 'android eclipse', 'string manipulation', 'local files', 'splash screen', 'document ready', 'reading multiple', 'display string', 'javascript checking', 'table names', 'canvas element', 'rails find', 'string within', 'buttons java', 'value back', 'rebuild', 'udp socket', 'c# generics', 'function every', 'swift class', 'accordingly', 'one php', 'make object', 'scroll bar', 'remote', 'polynomial', 'occurred', 'onto', 'slower', 'nodejs server', 'sunday', 'reusing', 'working ajax', 'pan', 'causing', 'vs function', 'unexpected character', 'keys', 'x axis', 'new file', 'class method', '2015', 'function get', 'longer works', 'update row', 'optimal', 'redirect', 'true', 'published', 'get related', 'fields mysql', 'java return', 'window height', 'loop java', 'app name', 'entity', 'ssl tls', 'foo', 'image python', 'imports', 'dom tree', 'runtime error', 'html dom', 'python django', 'regex validation', 'multiple arguments', 'javanetconnectexception connection', 'undefined jquery', 'java multiple', 'duplicate entry', 'foreach loops', 'user enter', 'controls', 'match regex', 'controller name', 'in_array', 'another button', 'convert one', 'received', 'default date', 'database using', 'boot', 'feature', 'logical', 'get total', 'event fires', 'tomcat eclipse', 'passing parameters', 'color change', 'code doesnt', 'calling stored', 'validators', 'opencv java', 'send byte', 'jquery bootstrap', 'path file', 'vc++', 'declaring', 'says', 'activerecordrecordnotfound', 'file used', 'get list', 'directory using', 'fancy', 'ruby hash', 'programmatically', 'wpf combobox', 'java programming', 'cert', 'string length', 'found using', 'php redirect', 'number validation', 'question java', 'chance', 'functions using', 'individual', 'using android', '1 0', 'define', 'return nil', 'iframe using', 'javaioioexception', 'string c++', 'generate unique', 'external command', 'get name', 'splitting string', 'panels', 'exceeded', 'regex java', 'array find', 'fluent nhibernate', 'aes encryption', 'windows application', 'neo4j', 'point numbers', 'duplicate entries', 'string int', 'alternative', 'mockito', 'arrays different', 'subclassing', 'timely', 'new instance', 'using script', 'beyond', 'image rotation', 'curve', 'loop get', 'modify', 'japanese', 'import data', 'preferred way', 'ant build', 'pip', 'tree structure', 'scatter', 'error installing', 'implements', 'constant expression', 'items one', 'json objects', 'vaadin', '33', 'mobile devices', 'executing command', 'dynamic data', 'variables javascript', 'methods return', 'receive', 'personal', 'opengl textures', 'know', 'integration test', 'month date', 'made target', 'oncreate', 'small', 'cpanel', 'svm', 'jquery accordion', 'program python', 'regex php', 'method ajax', 'indexerror', 'value textarea', 'intervention', 'folder names', 'unexpected behavior', 'image onclick', 'jpg', 'array arrays', 'api python', 'invoice', 'spring mvc', 'cdata', 'datetime field', 'datagrid wpf', 'admin user', 'unity', 'row datagridview', 'property access', 'truncate', 'static class', 'align text', 'positive negative', 'get exact', 'work correctly', 'pivot', 'data returned', 'alter', 'est', 'mouse hover', 'save method', 'deleting', 'multiple key', 'springdatajpa', 'getting 404', 'gridlines', 'javascript error', 'field required', 'listview header', 'w3c', 'timer class', 'cant import', 'menu items', 'replace first', 'dont understand', 'java mysql', 'activity android', 'dialog box', 'returns undefined', 'post values', 'database hibernate', 'update user', 'vim', 'text textarea', 'unicode characters', 'nsmanagedobject', 'reading', 'image', '2010', 'collection using', 'image sql', 'external library', 'ios swift', 'every element', 'select file', '311', 'php notice', 'tests run', 'socketio nodejs', 'c++ without', 'java applet', 'one number', 'last occurrence', 'write excel', 'pdf using', 'working windows', 'preload', 'variable class', 'logistic regression', 'click element', 'using greasemonkey', 'referenced', 'firebase', 'reporting services', 'classes java', 'persisting', 'programming c++', 'periodically', 'phpsessid', 'ssrs report', 'charts', 'virtualbox', 'write program', 'watermark', 'strpos', 'addclass', 'awesome', 'could', 'key c#', 'exclusive', 'background process', 'before_save', 'expects', 'instead', 'enums', 'code error', 'snow leopard', 'outgoing', 'javanetsocketexception', 'mass', 'image showing', 'bootstrap dropdown', 'file asp', 'save xml', 'paginate', 'qlabel', 'plan', 'highest value', 'field set', 'treemap', 'form controller', 'string constant', 'data frames', 'fx', 'c++ libraries', 'treat', 'linq select', 'entity object', 'key already', 'component', 'add additional', 'file laravel', 'update record', 'symbols', 'using codeigniter', 'ie8', 'expect', 'rspec tests', 'combine 2', 'file folder', 'user download', 'python html', 'passed method', 'dynamic add', 'ios 5', 'camera android', 'certain class', 'class use', 'css class', 'add background', 'jtable', 'single item', 'listbox another', 'button selection', 'existing array', 'textbox control', 'arrays using', 'number digits', 'order string', 'rss feed', 'ios5', 'nested arrays', 'max min', 'add border', 'include_once', 'log4net', 'evaluating', 'tricks', 'access parent', 'leads', 'google chart', 'call c#', 'customizing', 'windowsce', 'get id', 'variable c++', 'insert string', 'combination', 'data ios', 'iso88591', 'has_many association', 'localized', 'ggplot2 r', 'mvc dropdownlist', 'unable install', 'display specific', '34', 'color div', 'javalangunsatisfiedlinkerror', 'pdo php', 'service method', 'char const', 'bulk update', 'ashx', 'complains', 'responsive', 'deserialize json', 'ajax success', 'cannot run', 'char int', 'instance class', 'load local', 'delegate', 'virtual host', '415', 'opengl', 'apart', 'surrounded', 'certain text', 'mdi', 'redirect different', 'dom elements', 'month day', 'initially', 'invalid block', 'httprequest', 'subtract', 'datagrid row', 'web development', 'load php', 'class within', 'want get', 'datetime string', 'occur', 'list element', 'error ubuntu', 'salesforce', 'javascript scope', 'error insert', 'call constructor', 'cant compile', 'class names', 'folder using', 'python 25', 'found type', 'data list', 'sentences', 'left join', 'quality', 'page layout', 'member class', 'value json', 'asynchronously', 'data rest', 'avaudioplayer', 'positioned', 'button javascript', 'soap request', 'drawing rectangle', 'rails validate', 'paragraph', 'overloaded function', 'sklearn', 'straight', 'key presses', 'calloc', 'automatic', 'using regex', 'envelope', 'saves', 'given string', 'cant connect', 'java se', 'find table', 'box values', 'type bool', 'java replace', 'php select', 'index error', 'assistance', 'error trying', 'return number', 'html div', 'cannot constructed', 'php count', 'version java', 'cannot referenced', 'stroke', 'form sending', 'word text', 'facebook friends', 'text field', 'boot application', 'java method', 'template error', 'status 404', 'property using', 'relative paths', 'file spring', 'beanstalk', 'constructor', 'ddmmyyyy', 'side', 'input using', 'ajax get', 'error type', 'post parameters', 'return different', 'abstract class', 'time c', 'format supported', 'constructor takes', 'get app', 'open stream', 'input integer', 'bytes', 'rn', 'int string', 'object function', 'another c#', 'different colors', 'value radio', 'ul', 'process memory', 'get ip', 'javascript open', 'href link', 'c# mysql', 'set focus', 'seeing', 'install error', 'index string', 'doesnt return', 'pthread', 'initializer list', 'update text', 'equals method', 'iphone sdk', 'cannot write', 'dock', 'illegal string', 'different size', 'expression java', 'c++ convert', 'creating object', 'maximum recursion', 'specific position', 'points given', 'propertys', 'belongs_to', 'boost library', 'orm', 'options dropdown', 'syntaxerror missing', 'cached', 'splash', 'using django', 'x lion', '+', 'reliable', 'insert mysql', 'string cannot', 'sparse matrix', 'variable href', 'datatable row', 'converting date', 'handlebars', 'uncaught reference', 'inlines', 'js jquery', 'c++ class', 'class java', 'install windows', 'better', 'cv', 'would one', 'python java', 'applied', 'delete rows', 'post json', 'elastic', 'li', 'api c#', 'process linux', 'java reflection', 'reorder', 'jvm', 'hooks', 'marionette', 'syspath', 'exactly', 'browser tab', 'string image', 'error x', 'mouse click', 'accept', 'add list', 'returns 404', 'selecting text', 'using lambda', 'detect browser', 'javascript nodejs', 'blinking', 'dropdown menus', 'property', 'sine', 'system cannot', 'uiscrollview', 'jquery page', 'rate', 'attribute', 'sql statement', 'wordpress post', 'exception trying', 'form visual', 'error connect', 'even though', 'variables c', 'post file', 'like button', 'eclipse ide', 'mapstring', 'input jquery', 'descending', 'display text', 'motion', 'getting json', 'java set', 'plot histogram', 'java object', 'repetition', 'mouseover event', 'average', 'single click', 'hive', 'winforms control', 'instant', 'getting selected', 'validate', 'runnable', 'logo', 'application without', 'read line', 'javascript c#', 'workers', 'uncheck', 'rmarkdown', 'sql', 'linkedin', 'method aspnet', 'always use', 'file custom', 'compilation', 'inside iframe', 'handlers', 'exist error', 'beautiful', 'assembly reference', 'dimensions', 'overriding method', 'http_referer', 'get part', 'pass array', 'way return', 'unix', 'header file', 'objectoriented', 'crystal reports', 'item selected', 'java swt', 'search results', 'python get', 'xcode 6', 'ajax response', 'local xml', 'class methods', 'required class', 'splice', 'class property', 'edittext', 'module named', 'pattern', 'studio error', 'object net', 'forward', 'internal server', 'drop box', 'aspnet', 'difference java', 'js application', 'std', 'crud', 'select update', 'native javascript', 'mandatory', 'jni', 'input number', 'look like', 'whats', 'change color', 'jquery create', 'lose focus', 'cshtml', '4 digits', 'insert row', 'cannot create', 'metro apps', 'simple c', 'bootstrap accordion', 'keychain', 'django form', 'adb', 'like', 'socket connection', 'datasource', 'take screenshot', 'sub', 'solving', 'part', 'crossdomain', 'method work', 'winform datagridview', 'span', 'calling static', '2d', 'parts', 'os', 'one record', 'search filter', 'api v2', 'carriage', 'tree c++', 'data url', 'aspx page', 'using function', 'anchor tags', 'php laravel', 'c# enum', 'stored proc', 'event using', 'street', 'c# events', 'image stored', 'byte byte', 'c# sql', 'time c#', 'xamarinforms', 'enter key', 'manytomanyfield', 'create multidimensional', 'text values', 'work firefox', 'file system', 'inside', 'value key', 'start end', 'parameterized', 'angularjs ngrepeat', 'parameters java', 'using null', 'unique identifier', 'shorter', 'protocol buffers', 'column table', 'jpa', 'roles', 'error django', 'wpf', 'create object', 'compare dates', 'function run', 'c# class', 'programmatically generate', 'java ssl', 'array initialization', 'c# working', 'duplicates', 'div tags', 'printing array', 'uploaded files', 'viewcontrollers', 'allowed', 'first item', 'serialize object', 'scalar', 'sent', 'membership', 'gmail', 'open database', 'form json', 'selecting items', 'viewmodels', 'parsing', 'banner', 'error token', 'div background', 'function class', 'apps', 'tweet', '19', 'takes 2', 'follow', 'thing', 'programming c#', 'clientserver', 'looking good', 'backing', 'cant figure', 'implementation using', 'c compiler', 'interface', 'grabbing', 'application using', 'java enum', 'files', 'period', 'remove unwanted', 'thread finish', 'sending sms', 'run cron', 'drawer', 'excel data', 'quotation', 'two text', 'editor', 'teamcity', 'create two', 'server another', 'create static', 'combobox', 'webpart', 'behave', 'dynamic string', '64bit', 'expand', 'standard', 'react', 'wordpress using', 'page session', 'stars', '8 metro', 'c# datatable', 'servletcontext', 'rows datagridview', 'pdo query', 'axis2', 'multilanguage', 'composite primary', 'service running', 'recursively', 'c# save', 'syncdb', 'specific range', 'inside gridview', 'fancybox iframe', 'command found', 'custom header', 'get last', 'maximum length', 'username email', 'xmlgregoriancalendar', 'header php', 'qualifier', 'prepared', 'trigger click', 'css code', 'row numbers', 'number times', 'update delete', 'entry point', 'user location', 'million', 'array bytes', 'selenium python', 'posix', 'viewmodel', 'excel worksheet', 'rvm', 'bundler', 'message', 'poi excel', 'django +', 'values python', 'subdirectories', 'empty values', 'laravel php', 'ones', 'curl request', 'iphone app', 'html comments', 'cdi', 'menubar', 'class aspnet', 'buffer overflow', 'jquery append', 'error pages', 'variable method', 'type c++', 'alpha', 'date difference', 'mysql blob', 'divs content', 'remove special', 'disable javascript', 'file missing', '5 application', 'make sure', 'google cloud', 'php function', 'mouse position', 'ratio', 'python write', 'method another', 'form return', 'load external', 'specific type', 'pycharm', 'make textbox', 'view', 'custom event', 'file file', 'gesture', 'opened', 'specified time', 'jsonarray', 'setters', 'display array', 'designing', 'python memory', 'dynamic form', 'form value', 'java groovy', 'ggplot r', 'binary string', 'textbox', 'using one', 'culture', 'http client', 'c# project', 'refresh page', 'number items', 'page redirect', 'textboxfor', 'method allowed', 'data form', 'spring java', 'concatenate', 'first child', 'php code', 'filepath', 'rake dbseed', 'running jar', 'swagger', 'dynamics', 'itunes', 'array structs', 'data text', 'button programmatically', 'element using', 'stringformat', 'serving static', 'accepts_nested_attributes_for', '9', 'using cookies', 'serial ports', 'group name', 'column datatable', 'using inheritance', 'gpa', 'one string', 'garbage collection', 'one day', 'attempt invoke', 'form javascript', 'stopped working', 'python without', 'screen scraping', 'match number', 'object int', 'clock', 'references', 'stop thread', 'view controllers', 'ide', 'threadsafe', 'image android', 'function defined', '2011', 'html jquery', 'categorical variables', 'subprocesscall', 'deployed', 'telling', 'quick', 'vs java', 'hanging', 'connection could', 'windows command', 'find maximum', 'noob', 'activerecord', 'retrieve user', 'ok', 'sometimes', 'segue', 'join 2', 'swift using', 'serialize', 'negative values', 'delete last', 'maven repository', 'reading data', 'auto click', 'x z', 'ios8', 'think', 'php framework', 'net windows', 'adding text', 'friend', 'user clicks', 'behind aspnet', '323', 'get method', 'c++ dll', 'callback method', 'unused', 'sidebar', 'multiple line', 'upload video', 'server db', 'form elements', 'file specified', 'another variable', 'activation', 'java tomcat', 'jbuttons', 'diagram', 'javascript select', 'merged', 'svg path', 'request', 'row html', 'objectdatasource', 'must defined', 'market', 'file c#', 'values two', 'dependent', 'image byte', 'message body', 'rails form', 'selecting data', 'included file', 'sql script', 'rails 32', 'unhashable', 'array within', 'outputstream', 'cast object', 'multiple domains', 'file inside', 'plus minus', 'datatype', 'simple http', 'recognize', 'however', 'controller view', 'creating database', 'multiple lines', 'using oledb', 'spark', 'way remove', 'countdown', 'unknown column', 'greek', 'writing data', 'data nested', 'writing files', 'using visual', 'within javascript', 'already sent', 'jquery check', 'glassfish 4', 'echo php', 'longitude', 'comprehension', 'find longest', 'script executing', 'static libraries', 'advanced', 'contours', 'expected error', 'getting called', 'legacy', 'every', 'select clause', 'c++ templates', 'get memory', 'two different', 'trust', 'eventtarget', 'find duplicate', 'variables php', 'find elements', 'format mysql', 'opposite', 'array instead', 'authentication required', 'manager', 'using ajax', 'php passing', 'crossorigin', 'variable javascript', 'core data', 'filters', 'server 2012', 'get process', 'factorygirl', 'way escape', 'function', 'error cannot', 'prefix', 'managed', 'already exist', 'sending email', 'months', 'inbox', 'determine', 'cast int', 'belong', 'set folder', 'format data', 'access 2007', 'rails ruby', 'two javascript', 'inside class', 'numbers javascript', 'passing reference', 'store values', 'studio', 'exclude', 'hyphens', 'communications', 'recipient', 'mismatch', 'timestamps', 'defined error', 'xml data', 'event doesnt', 'bash', '10 seconds', 'session transaction', 'gtk', 'convert string', 'detect first', 'chosen', 'rearrange', 'punctuation', 'cannot set', 'make java', 'table sorting', 'parameter name', 'moment js', 'viewdata', '14', 'command php', 'invalid syntax', 'get post', 'java output', 'exec', 'entityframework', 'manage', 'call variable', 'multiple excel', 'records using', 'via reflection', 'aspnet website', 'libgdx project', 'c# sending', 'check session', 'first column', '2 array', 'sheet', 'inapp', 'normal', 'several', 'clientside validation', 'get public', 'hot', 'open close', 'wants', 'code php', 'variable doesnt', 'youtube videos', 'autofill', 'working firefox', 'mvc model', 'structures c', 'custom action', 'string input', 'v3', 'javascript link', 'iqueryable', 'memory leak', 'row column', 'unsupported operand', 'iis7', 'initiate', 'shell script', 'file iphone', 'remote debugging', 'string buffer', 'iterate', 'css property', 'indexof', 'import', 'one way', 'setter', 'node value', 'key array', 'lucene', 'mysql db', 'called', 'values dataframe', 'black background', 'wrapped', 'color text', 'scroll end', 'disabled', 'preserving', '220', 'objects property', 'email c#', 'show form', 'element visible', 'excel java', 'open save', 'html mysql', 'able', 'server 2008', 'array size', 'unable import', 'edge', 'navigating', 'stretch', 'worker thread', 'send large', 'controller function', 'textarea', 'uibutton', 'parameterless', 'connection reset', 'textfield', 'httppost', 'condition variable', 'request member', 'image css', 'javaee', 'replicate', 'compiler cant', 'java store', 'parent controller', 'let', 'generating', 'row selected', 'formulas', 'event user', 'excel csv', 'using html5', 'email via', 'file list', 'q', 'url rewriting', 'socket server', 'error aspnet', 'updating', 'add action', 'repeater', 'cell values', 'appended', 'replace method', 'ee', 'rails javascript', 'credit', 'net mvc', 'aws s3', 'two column', 'get started', 'ssis', 'changing color', 'trying install', 'vb net', 'set css', 'copy one', 'segfault', 'poor', 'close button', 'specification', 'fast', 'resetting', 'c# net', 'gem native', 'theres', 'mvc web', 'facets', 'java source', 'help understanding', 'get substring', 'i18n', 'object controller', 'load javascript', 'made', 'returns array', 'way count', 'ipython notebook', 'longer', 'renders', 'ipn', 'run script', 'sequelize', 'player', 'rails routing', 'one fields', 'array django', 'ninject', 'file downloads', 'replace html', 'heroku app', 'typeerror int', 'wcf service', 'macho', 'getting', 'resume', 'invoke', 'decimal precision', 'php7', 'necessary', 'word file', 'working spring', 'declare array', 'functions working', 'row value', 'provide', 'property initialized', 'adds', 'use dynamic', 'undefined type', 'numbers using', 'c# without', 'availability', 'midnight', 'dd mm', 'problem getting', '310', 'framework 4', 'asks', 'writes', 'split text', 'javascript runtime', 'function use', 'excel 2007', 'table', 'access violation', 'series pandas', 'change form', 'resolve', 'exist current', 'rich text', 'gridview using', '_session', 'list java', 'test framework', 'jquery checkbox', 'button gridview', 'content page', 'checked checkbox', 'accounts', 'input element', 'click image', 'refresh', 'times', 'variable', 'ie 9', 'one instance', 'physical', 'square root', 'resolves', 'params', 'xml document', 'window tab', 'nvarchar', 'c# convert', 'qstring', 'passing string', 'throws error', 'establish', 'dynamically allocated', 'array collection', 'shiny', 'parameter java', 'listview column', 'problem using', 'opengl es', 'wrapping', 'ms sql', 'raising', 'php image', 'release mode', 'file exe', 'trap', 'custom object', 'assignment', 'search file', 'two threads', 'java without', 'ext', 'websql', 'output html', 'get relative', 'msbuild', 'accessing session', 'object string', 'window size', 'redeclare', 'rails', 'processing', 'failed opening', 'query set', 'tfs', 'gridview c#', 'rails project', 'linq groupby', 'cycle', 'firing', 'array values', 'forms', 'exception', 'validation working', 'storing string', 'py', 'python sort', 'gstreamer', 'set timeout', 'boolean array', 'custom collection', 'parent node', 'email body', 'manifest', 'ruby code', 'filtering', 'webxml', 'object array', 'per user', 'duplicates list', 'regex replace', 'indigo', 'get sql', 'draw circle', 'javascript check', 'access data', 'sinatra', 'backward', 'check given', 'managed bean', 'url encoded', 'full width', 'gccs', 'arguments using', 'c# date', 'read', 'openfiledialog', 'serialized', 'falls', 'seen', 'firing twice', 'emit', 'key primary', 'doubles', 'without visual', 'array key', 'cannot change', 'buttons text', 'use django', 'cant push', 'java arraylist', 'converting array', 'save database', 'two numbers', 'result using', 'sending data', 'class parameter', 'deleting row', 'get images', 'inside string', 'could cast', 'overriding', 'binary search', 'color picker', 'unresolved identifier', 'function arguments', 'variables function', 'entry key', 'volume', 'super class', 'return none', 'java servlet', 'weird', 'null reference', 'list values', 'r dataframe', 'tag using', 'processing request', 'passes', 'reduce', 'box using', 'database tables', 'blank spaces', 'foreground', 'yyyy format', 'argument type', 'two databases', 'cache', 'one table', 'mm yyyy', 'hint', 'server side', 'date python', 'linux using', 'codility', 'ews', 'sets java', 'pandas dataframe', 'gives', 'black screen', 'weblogic server', 'return', 'executing code', 'php regular', 'states', 'quickly', 'clearly', 'cursors', 'request url', 'configuration file', 'filesize', 'format number', 'string inside', 'lists using', 'passed', 'select input', 'open failed', 'mat', 'shadow', 'enum value', 'uint32', 'custom http', 'edit', 'inside uiscrollview', 'wicket', 'string comparison', 'createfile', 'theme', 'webpages', 'resource temporarily', 'inside c++', 'get output', 'djangoadmin', 'using foreach', 'data one', 'google calendar', 'specific location', 'table name', 'external file', 'js api', 'font', 'id', 'returns nothing', 'solution using', 'linq left', 'precompiled', 'using storyboard', 'chrome extensions', 'sort', 'jquery remove', 'reloaddata', 'text', 'creating java', 'value sql', 'cpp files', 'tkinter text', 'values session', 'smtpclient', 'c++ initialize', 'daylight savings', 'tkinter python', 'cannot interpreted', 'table insert', 'custom function', 'makes pointer', 'facebook users', 'php regex', 'function always', 'printing pdf', 'rss feeds', 'values nested', 'java_home', 'away', 'store app', 'another file', 'redirect user', 'someone', 'functions return', 'values form', 'object different', 'possible call', 'linq entity', 'make link', 'use ajax', 'query parameter', 'character java', 'null check', 'multidimensional arrays', 'instruction', 'adding jar', 'row count', 'directory php', 'methods using', 'systemnullreferenceexception', 'two points', 'error package', 'associative array', 'large image', 'items listbox', 'connect multiple', 'clob', 'reserved', 'selected cells', 'copy array', 'rerender', 'api login', 'kepler', 'trigger button', 'concatenation', 'oauth2', 'name error', 'jquery +', 'html element', 'async method', 'using adonet', 'infinite', 'cannot insert', 'tab bar', 'javaiofilenotfoundexception', 'different length', 'initialized', 'application gui', 'formatted string', 'oracle jdbc', 'separation', 'handling', 'pointer class', 'hbase', 'php python', 'clientid', 'specified', 'file eclipse', 'email validation', 'newly created', 'vbnet', 'google appengine', 'cmd', 'limited', 'select using', 'package r', 'restarting', '23', 'inheriting', 'doesnt load', 'replace multiple', 'wont work', 'two date', 'read contents', 'compiler error', 'get results', 'deep copy', 'json_encode', 'sqlite error', 'two functions', 'jpa 20', 'php upload', 'reflection get', 'casting object', 'int java', 'collecting', 'empty python', 'logs', 'compare', 'style attribute', 'linq orderby', 'object could', 'python mysqldb', 'data based', 'php mailer', 'avoid', 'select change', 'check multiple', 'grid', 'resulting', 'gracefully', 'redirecttoaction', 'method overloading', 'repeater control', 'systemstring', 'icon image', 'structure javascript', 'add two', 'sonar', 'div elements', 'rolling', 'value exists', 'file using', 'cross platform', 'h2 database', 'method class', 'resource file', 'panel', 'security login', 'argument supplied', 'url parameters', 'refer', 'different values', 'export csv', 'python object', 'mysqlsock', 'download files', 'file java', 'view found', 'reach', 'displaying', 'child objects', 'html generated', 'variable declaration', '3 seconds', 'roll', 'django forms', 'make python', 'reverse order', 'list django', 'java rmi', 'opencv mat', 'based two', 'java', 'undefined behavior', 'passwords', 'link url', 'piping', 'trying use', 'working chrome', 'date dd', 'repeated', 'filling', 'store multiple', 'rollback', 'popover', 'trailing slash', 'interaction', 'artifact', 'eager load', 'finalize', 'client python', 'use javascript', 'figure', 'drools', '+ passenger', 'native extension', 'png files', 'get 2', 'news feed', 'gmail smtp', 'facebook api', 'check checkbox', 'overload operator', 'stop javascript', 'gems', 'interpreting', 'periodic', 'apply css', 'csrf token', '2 lists', 'set page', 'insert text', 'decimal number', 'ionic', 'blank space', 'qtableview', 'dispatch', 'rejected', 'upload files', 'c macro', 'matplotlib python', 'function declaration', 'first element', 'search replace', 'returning list', 'formatter', 'tomcat 7', 'show page', 'get first', 'getting following', 'file read', 'exported', 'textarea input', 'null even', 'share one', 'try use', 'button ios', 'type using', 'onetomany', 'c# webclient', 'check uncheck', 'xamarin', 'forms using', 'getting array', 'thread running', 'highlighting', 'authentication failed', 'copied', 'returning true', 'using css', 'unable upload', 'succeeded', 'numbers', 'variables html', 'cell row', 'files using', 'async task', 'parallelforeach', 'format javascript', 'xml output', 'occurred mscorlibdll', 'refresh token', 'read pdf', 'parse url', 'birthday', 'string 2', 'empty', 'imagemagick', 'month', 'statement c++', 'data using', 'parameter type', 'increasing', 'using vb', 'time stamp', 'reconnecting', 'check specific', 'shrink', 'row color', 'using loops', 'uninstall', 'window scroll', 'mouse cursor', 'adding objects', 'method invocation', 'variables value', 'dialog popup', 'png image', 'squares', 'derived class', 'load event', 'jquery aspnet', 'android sqlite', 'sencha touch', 'reference function', 'image dynamically', 'error sqlstate', 'audio file', 'crlf', 'string recognized', 'jquery code', 'dropdown option', 'get links', 'url routing', 'yield', 'gwt', 'sql datetime', 'matplotlib', 'django models', 'encoding issue', 'validate input', 'path uploaded', 'factories', 'search form', 'nomethoderror', 'error visual', 'runtimeexception', 'isnt working', 'data without', 'update ui', 'targeting', 'match found', 'cors', 'display output', 'page content', 'newtonsoftjson', 'clause linq', 'lock screen', 'bulk', 'scrolltop', 'setrequestheader', 'amazon api', 'juno', 'type void', 'static method', 'function name', 'xyz', 'examples', 'alphabet', 'instantiate class', 'multiple constructors', 'checkbox change', 'asking', 'char', 'aspnet mvc', 'error mean', 'value within', 'joda', 'python 3x', 'browser control', 'url exists', 'trycatch', 'trying send', 'dates using', 'class loading', 'jquery functions', '70', 'priority', 'add html', 'dev', 'unrecognized selector', 'c# classes', 'session timeout', 'convert c#', 'identify', 'unity c#', 'strings c++', 'print function', 'qimage', 'item c#', 'length java', 'subdirectory', 'display images', 'cpus', 'working server', 'th', 'convert local', 'override method', 'header information', 'yii2', 'function prepare', 'json without', 'model instance', 'multiple words', 'field values', 'variables using', 'deployment', 'parse string', 'verification', 'connect sql', 'time picker', 'tokens', 'php load', 'handler', 'scalar variable', 'display contents', 'input data', 'incrementally', 'omit', 'constrain', 'alphabetical', 'location services', 'loop python', 'javascript image', 'smooth scrolling', 'dropdownlist aspnet', 'xmx', 'sever', 'youtube', 'form submission', 'excel file', 'csv files', 'days', 'maven dependency', 'rails 5', 'separating', 'inserting multiple', 'list array', 'attribute name', 'exception details', 'primitive types', 'vs 2010', 'response headers', 'scope variable', 'get session', 'scraping', 'hangs', '2x', 'camelcase', 'returned ajax', 'htaccess redirect', 'letter', 'two images', 'pandas read_csv', 'absolute path', 'pointer', 'float', 'apply', 'raised', 'authentication aspnet', 'error dont', 'sphere', 'python doesnt', 'asterisk', 'php sdk', 'object linq', 'java applications', 'updating database', 'could initialize', 'randomly', 'integers strings', 'subtype', 'php best', 'paging', 'pause resume', 'else statement', 'functions php', 'fired', 'x', 'app config', 'file one', '2010 visual', 'bean validation', 'current time', 'previous next', 'hover effect', 'parent class', 'split array', 'game programming', 'python user', 'using gson', 'property set', 'page numbers', 'function convert', 'marker google', 'coding standards', 'using pip', 'mapstring string', 'learning', 'images', 'redirects', 'multiple pages', 'select rows', 'gray', 'end input', 'automatic reference', 'imshow', 'requires', 'sense', 'use value', 'generated', 'sql c#', 'main form', 'form inputs', 'nilnilclass', 'collect', 'dictionaries', 'numbers list', 'gc', 'table excel', 'javascript switch', 'nested functions', 'dist', 'gb', 'expanding', 'php create', 'threadpool', 'battleship', 'subscription', 'values textbox', 'updating mysql', 'mq', 'rails link_to', 'custom html', 'notified', '3x', 'engine', 'class error', 'using datatable', 'written', 'differ', 'change css', 'convert c', 'autowiring', 'future', 'incorrect syntax', 'json swift', 'unicode character', 'downloads', '1d array', 'currency format', 'collector', 'using firebase', 'dispatch_async', 'abstract method', 'pointer struct', 'marshal', 'create java', 'extended', 'output java', 'anonymous function', 'moment', 'dlls', 'admin panel', 'cannot implicitly', 'day', 'unlock', 'divide', 'aspnet web', 'assigning', 'input typetext', 'groups', 'triggered', 'chart', 'class functions', 'php file_get_contents', 'c extension', 'elements javascript', 'inactive', 'using jsonnet', 'tuples', 'object parent', 'thrown', 'listen', 'select one', 'unexpected token', 'jdbc mysql', 'display search', 'text pdf', 'virtual methods', 'iterate list', 'related objects', 'stale', 'assume', 'use ruby', 'unexpected', 'text_field', 'supplied', 'assembly', 'private constructor', 'update multiple', 'mobile application', 'c# drag', 'value every', 'hang', 'refreshes', 'restore', 'clone', 'json ruby', 'modalpopupextender', 'class implements', 'text html', 'page scroll', 'polyline', 'conform', 'fly', 'image button', 'display php', 'returning empty', 'another php', 'declaration function', 'mongo', 'failing', 'build gem', '0xc0000005 access', 'without using', 'encrypting decrypting', 'ftp', 'generic', 'nodejs', 'keep track', 'x86', 'type specifier', 'ifstream', 'abort', 'pipe', 'text boxes', 'permutation', 'nameerror global', 'execute code', 'value selected', 'javascript regex', 'sdl2', 'junit testing', 'java sdk', 'compare string', 'without popup', 'list list', 'first', 'datasources', 'child div', 'persian', 'username using', 'rails get', 'seemingly', 'given array', 'session factory', 'mvvm light', 'compile', 'junit tests', 'fibonacci', 'c# equivalent', 'simplexml_load_file', 'raise exception', 'sort arraylist', 'namespace prefix', 'modulo', 'prototype', 'tornado', 'without waiting', 'uilabel', 'parse html', 'view model', 'event dynamically', 'running command', 'newbie', 'selector sent', 'error multiple', 'ios7', 'development environment', 'run jar', 'field validation', 'read large', 'else condition', 'firefox', 'google map', 'continuously', 'different user', 'systemoutprintln', 'unable use', 'address already', 'string different', 'year month', 'using aspnet', 'jquery animate', 'django 17', 'passed function', 'refresh php', 'null empty', 'sql query', 'sqlquery', 'form fields', 'timers', 'single table', 'mysql update', 'input values', 'child elements', 'way getting', 'unmarshall', 'items collection', 'event working', 'multiple user', 'change php', 'interpolation', 'iso 8601', 'class variables', 'transaction rollback', 'particular', 'values single', 'xcode 7', 'read file', 'size_t', 'multiple markers', 'unexpected identifier', 'collection', 'file write', 'type field', 'intranet', 'collision', 'realtime', 'jquery php', 'java project', 'current year', 'type number', 'post variable', 'j2ee', 'cannot import', 'cannot delete', 'npm', 'loading image', 'excel files', 'windows path', 'int float', 'google maps', 'database values', 'occurrences substring', 'duplicated', 'aspnet vb', 'implements interface', 'confirm dialog', '24 hour', 'angularjs scope', 'excel workbook', 'bad', 'systemdatadatarowview', 'commas', 'cocoa touch', 'json_decode', 'arabic', 'buttons dynamically', 'mutex', 'field django', 'set true', 'iphone', 'child relationship', 'multiple processes', 'soapfault', 'access javascript', 'scraping using', 'model controller', 'maps markers', 'todays date', 'input name', 'without converting', 'push array', 'view view', 'item key', 'wsdl file', 'c# library', 'c++ switch', 'files django', 'primary key', 'angularjs app', 'compact', 'leak', 'select column', 'acces', 'values html', 'appears', 'plots r', 'producing', 'css selectors', 'different div', 'figures', 'geo', 'classic asp', 'need call', 'calling php', 'generic function', 'notify', '2 action', 'uninitialized', 'values', 'record', 'ajax javascript', 'get information', 'mysqli query', 'paths', 'subset another', 'using nested', 'server via', 'class different', 'accessibility', 'error syntax', 'abstract base', 'cf', 'get parent', 'node using', 'json object', 'content', 'javalangillegalargumentexception', 'file extension', 'interest', 'multiple json', 'nsnumber', 'use different', 'protected attributes', 'visualstudio', 'without id', 'submit multiple', 'gender', 'replace text', 'time limit', 'element xml', 'delivery', 'considered', 'check element', 'log messages', 'forwarding', 'segmentation fault', 'sending', 'visualization', 'java unicode', 'python dictionary', 'object c++', 'httpsurlconnection', 'leaf', 'library project', 'ids', 'jfreechart', 'separated', 'new java', 'change title', 'incompatible pointer', 'extra', 'access property', 'converted', 'invoking', 'path relative', 'shared memory', 'dictionary lists', 'adapt', 'selectedindexchanged', 'methods c#', 'c# read', 'jsf 20', 'websocket', 'bigdecimal', 'get latest', 'data access', 'quote', 'data annotations', 'field property', 'insert', 'selection', 'match value', 'facebook page', 'rails render', 'append div', 'creating excel', 'smoother', 'entered user', 'class div', 'amp', 'checked', 'datetime object', 'text content', 'urls', 'function called', 'project cannot', 'variable jsp', 'phpexcel', 'use unresolved', 'screen size', 'nest', 'notfoundhttpexception', 'uint8_t', 'id number', 'el capitan', 'php api', 'lan', 'based', 'data python', 'react router', 'replace values', 'string contain', 'create thumbnail', 'directories', 'simple form', 'resolving', 'guava cache', 'java add', 'javascript confirm', 'jtoken', 'file xml', 'chrome debugger', 'file tomcat', 'xml schema', 'none', 'go next', 'carousel', 'archive', 'input textbox', 'based column', 'collection cannot', 'age', 'color', 'specific', 'object android', 'using yii', 'androidviewinflateexception binary', 'rewriterule', 'php version', 'images mysql', 'export data', 'outputting', 'load file', 'load dynamic', 'app_code', 'use curl', 'using custom', 'occurring', 'text editor', 'form vbnet', 'mapping found', 'html parsing', 'chrome', 'error function', 'passing function', 'finally', 'gcd', 'equal', 'using generics', 'codeigniter return', 'add space', 'worksheet', 'subscribe', 'error apache', 'c# wrapper', 'way iterate', 'vendor', 'spring beans', 'url c#', 'matrix', 'dynamic columns', 'ruby file', 'htmlspecialchars', 'equals', 'filenames', 'object created', 'ant script', 'include file', 'find driver', 'responsebody', 'crossthread', 'best way', 'function without', 'rails ajax', 'form redirect', 'contains string', 'trying write', 'object references', 'strength', 'load json', 'empty lists', 'extend abstract', 'change event', 'net app', 'number mysql', 'check username', 'number threads', 'convert dictionary', 'like google', 'identifier found', 'java timer', 'passing variable', 'parent object', 'select random', 'set fixed', 'five', 'scrolling div', 'remove event', 'selected option', 'button one', 'elegant', 'html pdf', 'get size', 'overloading', 'installing rails', 'check value', 'reader', 'resource files', 'binding working', 'modifiers', 'method using', 'vbnet using', 'cant add', 'refresh datatable', 'contract', 'xamarin forms', 'println', 'user account', 'executing', 'full name', 'turned', 'attribute names', 'razor view', 'javascript get', 'single file', 'django modelform', 'script path', 'java hashmap', 'intermediate', 'custom json', 'namespaces', 'space', 'populate dropdown', 'python unicode', 'logging', '53', 'r using', 'rest framework', 'unsigned char', 'checks', 'selectedvalue', 'array new', 'value hidden', 'jsp page', 'infinite scroll', 'subarray', 'elements two', 'high', 'vbnet get', 'array sorting', 'python windows', 'mock', 'mysql python', 'integer without', 'posting form', 'records one', 'imagefield', '60', 'error running', 'data parent', 'custom sort', 'file resource', 'rspec capybara', 'reading input', 'cron jobs', 'c# problem', 'query based', 'activity', 'opens', 'deploying', 'error access', 'execute method', 'ppt', 'twoway', 'support multiple', 'php simplexml', 'serialize deserialize', 'print contents', 'angularui', 'garbage', 'disappear', 'full calendar', 'composite', 'install rails', 'debug javascript', 'src', 'class fragment', 'jpeg', 'sqlite db', '405 method', 'saved', 'threadsleep', 'define global', 'value one', '2d list', 'geocode', 'ear', 'given time', 'slash', 'imageview', 'select form', 'recaptcha', 'bat', 'referenced static', 'api post', 'main javalangnoclassdeffounderror', 'lengths', 'welcome page', 'lines csv', 'highlight text', 'format java', 'angular2', 'could found', 'grey', 'rails rspec', 'existing excel', 'copies', 'text span', 'unable change', 'append text', 'calling c++', 'get properties', 'ajax', 'nodejs socketio', 'often', 'using prototype', 'string another', 'ascii char', 'change header', 'use new', 'split function', 'ggplot', 'soap response', 'jquery smooth', 'database', 'query array', 'dynamically added', 'linqtosql', 'classes', 'checkmark', 'possibility', 'cmake', 'bring', 'error unexpected', 'code working', 'internet explorer', 'every x', 'set string', 'using 2', 'contacts', 'angular ui', 'digit', 'convert value', 'another process', 'homepage', 'native library', 'files c#', 'drivers', 'type const', 'weka', 'allow certain', 'diff', 'mail client', 'change date', 'solve', 'memory management', 'x x', 'split', 'unbind', 'parents', 'immediate', 'form new', 'get length', 'javascript click', 'success message', 'boundaries', 'calculate distance', 'prevent user', 'elapsed', 'save list', 'upload php', 'c++ linked', 'clauses', 'within specific', 'isnt', 'expected identifier', 'entire column', 'failed load', 'complicated', 'nested foreach', 'sender', 'java creating', 'one use', 'look feel', 'bool', 'cleanup', 'instagram api', 'recompile', 'process exited', 'list data', 'contents file', 'include_path', 'rgb value', 'make ajax', 'across', 'table data', 'portrait', 'learning java', 'object via', 'dict', 'restful service', 'choosing', 'error 400', 'using servlet', 'value nsdictionary', 'paper', 'internal external', 'color using', 'dom', 'code without', 'column database', 'service c#', 'meteor js', 'end', 'text value', 'semicolon', 'customer group', 'mssql', 'position element', 'parsing csv', 'function django', 'two decimal', 'mvc 2', 'geocoding', 'datasets', 'call python', 'temporarily unavailable', 'des', 'specialization', 'objective c', 'location using', 'import java', 'xx', 'jasper reports', 'correct syntax', 'set dynamic', 'error jquery', 'sqlexception', 'start date', 'per row', 'contour', 'disconnected', 'post another', 'timeouts', 'breakpoint', 'regex javascript', 'using header', 'condition', 'library c#', 'class jsp', 'external api', 'workbook', 'spring', 'transparent background', 'javascript es6', 'use thread', 'python 26', 'function multiple', 'getting undefined', 'clipboard', 'element text', 'cells using', 'parsing data', 'gnu', 'object java', 'jquery variable', 'pair', 'uitableview cell', 'mvc4', 'datagridview column', 'every hour', 'php database', 'upload download', 'performing', 'mapper', 'get actual', 'datetimenow', 'ultimate', 'using itextsharp', 'undefined local', 'french', 'finding maximum', 'combining two', 'label text', 'spinner', 'vowels', 'console error', 'minimized', 'pymongo', 'safe way', 'dictionary values', 'partial class', 'recording', 'static html', 'working inside', 'session', 'c# excel', 'element id', 'javascript regexp', 'socket read', 'reflection', 'shuffle', 'calling jquery', 'happens', 'cannot inferred', 'different pages', 'providers', 'javascript getting', 'glassfish', 'character using', 'c# write', 'contact', 'select_tag', 'prevent multiple', 'http request', 'displaying data', 'row button', 'u', 'use android', 'docx', 'function takes', 'dto', 'without restarting', 'serializable', 'list item', 'respective', 'using arraylist', 'c++ standard', 'truncated', 'facebook using', 'scroll top', 'gauge', 'unrelated', 'totally', 'directive assembly', 'javalangnosuchmethoderror', 'words using', 'runtime exception', 'key press', 'textinput', 'string one', 'c# code', 'xml tags', 'environment variables', 'computed', 'desktop application', 'split date', 'android app', 'asp button', 'int char', 'copy paste', 'thread pool', 'error writing', 'double int', 'apns', 'type method', 'columns', 'mod_rewrite', 'requested', 'json tree', 'casting', 'getting date', 'unspecified', 'python check', 'highlighted', 'header', 'actively refused', 'actionperformed', 'convert query', 'within java', 'routes', 'web scraping', 'python library', 'wait', 'file included', 'link tag', 'curl get', 'converting byte', 'posted', 'unhandled exceptions', 'ui dialog', 'configuring', 'sending large', 'code', 'web forms', 'user roles', 'image without', 'local server', 'enum values', 'way load', 'api php', 'empty result', 'wcf rest', 'methods java', 'different methods', 'data provider', 'bitmapimage', 'syntaxerror', 'xmlhttprequest', 'mp3 file', 'hold', 'add field', 'constrained', 'ngclass', 'indexpath', 'sentence', 'disabling', 'cyrillic', 'test file', 'aes256', 'sqlstate', 'reload refresh', 'destroy', 'unhandled error', 'text python', 'using beautifulsoup', 'iis 75', 'ipv6', 'add object', 'means', 'reliably', 'row jquery', 'single button', 'file windows', 'worked', 'pos', 'index variable', 'read binary', 'categories', '1 mysqli', 'cant send', '36', 'establish connection', 'returning 0', 'last line', 'uiimages', 'cgridview', 'configuration', 'css files', 'use operator', 'install', 'encrypt password', 'ie10', 'exec command', 'fix', 'returning wrong', 'canvastodataurl', 'relevant', 'appearing', 'link href', 'publishing', '2 parameters', 'mysql_connect', 'sqlalchemy orm', 'constructed', 'howto', 'textbox c#', 'input type', 'reordering', 'nltk', 'float c++', 'haml', '24 hours', 'next page', 'rubygems', 'pow', 'select element', 'image java', 'whats best', 'list specific', 'access resource', 'margins', 'multiple actions', 'simplest way', 'practice', 'infinite loop', 'nonnull', 'pem', 'negative', 'python run', 'pass variables', 'amazon s3', 'element one', 'aggregation', 'full screen', 'ie7', 'chinese characters', 'way determine', 'one controller', 'sql using', '401', 'click', 'column headers', 'write read', 'traverse', 'everytime', 'selects', 'rangeerror', 'mvc5', 'method php', 'data caching', 'search function', 'input python', 'second page', 'coredata', 'addin', 'files aspnet', 'pulling', 'creation', 'java draw', 'serialize json', 'notation', 'aborting', 'date objects', 'advantages using', 'convert mysql', 'videos youtube', 'ensuring', 'binary file', 'divs', 'call class', 'new keyword', 'installer', '+ ajax', 'versus', 'inner html', 'possible load', 'reason', 'membership provider', 'scientific', 'print_r', 'linux c', 'controller swift', 'access table', 'problem passing', '+ c#', 'wsgirequest', 'insert data', 'type c#', 'strategy', 'till', 'session lost', 'load resource', 'much memory', 'int double', 'variable inside', 'concrete', 'using eclipse', 'signing', 'line 1', 'win32 console', 'php mail', 'setdata', 'operator java', 'firefox browser', 'retrieval', 'casperjs', 'concatenate string', 'custom post', 'chat server', 'adjust width', 'remove whitespace', 'update data', 'element value', '1d', 'efficiently', 'checking url', 'character', 'facebook share', 'link using', 'custom filter', 'connect oracle', 'inferred', 'get instance', 'put javascript', 'overloaded', 'buttons', 'fake', 'use variable', 'create xml', 'find version', 'error typeerror', 'c api', 'adding new', 'hacking', 'java sort', 'download working', 'view laravel', 'advice', 'specific folder', 'degree', 'website using', 'uri', 'registering', 'uitableviewcell height', 'ngrepeat', 'enabled', 'converts', 'middle', '3 javascript', 'exception handler', 'efficiency', 'entitymanagerfactory', 'based values', 'webview', 'multiple', 'selenium', 'clear text', 'error line', 'port using', 'entire', 'concatenate tuple', 'size collection', 'lot', 'django orm', 'variable ajax', 'httpwebrequest', 'adt', 'variable python', 'using c#', 'linq c#', 'newly', 'actionresult', 'set cursor', 'unhide', 'java memory', 'user login', 'mysql database', 'browse', 'kml', 'javascript calculate', 'dereferencing', 'pdfs', 'saving data', 'flask app', 'r function', 'userid', 'udp', 'popup windows', 'nginx +', 'help needed', 'per page', 'doesnt show', 'x11', 'failed create', 'raphael js', 'mail attachment', 'fetchall', 'another website', 'represent', 'format c#', 'values keys', 'php linux', 'depth', 'kill', 'system call', '#1', 'prepend', 'name value', 'memory using', 'specifying', 'boxes', 'underlying connection', 'c# 40', 'value form', 'range 128', 'enable disable', 'check function', 'bars ggplot2', 'ios6', 'backcolor', 'access request', 'character string', 'decimal point', 'smtp server', 'systems', 'json data', 'templates', 'service using', 'javalibrarypath', 'proxies', 'one step', 'overlaps', 'oo', 'ie6', 'powerpoint', 'column found', 'java game', 'write code', 'product collection', 'custom uitableviewcell', 'data android', 'macos', 'string specific', 'add marker', 'jquery custom', 'monodevelop', 'jsf primefaces', 'java socket', 'without knowing', 'tree view', 'post ajax', 'difficulty', 'html image', 'one model', 'receives', 'html5 video', 'past', 'module python', 'mockito mock', 'sysargv', 'using async', 'quick way', 'inject', 'sum column', 'deserializing', 'add file', 'one', 'delegates c#', 'mfc', 'debug assertion', 'simple web', 'web method', 'start application', 'used another', 'java array', 'hibernate mapping', 'address using', 'metro app', 'nodejs get', 'c# type', 'column number', 'brackets', 'probably', 'whitespaces', 'failed find', 'ruby 187', 'mac address', 'enable', 'generates', 'ruby rvm', 'reading csv', 'edges', 'span tag', 'list available', 'nested views', 'object doesnt', '3 razor', 'page loaded', 'blob image', 'character character', 'show text', 'data another', 'move', 'css transition', 'yii framework', 'wp7', 'index data', 'monday', 'fft', 'bean', 'momentjs', 'change size', 'table javascript', 'es', 'conditional', 'issue multiple', 'tags string', 'request failed', 'testing using', 'single record', 'measure time', 'mouse', 'consecutive', 'imagebutton', 'converting list', 'problem adding', 'method replace', 'get multiple', 'get facebook', 'render partial', 'aop', 'routing', 'chef', 'modifying', 'function work', 'fall', 'blueprint', 'jquery datatable', 'request response', 'javascript multiple', 'wildcard', 'ajax pagination', 'outer', 'array get', 'nsdictionary', 'map', 'system property', 'using ruby', 'one value', 'name string', 'data db', 'filereader', 'piped', 'c# way', 'suspend', 'reflect', 'bypass', 'work java', 'convert url', 'know user', 'connect server', 'htaccess', 'change jquery', 'lose', 'array class', 'codes', 'gulp', 'na', 'following', 'generators', 'regex remove', 'socket c', 'aes', 'change order', 'schedule', '90', 'mobile web', 'unlimited', 'commons', 'vc11', 'iphone ipad', 'nghide', 'div scroll', 'setting background', 'way override', 'graphs', 'rake task', 'clear button', 'python make', 'boost libraries', 'dim', 'php insert', 'initialisation', 'django 14', 'sending mail', 'camel case', 'server compact', 'call another', 'bottom', 'closing', 'value nested', 'current user', 'ld', 'way generate', 'data c++', 'endian', 'form select', 'files folders', 'parsing html', 'one object', 'display mysql', 'determine file', 'region', 'type file', 'singletons', 'javascript sdk', '7 days', 'store string', 'variables rails', 'client', 'projects', 'getting first', 'create', 'change page', 'pointing', 'deprecated', 'bootstrap', 'interpreted', 'web driver', 'mathematical', 'onmouseover', 'adding html', 'dns', 'array without', 'importing csv', 'equals operator', 'simple', 'final', 'undefined symbol', 'iterating list', 'browser windows', 'store json', 'rgb', 'interpret', 'alpha channel', 'checked unchecked', 'symfony 14', 'php jquery', 'dollar sign', 'audio files', 'registration', 'java exception', 'mp3', 'login authentication', 'method different', 'onreadystatechange', 'titles', 'run c#', 'ef code', 'async', 'two fields', 'numpy arrays', 'assertion failed', 'database python', 'always false', 'msi', 'controller another', 'grab', 'many', 'detection', 'simplexml', 'global array', 'access object', 'bullets', 'remain', 'reusable', 'since', 'select text', 'transparent', 'ready', 'local time', 'resizable', 'php multiple', 'error parsing', 'floating point', 'fullscreen', '__attribute__', 'keyboard input', 'project files', 'premature', 'ngif', 'empty field', 'rows columns', 'jsfiddle', 'windows gui', 'database display', 'cannot converted', 'check manual', 'file jsp', 'pythonic', 'value drop', 'attribute html', 'elegant way', '1gb', 'summing', 'rails app', 'cut string', 'newline', 'handling php', 'acl', 'remove item', 'cancel button', 'use bootstrap', 'could get', 'aurelia', 'maximized', 'array jquery', 'particular value', 'wpf controls', 'plist file', 'changing url', 'data changes', 'angle', 'declares selector', 'check type', 'preview', 'array arraylist', 'jersey', 'chrome developer', 'selections', 'unable connect', 'parsed', 'given', 'service respond', 'numbers 1', 'tray', 'sort multidimensional', 'reference counting', 'crashed', 'using jsp', 'classs', 'printing', 'run one', 'environments', 'work well', 'get server', 'wave', 'reflecting', 'instance python', 'define static', 'properties one', 'multithreaded', 'within range', 'file ftp', 'jquery mobile', 'file working', 'causing error', 'osgi', 'remove duplicate', 'image slider', '322', 'collectionview', 'raphaeljs', 'send push', 'using gmail', 'string java', 'map reduce', 'java 2d', 'date without', 'sharepoint list', 'n number', 'seg fault', 'webkit', 'join', 'details', 'ilistt', 'methods', 'webservice', 'best practise', 'blank page', 'js variable', 'laravel', 'uinavigationcontroller', 'token illegal', 'carriage return', 'form submitting', 'find resource', 'unable retrieve', 'already started', 'line code', 'locate', 'reference variable', 'multiple values', 'legend', 'simple jquery', 'expose', 'link', 'csv', 'knockoutjs', 'applicable arguments', 'compatible', 'string binary', 'busy', 'unknown size', 'typeerror', 'modal dialog', 'c style', 'dom parser', 'display form', 'hand', 'r get', 'matched', 'way compare', 'attribute values', 'select distinct', 'lines', 'row index', 'stripping', 'nstextfield', 'coffeescript', 'send html', 'c programming', 'validating', 'creates', 'value gridview', 'even numbers', 'sizes', 'appium', 'php css', '26', 'contents using', 'insert database', 'complement', 'add', 'connecting', 'php validation', 'session attribute', 'date field', 'environment variable', 'rubys', 'objectivec cocoa', 'html forms', 'product page', 'occurence', 'list php', 'json parser', 'indexed', 'using core', '400', 'rows csv', 'gridview textbox', 'validate date', 'id class', 'displays', '+ php', 'result string', 'simple string', 'listview using', 'access element', 'concurrentmodificationexception', 'make file', '61', 'aware', 'android mobile', 'convert datatable', 'using udp', 'interceptor', 'linq xml', 'theano', 'checkboxes', 'newtonsoft', 'array python', 'throws nullpointerexception', 'passing custom', 'passed reference', 'php java', 'accessing elements', 'dictionarystring', 'source project', 'python importerror', 'templatefield', 'object inside', 'compile errors', 'image map', 'new view', 'button text', 'table another', 'application working', 'connection timeout', 'multiple xml', 'without losing', 'sent instance', 'function c', 'appconfig', 'java reading', 'name cannot', 'missing required', 'dataurl', 'javalangclassnotfoundexception', 'error exception', 'dispatcher', 'send json', 'r python', 'controller spring', 'sum value', 'html button', 'error operator', 'c++ array', 'create dynamic', 'data attribute', 'time button', 'session_start', '#pragma', 'data error', 'truncating', '+ mysql', 'aspnet mvc4', 'array empty', 'name without', 'initialize char', 'js script', 'multiplying', 'javascript working', 'adobe', 'rows mysql', 'python finding', 'exe', 'input change', 'character line', 'image png', 'version number', 'row foreign', 'width height', 'json parse', 'pass javascript', 'loading modules', 'cell value', 'returning null', 'appearance', 'pass id', 'jquery slider', 'leaves', 'list integers', 'concise', 'soapclient', 'creating array', 'asp mvc', 'child nodes', 'threw', 'class library', 'reactrouter', 'specific character', 'path', 'stats', 'function one', 'get dynamic', 'replaced', 'javafx', 'nhibernate', 'sdcard', 'single column', 'r', 'lion', 'exception nsinvalidargumentexception', 'jsp files', 'dynamic textbox', 'appjs', 'bindparam', 'perspective', 'field names', 'using existing', 'page found', 'unsatisfiedlinkerror', 'server using', 'less', 'main function', '10061', 'using doctrine', 'text using', 'caught', 'lists python', 'create form', 'increment value', 'one file', 'jinja', 'netbeans', 'linker errors', 'uibootstrap', 'http server', 'class function', 'html js', 'show google', 'function aspnet', 'weekends', 'autocomplete textbox', '#object method', 'setup', 'httpservletrequest', 'computer', 'multiselect', 'element array', 'outer join', 'rows datatable', 'possible use', 'string byte', 'xml elements', 'directory python', 'unchecked', 'head', 'vs2013', 'cannot', 'using youtube', 'string index', 'game python', 'mozilla', 'javascript rails', 'ip addresses', 'char c++', 'collections', 'number', 'using reflection', 'objects javascript', 'netbeans java', 'successful login', 'mouse event', 'select records', 'str object', 'using phpmailer', 'entity framework', 'sum digits', 'soap message', 'client side', 'input stream', 'php form', 'phpmyadmin', 'forms multiple', 'resource', 'wiring', 'observable', 'method argument', 'referring', 'missing values', 'android socket', 'services c#', 'get django', 'error lnk2019', 'working correctly', '24', 'andengine', 'ruby string', 'java connection', 'time two', 'number string', 'setting array', 'servlet class', 'page navigation', 'adding item', 'script without', 'svg image', 'page dynamically', 'decimal places', 'data xml', 'bluetooth', 'easy way', 'data set', 'aspnet webforms', 'returned value', 'rows table', 'neural', 'tuesday', 'opening new', 'object nsmutablearray', 'c# error', 'convert svg', 'enforcing', 'get original', 'type c', 'provider', 'data binding', 'object interface', 'random string', 'encode character', 'speeding', 'styles', 'statically', 'split string', 'using mongodb', 'call javascript', 'comprehensions', 'gpu', 'radiobutton', 'tr', 'radio button', 'uses', 'debian', 'python shell', 'c++ builder', 'path resource', 'list without', 'ini', 'file server', 'streamed', 'directions', 'get new', 'automatically create', 'version 510', 'implicitly convert', 'within', 'push notifications', 'listt', 'clickable', 'last record', 'display pdf', 'meaning', 'javascript dojo', 'way create', 'xml element', '30', '2 arrays', 'specify', 'logistic', 'check page', 'unity 3d', 'parent process', 'array length', 'touchstart', 'returns nil', 'connect', 'start time', 'concurrent', 'compared', 'requesting', 'popups', 'ampersand', 'facet', 'python string', 'equivalent', 'foreach statement', 'coordinates using', 'xcode project', 'array characters', 'simple c++', 'httpresponsemessage', 'folder name', 'replace', 'degrees', 'external dll', 'test two', 'java stream', 'pdfptable', 'value type', 'replaceall', 'tcp connection', 'compile java', 'display single', 'delete update', 'leading zeros', 'local file', 'first day', 'dynamically assign', 'host name', 'touch', 'full path', 'calling controller', '2010 project', 'doesnt support', 'try catch', 'removed', 'update records', 'get top', 'html 5', 'initialization', 'occurrence', 'carry', 'renaming', 'security', 'request java', 'js', 'disallow', 'replace space', 'aspect', 'event textbox', 'converting html', 'testing web', 'data mongodb', 'calling methods', 'use reflection', 'javascript aspnet', 'fcm', 'view button', 'completion block', 'codebehind', 'files multiple', 'restful', 'someone explain', 'soap client', 'multiple file', 'c java', 'return error', 'first letter', 'must either', 'similarity', 'app crashes', 'loop c#', 'key values', 'div based', 'feel', 'php script', 'winrt', 'collapsible', 'populate list', 'perform', 'client android', 'suite', 'datetimedate', 'file aspnet', 'mfc application', 'custom attributes', 'fixing', 'keyboard shortcut', 'data c#', 'z', 'akka', 'ios sdk', 'anyone', 'using ngrepeat', 'parsing using', 'using maven', 'buttonclick', 'activerecord model', 'desired', 'listitem', 'mouse button', 'user user', 'javascript ie', 'skipping', 'line end', 'access control', 'computed property', 'stl containers', 'causes', 'files google', 'exception message', 'singleton class', 'different databases', 'dom exception', 'facebook like', 'mouse clicks', 'latex', 'x amount', 'settimeout function', 'append string', 'numeric', 'asynctask', 'datagridview windows', 'php exec', 'argv', 'count number', 'copy constructor', 'constants', 'maintaining', 'easy', 'server code', 'view pdf', 'runserver', 'embedding', 'given number', 'dynamic url', 'server gone', 'db table', 'play pause', 'date birth', 'old value', 'comes', 'jquery validate', 'scala', 'display html', 'treeview', 'pressed', 'dimensional', 'file web', 'twodimensional array', 'maintain', 'based application', 'iframe src', 'another method', 'framework 6', 'active admin', 'template classes', 'found error', 'integers str', 'update single', 'inside php', 'loading xml', 'typecasting', 'fill color', 'httpresponse', 'ive', 'laravel 53', 'mail using', 'graphics', 'plot r', 'uicollectionviewcell', 'setting value', 'error column', 'find first', 'cvmat', 'css animation', 'locks', 'external program', 'inflating class', 'tap event', 'function calculate', 'javascript detect', 'jsonstringify', 'insert record', 'uploaded images', 'abbreviations', 'javascript php', 'mapbox', 'scrapy spider', 'framework 40', 'list inside', 'functions called', 'windows service', 'error php', 'data structure', 'actionlistener', 'moving image', 'line numbers', 'socketexception', 'load custom', 'pandas series', 'part page', 'saying', 'objects collection', 'adding string', 'request object', 'object within', 'table via', 'capybara', 'dropdown box', 'ossystem', 'value onclick', 'access variables', 'operator c++', 'gridview columns', 'user types', 'rowwise', 'addresses', 'identity', 'format yyyymmdd', 'xamarin android', 'add data', 'database php', 'keyword', 'delimiter', 'string date', 'address client', 'always null', 'create file', 'github', 'single variable', 'already', 'diagonally', 'warnings', 'odbc', 'create multiple', 'external symbol', 'call_user_func', 'evil', 'argument must', 'consume', 'bottom page', 'php read', 'button style', 'list selection', 'web project', 'c#', 'moq', 'deferred', 'illegalargumentexception', 'negative number', 'manifest file', 'phrase', 'get image', 'extract string', 'create user', 'traffic', 'isolation', 'swapping', 'forms application', 'easing', 'model property', 'grade', 'encrypting', 'returns 1', 'pass value', 'get array', 'adding removing', 'java app', 'laravel project', 'screen', 'webapi 2', 'uncaught referenceerror', 'caret', 'smallest', 'property within', 'box value', 'possible stop', 'videos', 'internal error', '90 degrees', 'facebook post', 'inference', 'pass string', 'java apache', 'open files', 'went', 'using linq', 'folder file', 'datarows', 'uncaught error', 'windows console', 'restful webservice', 'key value', 'whose', 'simply', 'memory consumption', 'stay', 'open window', 'sharepoint 2013', 'image icon', 'form get', 'media', 'amount time', 'extension php', 'actionlink', 'isset', 'one type', 'except one', 'allow', 'code generation', '20', 'array swift', 'ifelse statements', 'show data', 'using underscore', 'content length', 'stopped', 'function c#', 'custom class', 'windows 7', 'call c', 'string parameters', 'localization', 'xlsx', 'converting xml', 'php preg_replace', 'markdown', 'pandas', 'display value', 'hadoop mapreduce', 'got error', 'connection open', 'globals', 'selected values', 'reportviewer', 'dynamodb', 'access static', 'redirect working', 'managepy', 'large amount', 'rsa encryption', 'getting next', 'corrupt', 'applicationcontext', 'dynamic text', 'matter', 'razor syntax', 'xpath get', 'string correct', 'restful api', 'python mysql', 'button control', 'elements list', 'list objects', 'bytearray', 'php json_encode', 'datatable', 'rdlc', 'profiling', 'coerced', 'type column', 'windows api', 'shape', 'flag', 'using htaccess', 'comparison', 'simple java', 'file command', 'hide divs', 'pass', 'identifier', 'delegate type', 'download file', 'change width', 'drupal', 'registered', 'doc file', 'using key', 'c linux', 'xpath find', 'containers', 'receiving', 'pressing button', 'jsoup', 'bold', 'db using', 'site using', 'level deep', 'libraries c++', 'systemaccessviolationexception', 'sums', 'x found', 'get single', 'getelementsbytagname', 'remove button', 'models', 'link image', 'import excel', 'load function', 'go back', 'regex get', 'kb', 'td', 'characters xml', 'list python', 'qt 5', 'visit', 'query result', 'positive', 'row jtable', 'way import', 'wordpress page', 'pick', 'borders', 'get bootstrap', 'error android', 'mysqli_connect', 'reference javascript', 'poi', 'signal handler', 'power', 'ports', 'production', 'deletion', 'c# need', 'closed connection', 'jpanels', 'code using', 'string replace', 'suitable driver', 'column another', 'select statement', 'view inside', 'accented', 'value java', 'has_many', 'find part', '2012', 'phase', 'documentation', 'dictionary swift', 'maximum', 'pass list', 'uploading image', 'graph using', 'root localhost', 'cmd command', 'practical', 'way handle', 'javascript popup', 'english', 'image ios', 'related', 'label button', 'professional', 'type double', 'launching', 'json javascript', 'h2', 'random number', 'full page', 'mouseout', 'php date', 'agility', 'checked checkboxes', 'call stack', 'apple macho', 'anchors', 'read image', 'java android', 'restrict', 'value php', 'numpys', 'array google', 'scroll event', 'reactjs', 'hierarchical', 'model objects', 'iterations', 'specific format', 'method superclass', 'html editor', 'violates', 'chart api', 'stealing', 'interfaces', 'soft', 'schema', 'nsarray', 'js object', 'current directory', 'image mysql', 'converter', 'multicolumn', 'row datatable', 'delay', 'path error', 'button working', 'nokogiri', 'files upload', 'different functions', 'class static', 'spring project', 'two properties', 'webconfig file', 'account using', 'javalangruntimeexception', 'disable browser', 'aspect ratio', 'query string', 'data ajax', 'hack', 'different tables', 'string c', 'automatically resize', 'get path', 'javascript +', 'using web', 'css style', 'c# datagridview', 'connection pool', 'seems', 'increase', 'using js', 'jsf', 'write output', 'iterators', 'string double', 'listview', 'fluentnhibernate', 'directly', 'globally', 'console using', 'request php', 'tagging', '2 file', 'system time', 'mysql order', 'exception using', 'time complexity', 'enclosing', 'ball', 'tooltips', 'javac', 'outlook', 'border color', 'dictionary key', 'c# server', 'dot', 'ascii', 'black white', 'element without', 'application running', 'css3 transition', 'libraries', 'populate drop', 'springs', 'sessions', 'regex split', 'applets', 'check connection', 'changing font', 'html text', 'php gd', 'keyvalue', 'binding list', 'calendar', 'way pass', 'ajax loaded', 'proguard', 'css properties', 'file exist', 'computing', 'reference type', 'sorry something', 'inspect element', 'static_cast', 'property undefined', 'use pointers', 'mavericks', 'systemdatetime', 'incomplete type', 'cannot make', 'push notification', 'javascripts', 'server certificate', 'file string', 'php remove', 'number columns', 'richfaces', 'java rest', 'file change', 'c++ ubuntu', 'iis', 'accesscontrolalloworigin header', 'transient', 'maps api', 'store images', 'anywhere', 'nib', 'vb 2010', 'inside folder', 'local mysql', 'saving database', 'variables within', 'unhashable type', 'net 20', 'program uses', 'javalangstring cannot', 'method ruby', 'elastic beanstalk', 'static const', 'stdin stdout', 'value url', 'understanding', 'circle', 'returns true', 'screens', 'clears', 'webdriverjs', 'qualifying', 'element missing', 'stopping', 'unfortunately', 'doesnt get', 'lines file', 'regexp', 'largest value', 'use code', 'using subprocess', 'div javascript', 'way draw', 'double', 'get folder', 'program c', 'generic class', 'json serialization', 'backslash', 'values object', 'apachepoi', 'auto layout', 'access using', 'element exists', 'handle error', 'stack', 'create wpf', 'diagnostic', 'exact', 'multidimensional array', 'nameerror name', 'digest', 'specific point', 'load xml', 'jquery datepicker', 'working aspnet', 'method child', 'php html', 'rabbitmq', 'left right', 'java server', 'refreshing', 'apache mod_wsgi', 'image jquery', 'drupal 6', 'blink', 'lifecycle', 'insert image', 'asset pipeline', 'column list', 'menu', 'constructing', 'adding', 'xml get', 'fgets', 'require_once', 'transparency', 'retrieve', 'mysterious', 'spawn', 'add line', 'cube', 'php include', 'different browsers', 'cast double', 'get access', 'classes vs', 'facebook sdk', 'protocol', 'click outside', 'error 403', 'xcode', 'hide status', 'digits', 'settext', 'json jquery', 'valid json', 'handles', 'tabs using', 'static vs', 'save changes', 'throws exception', 'global static', 'xmlns', 'leave', '404 error', 'list elements', 'pushing', 'user code', 'explicitly', 'sessionfactory', 'beta', 'ibm mq', 'results error', 'tostring', 'sure', 'inner', 'function specific', 'object specific', 'selected checkboxes', 'dialog', 'use singleton', 'nodes', 'change image', 'relative path', 'getter setter', 'script tags', 'authenticating', 'string column', 'password field', 'access php', 'working ie9', 'file javascript', 'php object', 'efficient method', 'python dict', 'attributeerror', 'mediawiki', 'netty', 'scripting language', 'knockout js', 'persistent', 'one function', 'using multithreading', 'array keys', 'different data', 'find element', 'callback', 'date picker', 'duration video', 'prevent', 'calculate date', 'stored variable', 'recognize method', 'way add', 'python print', 'byte stream', 'stacked bar', 'recommendations', 'asp net', 'vectors', 'iphone application', 'click method', 'str', 'drag', 'pure c', 'wrong number', 'mapping', 'platform', 'xml using', 'loading page', 'analytics api', 'number javascript', 'string values', 'messageboxshow', 'time utc', 'joins', 'add library', 'obtain', 'docker container', 'simple_form', 'bridge', 'textbox text', 'div without', 'syntax highlighting', 'efficient way', 'acquire', 'access user', 'two tables', 'urllib2', 'select working', 'another class', 'growing', 'sequences', 'polar', 'codeigniter php', 'using model', 'find list', 'class instantiated', 'use rails', 'members', 'maven project', 'http put', 'ends', 'concatenating', 'net', 'amazon ec2', 'response array', 'wikipedia', 'control wpf', 'table header', 'scripts', 'ddl', 'django 18', 'windows program', 'pieces', 'array hash', 'file nodejs', 'error console', 'base table', 'chars', 'field', '_post array', 'vs list', 'restful routes', 'elements id', 'retrieve data', 'complete', 'requests', 'getter', 'watch', 'class name', 'column', 'upper', 'running process', 'data servlet', 'gradient background', 'selected', 'dumped', 'text document', 'activeadmin', 'numbers decimal', 'updating ui', 'page scrolling', 'plugin jquery', 'style', '+ spring', 'generic list', 'convert utf8', 'javascript', 'value using', 'popup page', 'view data', 'string last', 'output format', 'mousewheel', 'elements attributes', 'unterminated', 'background color', 'intersection', 'backspace', 'phpstorm', 'grid view', 'accented characters', 'activerecord association', 'queue c#', 'conditions', 'xml namespace', 'output parameters', 'memcache', 'search database', 'builtin function', 'valid datetime', 'supported error', 'multipart formdata', 'laravel error', 'declare global', 'expected unqualifiedid', 'specific value', 'manually', 'javascript add', 'intellij idea', 'inside controller', '#include', 'charset', 'sets', 'boost', 'crudrepository', 'forms app', 'fetch data', 'module inside', 'specific word', 'train', 'wxpython', 'stdout', 'way serialize', 'use html', 'controller ajax', 'load resources', 'behaves', 'outofmemoryexception', 'synchronized block', 'stacking', 'public ip', 'generics', 'logon', 'using webservice', 'evaluated', 'clip', 'app', 'operation', 'image exists', 'index value', 'invalid column', 'get filename', 'app delegate', 'takes exactly', 'plotting', 'extract date', 'based object', 'trees', 'remove trailing', 'randomize', 'characters except', 'display values', 'array java', 'animate', 'tiles', 'mysql rows', '8', 'file download', 'size using', 'function time', 'set property', 'activerecord query', 'id form', 'linux c++', 'mysql server', 'error 404', 'ajax json', 'c# dynamically', 'one view', 'access token', 'merge', 'aggregate function', 'angularjs directive', 'grammar', 'serialization java', 'javascript eval', 'model binding', 'doesnt create', 'arrays c#', 'ioerror errno', 'depends', 'edited', 'navigate', 'rails nested', 'dynamically java', 'multiple image', 'myclass', 'avfoundation', 'possible read', 'mobile safari', 'nil', 'row gridview', 'parser error', 'number value', 'javascript page', 'operating', 'based string', 'unusual', 'call parent', 'servers', 'int binary', 'background image', 'primefaces', 'time format', 'windows phone', 'compile run', 'babel', 'comma string', 'recursion depth', 'python json', 'regular', 'nameerror', 'tcp server', 'schema validation', 'link javascript', 'win 7', 'thinks', 'enumeration', 'header redirect', 'instantiated', 'call', 'error request', 'pdo', 'php extension', 'recvfrom', 'web site', 'cout', 'function found', 'format using', 'prev next', 'com port', 'flatten', 'winforms app', 'image hover', 'javascript return', 'check javascript', 'child row', 'print pdf', 'display list', 'data redirect', 'opencv', 'memcached', 'jquery call', 'creating simple', 'table row', 'array add', 'kind', 'option', 'overhead', 'pyc', 'subsets', '2010 c++', 'tree using', 'objects', 'value variable', 'undefined method', 'filefield', 'handlebarsjs', 'upload multiple', 'java file', 'arm', 'tag', 'errno 13', 'driving', 'tries', 'tree implementation', 'string net', 'way call', 'variable another', 'encryption', 'event handlers', 'online', 'object variable', 'item id', 'image ajax', 'beta 4', 'verbose', 'empty lines', 'bootstrap css', 'without time', 'readfile', 'user inputs', 'stl map', 'model item', 'java static', 'create generic', 'unit', 'value html', 'failure', 'rounding', 'input string', 'number list', 'trying find', 'error c1083', 'features', 'html dropdown', 'tab window', 'drop working', '2013', 'operators', 'matrix row', 'compare objects', 'make target', 'struct c', 'accesing', '2005', 'angular template', 'php web', 'string back', 'aspnet javascript', 'editing', '64bit windows', 'variables passed', 'transferred', 'nothing', 'focus', 'general error', 'lightbox', 'data google', 'get src', 'c++', 'passing object', 'get custom', 'use multiple', 'different thread', 'chartjs line', 'uitableviewcells', 'meteor', 'unable create', 'arduino', 'jmeter', 'upload server', 'clojure', 'access global', 'php list', '301', 'user profile', 'unexpectedly', 'payload', 'error starting', 'django module', 'name using', 'moved', 'md5', 'rails server', 'using oauth', 'python pil', 'net webbrowser', 'intercept', 'linux server', 'replaces', 'anymore', 'eclipse indigo', 'bulk insert', 'check list', 'file byte', 'input elements', 'appendchild', 'expression find', 'bower', 'expression match', 'format json', 'scanning', 'httpmodule', 'ienumerablet', 'closure', 'fixed header', 'error get', 'within method', 'function used', 'listviews', 'validation regex', 'database vbnet', 'constructor cannot', 'relations', 'application path', 'xml string', 'code windows', 'cell data', 'chrome safari', 'offer', 'image server', 'killed', 'remove non', 'consumer', 'rank', 'function body', 'ambiguous', 'fileupload control', 'element attribute', 'general', 'mode using', 'reinitialize', 'js css', 'field name', 'failed user', 'one better', 'respect', 'helper', 'java sockets', 'avoiding', 'nav', 'binary xml', 'database jsp', 'font size', 'delete specific', 'identifier string', 'win32', 'called twice', 'base64 image', 'nsinteger', 'working page', 'working angularjs', 'address php', 'emacs', 'capitalize', 'httprequestmessage', 'mvc pattern', 'quadratic', 'using singleton', 'using functions', 'command windows', 'file certain', 'string key', 'using nodejs', 'price', 'design', 'trailing', 'usr', 'special', 'dropdownlist value', 'extracting data', 'compare 2', 'mail php', 'resource available', 'like facebook', 'left', 'driver', 'string parsing', 'movie', 'value date', 'sleeping', 'console windows', 'global', 'letter string', 'data validation', '00', 'selfclosing', 'jvms', 'uitableviewcell', 'php pdo', 'array input', 'jquery selector', 'playback', 'test suite', 'box javascript', 'pdf html', 'program crash', 'download', 'ruby check', 'every second', 'jquery validation', 'bounds exception', 'project properties', 'get java', 'open new', 'recursive loop', 'gridview column', 'show div', 'underlying', 'template tag', 'model object', 'referer', 'api 2', 'category', 'dataannotations', '+ rails', 'maven build', 'password reset', 'create function', 'return types', 'onchange', 'mvc framework', 'controller scope', 'multiple views', 'server android', 'php return', 'firebug', 'alphabetic', 'loops', 'form rails', 'mp4', 'way define', 'control javascript', 'supposed', 'user using', 'django login', 'frequent', 'girl', 'duplicate values', 'updates', 'file storing', 'via json', 'html5', 'server 2005', 'c preprocessor', 'ignores', 'save excel', 'decrypting', 'mousemove', '16 bit', 'rendering', 'directorygetfiles', 'checksum', 'json values', 'part url', 'dynamic checkbox', 'page multiple', 'server 2003', 'service client', 'pyplot', 'xmlserializer', 'line text', 'ajax without', 'string instead', 'python managepy', 'database created', 'star rating', 'real world', 'update_attributes', 'finding first', 'shorthand', 'map object', 'use interface', 'datalist', 'stubbing', 'submenu', 'value row', 'positioning', 'using stored', 'file mysql', 'mediaelement', 'value page', 'python function', 'later', 'onblur', 'javabean', 'member initialization', 'added', 'formatted text', 'supports', 'loop php', 'communicating', 'net using', 'php website', 'detected', 'nested attribute', 'update', 'getting errors', 'enumerate', 'search', 'freezes', 'come', 'list box', 'gdb', 'thread main', 'contains specific', '2d arrays', 'build path', 'value first', 'could resolve', 'time character', 'established', 'pointers', 'admin page', 'img tag', 'angular scope', 'get checked', 'third party', 'multiple rows', 'python lists', 'map c++', 'urlspy', 'add values', 'using mysqli', 'network adapter', 'es6 class', 'could find', 'apis', 'argument 1', 'mysql result', 'aspectj', 'decimals', 'way dynamically', 'wix', 'items list', 'mvc3', 'output python', 'qtcreator', 'date java', 'family', 'combobox value', 'unsubscribe', 'webstorm', 'working properly', 'resource interpreted', 'column width', 'thumbnails', 'placeholder', 'python kivy', 'lightweight', 'writing location', 'use aspnet', 'performselector', 'load data', 'web url', 'page jquery', 'random order', 'couldnt', 'server version', 'resultset', 'function calls', 'multiple projects', 'request server', 'border', 'based value', 'net c#', 'high resolution', 'numberformatexception', 'idictionary', 'pass multiple', '4 razor', 'converting int', 'adapter', 'framework update', 'nonconst', 'xaxis', 'linq get', 'dynamic template', 'arithmetic', 'select tag', 'temporary', 'guid', 'variable using', 'socket closed', 'length', 'array ints', 'work fine', 'insert command', 'columns based', 'reaches', 'numerical', 'phantomjs', 'run app', 'framework', 'check null', 'get installed', 'statement javascript', 'phpmailer', 'allocate', 'utc', 'python replace', 'invisible', 'get email', 'closed', 'string error', 'top', 'centering', 'alternating', 'trouble getting', 'grep', 'file post', 'links', 'items using', 'gradient', 'known', 'table two', 'inflating', 'c# winforms', 'make sense', 'proxy using', 'button group', 'listbox', 'templated', 'matrices', 'load view', 'int int', 'group using', 'object error', 'simulating', 'widgets', 'preparedstatement', 'adobe air', 'using mvc', 'getbytes', 'masking', 'utf8', 'access via', 'breaking', 'document library', 'uncheck checkbox', 'couple', 'net 45', 'merging two', 'hashmap java', 'array multiple', 'c++ socket', 'oriented', 'webinf', 'file image', 'get latitude', 'emulator', 'cities', 'execute multiple', 'showdialog', 'form class', 'xml format', 'datagridview c#', 'tensor', '16bit', 'adding custom', 'set style', 'post meta', 'crawler', 'main javalangnullpointerexception', 'wamp server', 'glow', 'interface builder', 'using checkbox', 'another directory', 'nsdata', 'array images', 'stays', 'remove http', 'enough', 'failed open', 'internationalization', 'directory another', 'windows8', 'size image', 'tab control', 'able create', 'letters string', 'console program', 'without saving', 'primaryexpression', 'unhandled user', 'solutions', 'flushing', 'working ios', 'e', 'representing', 'page java', 'using prepared', 'compile time', '__dopostback', 'vs 2013', 'statement c#', 'data', 'time series', 'zeroes', 'potentially', 'outputs', 'read input', 'arraylist using', 'load google', 'winforms application', 'exposing', 'effective', 'controller actions', 'int cannot', 'function pointers', 'exceptions', 'convert time', 'hibernatecfgxml', 'image based', 'two array', 'prepare statement', 'pure virtual', 'hybrid', 'flags', 'jquery drag', 'item', 'ios application', 'white space', 'control aspnet', 'read_csv', 'objects java', 'android phone', 'send get', 'using phantomjs', 'application linux', 'pointer vs', 'large numbers', 'rstudio', 'form error', 'caesar', 'selenium webdriver', 'probability', 'calculator', 'another field', 'input error', 'one parameter', 'encrypt', 'external javascript', 'instantiating', 'invalid literal', 'create checkbox', 'multiple links', 'store variable', 'conventions', 'copying data', 'change first', 'c# adding', 'button action', 'browse button', 'list entities', 'columns r', 'mysql cant', 'mvc +', 'runtimegetruntime', 'rails 4', 'populate html', 'trigger javascript', 'model method', 'instance object', 'authenticate', 'get javascript', 'pager', 'conversions', 'constraint violation', 'reactive', '405', 'occurences', 'str_replace', '360', 'pointer exception', 'element type', 'use external', 'instead opening', 'document', 'images one', 'list linq', 'foreach', 'functions python', 'screen using', 'array indexes', 'noclassdeffounderror', 'ngshow', 'internally', 'nsurlrequest', 'proxy class', 'absolute', 'pid', 'class objects', 'embedded tomcat', 'android ndk', 'benefits', 'removal', 'zone', 'row csv', 'serialport', 'number records', 'one specific', 'runtimeerror', 'check key', 'list c#', 'dynamic variable', 'required', 'stateless', 'nonzero', 'random values', 'vs2012', 'using text', 'dividing', 'extract specific', 'waiting', 'persistence', 'without loading', 'sibling', 'removing elements', 'im getting', 'timespan', '2d numpy', 'expression javascript', 'lang', 'rake assetsprecompile', 'access denied', 'pygame', 'detect element', 'get integer', 'getelementsbyclassname', 'unsigned int', 'junit', 'object subscriptable', 'easily', 'hide input', 'find occurrences', 'without use', 'dictionary', 'slideshow', 'files windows', 'move mouse', 'local function', 'image uploading', 'open shared', 'messing', 'dbmigrate', 'workflow', 'implementations', 'website', 'pdf file', 'array undefined', 'add user', 'video player', 'user defined', 'doc docx', 'crawl', 'created textboxes', 'itemtemplate', 'changes database', 'iterate two', 'whats difference', 'get hibernate', 'share', 'request_uri', 'getting list', 'two forms', 'callbacks', 'char string', 'elements 2d', 'swings', 'remove image', 'c# application', 'i++', 'easiest way', 'method returning', 'slices', 'large amounts', 'form multiple', 'seem', 'event javascript', 'quotes double', 'body tag', 'combining', 'write file', 'analysis', 'java generic', 'code file', 'programatically', 'private', 'catching exceptions', 'jms message', 'loop array', 'undefined reference', 'image loading', 'custom file', 'copy string', 'bug', 'webview android', 'png', 'kill process', 'cursor position', 'error expected', 'type java', 'initialize class', 'jquery css', 'cannot instantiate', 'height width', 'strcpy', 'aspbutton', 'clicks', 'change language', 'gone away', 'closing tags', 'mathround', 'uploading file', 'logged', 'constant', 'arrays objects', 'managepy runserver', 'password php', 'dont know', 'vs object', 'print string', 'doesnt change', 'bypassing', 'multiple occurrences', 'gets', 'dict object', 'set select', 'loop display', 'first value', 'doesnt work', 'lm', 'array pointers', 'model form', 'linkedin api', 'error xml', 'line string', 'cant make', 'joined', 'half', 'qplot', 'uninitialized constant', 'viewbag', 'ios 9', 'installing ruby', 'test method', '11', 'textboxtext', 'ie ff', 'malformed', 'xsd', 'open page', 'math', 'nginx', 'uitableviewcontroller', 'pros cons', 'php get', 'image resize', 'inside aspnet', 'exception thrown', 'net console', 'types java', 'transferred mime', 'nunit', 'html code', 'func', 'push undefined', 'cases', 'failed connect', 'equations', 'row 2d', 'selectedindex', 'blank screen', 'foundation', 'python error', 'image opencv', 'form element', '2 tables', 'update specific', 'correct', 'iframe height', 'inserts', 'specific file', 'images server', 'child node', 'javascript objects', 'bringing', 'issue', 'regex check', 'xml', 'leopard', 'save load', 'cant get', 'print values', 'chunks', 'mathrandom', 'div id', 'optional', 'accessing variables', 'last item', 'composer update', 'party', 'contents one', 'nets', 'html tag', 'large json', 'google apps', 'activating', 'protocol buffer', 'view using', 'classes implement', 'shaders', 'force download', 'database another', 'display textbox', 'returning multiple', 'interop', 'saving loading', 'jquery fullcalendar', 'log files', 'write simple', 'remote url', 'int', 'using boost', 'aspnet application', 'rewriting', 'selenium 2', 'still', 'multi threading', 'question mark', 'working google', 'compilation error', 'two submit', 'text selected', 'shapes', 'define class', 'developing', 'cannot load', 'default parameter', 'expression language', 'class member', 'expressions', 'javascript object', 'require', 'scrollviewer', 'struct c++', 'windows app', 'entered', 'using xml', 'custom', 'nsmutabledictionary', 'touch events', 'escaping', 'upload working', 'method calls', 'via php', 'winapi', 'angular ngrepeat', 'strange behaviour', 'django template', 'array data', 'null calling', 'r script', 'java way', 'url using', 'starting new', 'post requests', 'argument function', 'listview c#', 'assetsprecompile', 'code first', 'array hashes', 'throw exceptions', 'client certificate', 'page page', 'deck', 'combo box', 'url web', 'propertyinfo', 'use another', 'keypress event', 'java program', 'key exists', 'masked', 'swt', 'swf file', 'dataframe', 'array two', 'object #object', 'fits', 'undefined null', 'thread exception', 'data structures', 'verify', 'error executing', 'c++ constructor', 'twitter search', 'browser caching', 'unparseable', 'network programming', 'codeigniter multiple', 'opening', 'urllib', 'extract data', '1404', 'indicate', 'sparse', 'bubbling', 'bundling', 'flask python', 'fork', 'pass argument', 'element sequence', 'replace function', 'anything like', 'eclipse using', 'string xml', 'hibernate session', 'show popup', 'load using', 'csv data', 'post get', 'weighted', 'sha256', 'collapse', 'windows 81', 'cake', 'signature', 'oledb', 'incorrect', 'without form', 'hhmm', 'copying', 'sequential', 'load type', 'mysql using', 'slowly', 'session variables', 'hashes', 'foreignkey', 'youtube video', 'without getting', 'although', 'navigation', 'edit button', 'vnext', 'checkbox jquery', 'parse error', 'allow one', 'c program', 'perfectly', 'set maximum', 'based key', 'java hibernate', 'programmatically create', 'div element', 'multiple classes', 'http 500', 'program run', 'get object', 'print list', 'java mail', 'via get', 'another page', 'single quotes', 'index 0', 'allowed memory', 'dictionary type', 'serialize class', 'moving', 'starting', 'save pdf', 'based criteria', 'inside dll', 'java collection', 'self class', 'another application', 'using poi', 'dynamically', 'allocated malloc', 'mvc4 razor', 'ifelse statement', 'cross', 'javascript files', 'n', 'jquery script', 'behavior', 'tricky', 'progress', 'event c#', 'another activity', 'database file', 'wordpress', 'link_to', 'exists database', 'controller model', 'add value', 'remove indexphp', 'javascript adding', 'scrollbars', 'takes long', 'b c', 'ranges', 'spring context', 'assigning value', 'concurrency', 'opencv c++', 'without adding', 'produces', 'linear regression', 'discount', 'dots', 'argument list', 'int64', 'multiple html', 'undefined javascript', 'row', 'post form', 'letters numbers', 'set value', 'json stringify', 'cucumber', 'trying call', 'datetimefield', 'post back', 'method create', 'different format', 'utf8 encoding', 'library xcode', 'tomcat 6', 'undeclared', 'c++ reading', 'using qt', 'aspnet repeater', 'picture box', 'conditionally', 'clientside', 'spring controller', 'use function', 'convert int', 'tableview', 'amount', 'string first', 'explicit', 'handling multiple', 'base 64', 'project directory'}\n"
          ],
          "name": "stdout"
        }
      ]
    },
    {
      "cell_type": "markdown",
      "metadata": {
        "id": "zcHPSpy9vbmb",
        "colab_type": "text"
      },
      "source": [
        "If you can't find it, we need to understand how did it happen that we lost them? It happened during the built-in tokenization of TfidfVectorizer. Luckily, we can influence on this process. Get back to the function above and use '(\\S+)' regexp as a *token_pattern* in the constructor of the vectorizer.  "
      ]
    },
    {
      "cell_type": "markdown",
      "metadata": {
        "id": "qoCNTju8vbmc",
        "colab_type": "text"
      },
      "source": [
        "Now, use this transormation for the data and check again."
      ]
    },
    {
      "cell_type": "code",
      "metadata": {
        "id": "hObCq357vbmc",
        "colab_type": "code",
        "colab": {}
      },
      "source": [
        "######### YOUR CODE HERE #############\n"
      ],
      "execution_count": null,
      "outputs": []
    },
    {
      "cell_type": "markdown",
      "metadata": {
        "id": "CmQ40m08vbmg",
        "colab_type": "text"
      },
      "source": [
        "### MultiLabel classifier\n",
        "\n",
        "As we have noticed before, in this task each example can have multiple tags. To deal with such kind of prediction, we need to transform labels in a binary form and the prediction will be a mask of 0s and 1s. For this purpose it is convenient to use [MultiLabelBinarizer](http://scikit-learn.org/stable/modules/generated/sklearn.preprocessing.MultiLabelBinarizer.html) from *sklearn*."
      ]
    },
    {
      "cell_type": "code",
      "metadata": {
        "id": "DloAcELxvbmg",
        "colab_type": "code",
        "colab": {}
      },
      "source": [
        "from sklearn.preprocessing import MultiLabelBinarizer"
      ],
      "execution_count": null,
      "outputs": []
    },
    {
      "cell_type": "code",
      "metadata": {
        "id": "z4CeywPovbmn",
        "colab_type": "code",
        "colab": {}
      },
      "source": [
        "mlb = MultiLabelBinarizer(classes=sorted(tags_counts.keys()))\n",
        "y_train = mlb.fit_transform(y_train)\n",
        "y_val = mlb.fit_transform(y_val)\n",
        "\n"
      ],
      "execution_count": null,
      "outputs": []
    },
    {
      "cell_type": "code",
      "metadata": {
        "id": "g303VWO4Sc3k",
        "colab_type": "code",
        "colab": {
          "base_uri": "https://localhost:8080/",
          "height": 323
        },
        "outputId": "b0a80fd8-800c-4e62-ada2-5f2523da9e69"
      },
      "source": [
        "mlb.classes_"
      ],
      "execution_count": null,
      "outputs": [
        {
          "output_type": "execute_result",
          "data": {
            "text/plain": [
              "array(['.net', 'ajax', 'algorithm', 'android', 'angularjs', 'apache',\n",
              "       'arrays', 'asp.net', 'asp.net-mvc', 'c', 'c#', 'c++', 'class',\n",
              "       'cocoa-touch', 'codeigniter', 'css', 'csv', 'database', 'date',\n",
              "       'datetime', 'django', 'dom', 'eclipse', 'entity-framework',\n",
              "       'excel', 'facebook', 'file', 'forms', 'function', 'generics',\n",
              "       'google-maps', 'hibernate', 'html', 'html5', 'image', 'ios',\n",
              "       'iphone', 'java', 'javascript', 'jquery', 'json', 'jsp', 'laravel',\n",
              "       'linq', 'linux', 'list', 'loops', 'maven', 'mongodb',\n",
              "       'multithreading', 'mysql', 'node.js', 'numpy', 'objective-c',\n",
              "       'oop', 'opencv', 'osx', 'pandas', 'parsing', 'performance', 'php',\n",
              "       'pointers', 'python', 'python-2.7', 'python-3.x', 'qt', 'r',\n",
              "       'regex', 'rest', 'ruby', 'ruby-on-rails', 'ruby-on-rails-3',\n",
              "       'selenium', 'servlets', 'session', 'sockets', 'sorting', 'spring',\n",
              "       'spring-mvc', 'sql', 'sql-server', 'string', 'swift', 'swing',\n",
              "       'twitter-bootstrap', 'uitableview', 'unit-testing', 'validation',\n",
              "       'vb.net', 'visual-studio', 'visual-studio-2010', 'wcf',\n",
              "       'web-services', 'windows', 'winforms', 'wordpress', 'wpf', 'xaml',\n",
              "       'xcode', 'xml'], dtype=object)"
            ]
          },
          "metadata": {
            "tags": []
          },
          "execution_count": 36
        }
      ]
    },
    {
      "cell_type": "markdown",
      "metadata": {
        "id": "cN1aPerAvbms",
        "colab_type": "text"
      },
      "source": [
        "Implement the function *train_classifier* for training a classifier. In this task we suggest to use One-vs-Rest approach, which is implemented in [OneVsRestClassifier](http://scikit-learn.org/stable/modules/generated/sklearn.multiclass.OneVsRestClassifier.html) class. In this approach *k* classifiers (= number of tags) are trained. As a basic classifier, use [LogisticRegression](http://scikit-learn.org/stable/modules/generated/sklearn.linear_model.LogisticRegression.html). It is one of the simplest methods, but often it performs good enough in text classification tasks. It might take some time, because a number of classifiers to train is large."
      ]
    },
    {
      "cell_type": "code",
      "metadata": {
        "id": "o1fL02bFvbms",
        "colab_type": "code",
        "colab": {}
      },
      "source": [
        "from sklearn.multiclass import OneVsRestClassifier\n",
        "from sklearn.linear_model import LogisticRegression, RidgeClassifier"
      ],
      "execution_count": null,
      "outputs": []
    },
    {
      "cell_type": "code",
      "metadata": {
        "id": "8HWqksx3vbmw",
        "colab_type": "code",
        "colab": {}
      },
      "source": [
        "def train_classifier(X_train, y_train, model):\n",
        "    \"\"\"\n",
        "      X_train, y_train — training data\n",
        "      \n",
        "      return: trained classifier\n",
        "    \"\"\"\n",
        "    \n",
        "    # Create and fit LogisticRegression wraped into OneVsRestClassifier.\n",
        "\n",
        "    ######################################\n",
        "    ######### YOUR CODE HERE #############\n",
        "    ######################################   \n",
        "    if(model == 'lr'):\n",
        "      model = LogisticRegression(C=0.1,penalty='l1', dual=False, solver='liblinear')\n",
        "      model = OneVsRestClassifier(model)\n",
        "      model.fit(X_train, y_train)\n",
        "    elif(model == 'nb'):\n",
        "      model = MultinomialNB(alpha=1.0)\n",
        "      model = OneVsRestClassifier(model)\n",
        "      model.fit(X_train, y_train)\n",
        "    elif(model == 'svm'):\n",
        "      model = LinearSVC(C=0.1, penalty='l1', dual=False, loss='squared_hinge')\n",
        "      model = OneVsRestClassifier(model)\n",
        "      model.fit(X_train, y_train)\n",
        "\n",
        "    return model"
      ],
      "execution_count": null,
      "outputs": []
    },
    {
      "cell_type": "markdown",
      "metadata": {
        "id": "k3U1J7divbmz",
        "colab_type": "text"
      },
      "source": [
        "Train the classifiers for different data transformations: *bag-of-words* and *tf-idf*."
      ]
    },
    {
      "cell_type": "code",
      "metadata": {
        "id": "yih5wK2Wvbm0",
        "colab_type": "code",
        "colab": {}
      },
      "source": [
        "#Training LR model on X_train dataset\n",
        "classifier_mybag_lr = train_classifier(X_train_mybag, y_train, 'lr')\n",
        "classifier_tfidf_lr = train_classifier(X_train_tfidf, y_train, 'lr')"
      ],
      "execution_count": null,
      "outputs": []
    },
    {
      "cell_type": "code",
      "metadata": {
        "id": "bAVVwhjyxz7Z",
        "colab_type": "code",
        "colab": {}
      },
      "source": [
        "#Training NB model on X_train dataset\n",
        "from sklearn.naive_bayes import MultinomialNB\n",
        "classifier_mybag_nb = train_classifier(X_train_mybag, y_train, 'nb')\n",
        "classifier_tfidf_nb = train_classifier(X_train_tfidf, y_train, 'nb')"
      ],
      "execution_count": null,
      "outputs": []
    },
    {
      "cell_type": "code",
      "metadata": {
        "id": "p0XgiukCy0wj",
        "colab_type": "code",
        "colab": {}
      },
      "source": [
        "'''\n",
        "Linear Support Vector Classification.\n",
        "\n",
        "Similar to SVC with parameter kernel=’linear’, but implemented in terms of liblinear rather than libsvm, so it has more flexibility in the choice of penalties and loss functions and should scale better to large numbers of samples.\n",
        "\n",
        "This class supports both dense and sparse input and the multiclass support is handled according to a one-vs-the-rest scheme.\n",
        "'''\n",
        "#Training SVM model on X_train dataset\n",
        "from sklearn.svm import LinearSVC\n",
        "classifier_mybag_svm = train_classifier(X_train_mybag, y_train, 'svm')\n",
        "classifier_tfidf_svm = train_classifier(X_train_tfidf, y_train, 'svm')"
      ],
      "execution_count": null,
      "outputs": []
    },
    {
      "cell_type": "markdown",
      "metadata": {
        "id": "40EBLcJnvbm6",
        "colab_type": "text"
      },
      "source": [
        "Now you can create predictions for the data. You will need two types of predictions: labels and scores."
      ]
    },
    {
      "cell_type": "code",
      "metadata": {
        "id": "-tN6k-6Rvbm8",
        "colab_type": "code",
        "colab": {}
      },
      "source": [
        "y_val_predicted_labels_mybag_lr = classifier_mybag_lr.predict(X_val_mybag)\n",
        "y_val_predicted_scores_mybag_lr = classifier_mybag_lr.decision_function(X_val_mybag)\n",
        "\n",
        "y_val_predicted_labels_tfidf_lr = classifier_tfidf_lr.predict(X_val_tfidf)\n",
        "y_val_predicted_scores_tfidf_lr = classifier_tfidf_lr.decision_function(X_val_tfidf)"
      ],
      "execution_count": null,
      "outputs": []
    },
    {
      "cell_type": "code",
      "metadata": {
        "id": "qiNWZa-1zGsE",
        "colab_type": "code",
        "colab": {}
      },
      "source": [
        "#Making predictions on X_val dataset using NB model\n",
        "y_val_predicted_labels_mybag_nb = classifier_mybag_nb.predict(X_val_mybag)\n",
        "#y_val_predicted_scores_mybag_nb = classifier_mybag_nb.decision_function(X_val_mybag)\n",
        "\n",
        "y_val_predicted_labels_tfidf_nb = classifier_tfidf_nb.predict(X_val_tfidf)\n",
        "#y_val_predicted_scores_tfidf_nb = classifier_tfidf_nb.decision_function(X_val_tfidf)\n"
      ],
      "execution_count": null,
      "outputs": []
    },
    {
      "cell_type": "code",
      "metadata": {
        "id": "bLqM6Rvz3G0y",
        "colab_type": "code",
        "colab": {}
      },
      "source": [
        "#Making predictions on X_val dataset using Linear SVM model\n",
        "y_val_predicted_labels_mybag_svm = classifier_mybag_svm.predict(X_val_mybag)\n",
        "y_val_predicted_scores_mybag_svm = classifier_mybag_svm.decision_function(X_val_mybag)\n",
        "\n",
        "y_val_predicted_labels_tfidf_svm = classifier_tfidf_svm.predict(X_val_tfidf)\n",
        "y_val_predicted_scores_tfidf_svm = classifier_tfidf_svm.decision_function(X_val_tfidf)"
      ],
      "execution_count": null,
      "outputs": []
    },
    {
      "cell_type": "markdown",
      "metadata": {
        "id": "Q4Uy9-SdvbnA",
        "colab_type": "text"
      },
      "source": [
        "Now take a look at how classifier, which uses TF-IDF, works for a few examples:"
      ]
    },
    {
      "cell_type": "markdown",
      "metadata": {
        "id": "c1NbYTy_-eTm",
        "colab_type": "text"
      },
      "source": [
        ""
      ]
    },
    {
      "cell_type": "code",
      "metadata": {
        "id": "7zgXXfncvbnC",
        "colab_type": "code",
        "colab": {
          "base_uri": "https://localhost:8080/",
          "height": 272
        },
        "outputId": "ab4853e9-f8f5-4db4-d514-48bb0413bf6e"
      },
      "source": [
        "y_val_pred_inversed_lr = mlb.inverse_transform(y_val_predicted_labels_tfidf_lr)\n",
        "y_val_inversed_lr = mlb.inverse_transform(y_val)\n",
        "for i in range(3):\n",
        "    print('Title:\\t{}\\nTrue labels:\\t{}\\nPredicted labels:\\t{}\\n\\n'.format(\n",
        "        X_val[i],\n",
        "        ','.join(y_val_inversed_lr[i]),\n",
        "        ','.join(y_val_pred_inversed_lr[i])\n",
        "    ))"
      ],
      "execution_count": null,
      "outputs": [
        {
          "output_type": "stream",
          "text": [
            "Title:\todbc_exec always fail\n",
            "True labels:\tphp,sql\n",
            "Predicted labels:\t\n",
            "\n",
            "\n",
            "Title:\taccess base classes variable within child class\n",
            "True labels:\tjavascript\n",
            "Predicted labels:\t\n",
            "\n",
            "\n",
            "Title:\tcontenttype application json required rails\n",
            "True labels:\truby,ruby-on-rails\n",
            "Predicted labels:\tjson,ruby-on-rails\n",
            "\n",
            "\n"
          ],
          "name": "stdout"
        }
      ]
    },
    {
      "cell_type": "markdown",
      "metadata": {
        "id": "cf6FESOXvbnJ",
        "colab_type": "text"
      },
      "source": [
        "Now, we would need to compare the results of different predictions, e.g. to see whether TF-IDF transformation helps or to try different regularization techniques in logistic regression. For all these experiments, we need to setup evaluation procedure. "
      ]
    },
    {
      "cell_type": "markdown",
      "metadata": {
        "id": "Hi_qtKTGvbnK",
        "colab_type": "text"
      },
      "source": [
        "### Evaluation\n",
        "\n",
        "To evaluate the results we will use several classification metrics:\n",
        " - [Accuracy](http://scikit-learn.org/stable/modules/generated/sklearn.metrics.accuracy_score.html)\n",
        " - [F1-score](http://scikit-learn.org/stable/modules/generated/sklearn.metrics.f1_score.html)\n",
        " - [Area under ROC-curve](http://scikit-learn.org/stable/modules/generated/sklearn.metrics.roc_auc_score.html)\n",
        " - [Area under precision-recall curve](http://scikit-learn.org/stable/modules/generated/sklearn.metrics.average_precision_score.html#sklearn.metrics.average_precision_score) \n",
        " \n",
        "Make sure you are familiar with all of them. How would you expect the things work for the multi-label scenario? Read about micro/macro/weighted averaging following the sklearn links provided above."
      ]
    },
    {
      "cell_type": "code",
      "metadata": {
        "id": "h5dLIXnovbnL",
        "colab_type": "code",
        "colab": {}
      },
      "source": [
        "from sklearn.metrics import accuracy_score\n",
        "from sklearn.metrics import f1_score\n",
        "from sklearn.metrics import roc_auc_score \n",
        "from sklearn.metrics import average_precision_score\n",
        "from sklearn.metrics import recall_score"
      ],
      "execution_count": null,
      "outputs": []
    },
    {
      "cell_type": "markdown",
      "metadata": {
        "id": "vrV9cP-DvbnT",
        "colab_type": "text"
      },
      "source": [
        "Implement the function *print_evaluation_scores* which calculates and prints to stdout:\n",
        " - *accuracy*\n",
        " - *F1-score macro/micro/weighted*\n",
        " - *Precision macro/micro/weighted*"
      ]
    },
    {
      "cell_type": "code",
      "metadata": {
        "id": "-4i1nbsfvbnT",
        "colab_type": "code",
        "colab": {}
      },
      "source": [
        "def print_evaluation_scores(y_val, predicted):\n",
        "    \n",
        "    ######################################\n",
        "    ######### YOUR CODE HERE #############\n",
        "    ######################################\n",
        "    print(accuracy_score(y_val, predicted))\n",
        "    print(f1_score(y_val, predicted, average='weighted'))\n",
        "    print(average_precision_score(y_val, predicted))"
      ],
      "execution_count": null,
      "outputs": []
    },
    {
      "cell_type": "code",
      "metadata": {
        "id": "Tmcgqdl7vbnX",
        "colab_type": "code",
        "colab": {
          "base_uri": "https://localhost:8080/",
          "height": 153
        },
        "outputId": "d65be9b0-9e3b-4c35-d6ba-f24eda450046"
      },
      "source": [
        "#Checking evaluation on BOW and TFIDF for LR model\n",
        "print('Bag-of-words')\n",
        "print_evaluation_scores(y_val, y_val_predicted_labels_mybag_lr)\n",
        "print('Tfidf')\n",
        "print_evaluation_scores(y_val, y_val_predicted_labels_tfidf_lr)"
      ],
      "execution_count": null,
      "outputs": [
        {
          "output_type": "stream",
          "text": [
            "Bag-of-words\n",
            "0.3263666666666667\n",
            "0.6115894476866648\n",
            "0.3352599383853021\n",
            "Tfidf\n",
            "0.28713333333333335\n",
            "0.5664331019085945\n",
            "0.29058393013269374\n"
          ],
          "name": "stdout"
        }
      ]
    },
    {
      "cell_type": "code",
      "metadata": {
        "id": "cQ_WRpI1xZ2A",
        "colab_type": "code",
        "colab": {
          "base_uri": "https://localhost:8080/",
          "height": 153
        },
        "outputId": "8880e3b2-3f90-4ae1-bca0-65dbe2441112"
      },
      "source": [
        "#Checking evaluation on BOW and TFIDF for NB model\n",
        "print('Bag-of-words')\n",
        "print_evaluation_scores(y_val, y_val_predicted_labels_mybag_nb)\n",
        "print('Tfidf')\n",
        "print_evaluation_scores(y_val, y_val_predicted_labels_tfidf_nb)"
      ],
      "execution_count": null,
      "outputs": [
        {
          "output_type": "stream",
          "text": [
            "Bag-of-words\n",
            "0.28296666666666664\n",
            "0.6296148179299079\n",
            "0.2621058272319938\n",
            "Tfidf\n",
            "0.19816666666666666\n",
            "0.398129431834211\n",
            "0.08171572386792386\n"
          ],
          "name": "stdout"
        }
      ]
    },
    {
      "cell_type": "code",
      "metadata": {
        "id": "CIgvKWM6xm89",
        "colab_type": "code",
        "colab": {
          "base_uri": "https://localhost:8080/",
          "height": 153
        },
        "outputId": "553faca7-0aad-4ba0-f889-2a6e9306a26d"
      },
      "source": [
        "#Checking evaluation on BOW and TFIDF for SVM model\n",
        "print('Bag-of-words')\n",
        "print_evaluation_scores(y_val, y_val_predicted_labels_mybag_svm)\n",
        "print('Tfidf')\n",
        "print_evaluation_scores(y_val, y_val_predicted_labels_tfidf_svm)"
      ],
      "execution_count": null,
      "outputs": [
        {
          "output_type": "stream",
          "text": [
            "Bag-of-words\n",
            "0.3590333333333333\n",
            "0.6351256849958119\n",
            "0.35093913959364026\n",
            "Tfidf\n",
            "0.34576666666666667\n",
            "0.6232273849192188\n",
            "0.34441238119076834\n"
          ],
          "name": "stdout"
        }
      ]
    },
    {
      "cell_type": "markdown",
      "metadata": {
        "id": "u5-SmF1evbnb",
        "colab_type": "text"
      },
      "source": [
        "You might also want to plot some generalization of the [ROC curve](http://scikit-learn.org/stable/modules/model_evaluation.html#receiver-operating-characteristic-roc) for the case of multi-label classification. Provided function *roc_auc* can make it for you. The input parameters of this function are:\n",
        " - true labels\n",
        " - decision functions scores\n",
        " - number of classes"
      ]
    },
    {
      "cell_type": "code",
      "metadata": {
        "id": "Vxz4y7X2vbnb",
        "colab_type": "code",
        "colab": {}
      },
      "source": [
        "from metrics import roc_auc\n",
        "%matplotlib inline"
      ],
      "execution_count": null,
      "outputs": []
    },
    {
      "cell_type": "code",
      "metadata": {
        "id": "QP6qxjYjvbne",
        "colab_type": "code",
        "colab": {
          "base_uri": "https://localhost:8080/",
          "height": 295
        },
        "outputId": "c4d3dbe7-ae28-4668-8983-2d7894e38ae8"
      },
      "source": [
        "n_classes = len(tags_counts)\n",
        "roc_auc(y_val, y_val_predicted_scores_mybag_svm, n_classes)"
      ],
      "execution_count": null,
      "outputs": [
        {
          "output_type": "display_data",
          "data": {
            "image/png": "[encoded data removed]",
            "text/plain": [
              "<Figure size 432x288 with 1 Axes>"
            ]
          },
          "metadata": {
            "tags": [],
            "needs_background": "light"
          }
        }
      ]
    },
    {
      "cell_type": "code",
      "metadata": {
        "id": "njwm5Q1Nvbni",
        "colab_type": "code",
        "colab": {
          "base_uri": "https://localhost:8080/",
          "height": 295
        },
        "outputId": "feac336f-51cd-4d5b-df06-5e0c04e419a8"
      },
      "source": [
        "n_classes = len(tags_counts)\n",
        "roc_auc(y_val, y_val_predicted_scores_tfidf_svm, n_classes)"
      ],
      "execution_count": null,
      "outputs": [
        {
          "output_type": "display_data",
          "data": {
            "image/png": "[encoded data removed]",
            "text/plain": [
              "<Figure size 432x288 with 1 Axes>"
            ]
          },
          "metadata": {
            "tags": [],
            "needs_background": "light"
          }
        }
      ]
    },
    {
      "cell_type": "markdown",
      "metadata": {
        "id": "dDQmuqr3vbnl",
        "colab_type": "text"
      },
      "source": [
        "**Task 4 (MultilabelClassification).** Once we have the evaluation set up, we suggest that you experiment a bit with training your classifiers. We will use *F1-score weighted* as an evaluation metric. Our recommendation:\n",
        "- compare the quality of the bag-of-words and TF-IDF approaches and chose one of them.\n",
        "- for the chosen one, try *L1* and *L2*-regularization techniques in Logistic Regression with different coefficients (e.g. C equal to 0.1, 1, 10, 100).\n",
        "\n",
        "You also could try other improvements of the preprocessing / model, if you want. "
      ]
    },
    {
      "cell_type": "code",
      "metadata": {
        "id": "aXiWiIdqvbnm",
        "colab_type": "code",
        "colab": {}
      },
      "source": [
        "######################################\n",
        "######### YOUR CODE HERE #############\n",
        "######################################"
      ],
      "execution_count": null,
      "outputs": []
    },
    {
      "cell_type": "markdown",
      "metadata": {
        "id": "Fmz_CocNvbnr",
        "colab_type": "text"
      },
      "source": [
        "When you are happy with the quality, create predictions for *test* set, which you will submit to Coursera."
      ]
    },
    {
      "cell_type": "code",
      "metadata": {
        "id": "Mco37ZNBvbnr",
        "colab_type": "code",
        "colab": {
          "base_uri": "https://localhost:8080/",
          "height": 187
        },
        "outputId": "401715cc-cbff-42d3-a7db-04d652fc2cdd"
      },
      "source": [
        "test_predictions = classifier_mybag_svm.predict(X_test_mybag) ######### YOUR CODE HERE #############\n",
        "test_pred_inversed = mlb.inverse_transform(test_predictions)\n",
        "\n",
        "test_predictions_for_submission = '\\n'.join('%i\\t%s' % (i, ','.join(row)) for i, row in enumerate(test_pred_inversed))\n",
        "grader.submit_tag('MultilabelClassification', test_predictions_for_submission)"
      ],
      "execution_count": null,
      "outputs": [
        {
          "output_type": "stream",
          "text": [
            "Current answer for task MultilabelClassification is:\n",
            " 0\tmysql,php\n",
            "1\tjavascript\n",
            "2\t\n",
            "3\tjavascript,jquery\n",
            "4\tandroid,java\n",
            "5\tphp,xml\n",
            "6\tjson\n",
            "7\tjava,swing\n",
            "8\tpytho...\n"
          ],
          "name": "stdout"
        }
      ]
    },
    {
      "cell_type": "markdown",
      "metadata": {
        "id": "FKHET_Iyvbnu",
        "colab_type": "text"
      },
      "source": [
        "### Analysis of the most important features"
      ]
    },
    {
      "cell_type": "markdown",
      "metadata": {
        "id": "UBVvdVRfvbnu",
        "colab_type": "text"
      },
      "source": [
        "Finally, it is usually a good idea to look at the features (words or n-grams) that are used with the largest weigths in your logistic regression model."
      ]
    },
    {
      "cell_type": "markdown",
      "metadata": {
        "id": "hVCTxXeuvbnv",
        "colab_type": "text"
      },
      "source": [
        "Implement the function *print_words_for_tag* to find them. Get back to sklearn documentation on [OneVsRestClassifier](http://scikit-learn.org/stable/modules/generated/sklearn.multiclass.OneVsRestClassifier.html) and [LogisticRegression](http://scikit-learn.org/stable/modules/generated/sklearn.linear_model.LogisticRegression.html) if needed."
      ]
    },
    {
      "cell_type": "code",
      "metadata": {
        "id": "biB4v_T7vbnv",
        "colab_type": "code",
        "colab": {}
      },
      "source": [
        "def print_words_for_tag(classifier, tag, tags_classes, index_to_words, all_words):\n",
        "    \"\"\"\n",
        "        classifier: trained classifier\n",
        "        tag: particular tag\n",
        "        tags_classes: a list of classes names from MultiLabelBinarizer\n",
        "        index_to_words: index_to_words transformation\n",
        "        all_words: all words in the dictionary\n",
        "        \n",
        "        return nothing, just print top 5 positive and top 5 negative words for current tag\n",
        "    \"\"\"\n",
        "    print('Tag:\\t{}'.format(tag))\n",
        "    \n",
        "    # Extract an estimator from the classifier for the given tag.\n",
        "    # Extract feature coefficients from the estimator. \n",
        "    \n",
        "    ######################################\n",
        "    ######### YOUR CODE HERE #############\n",
        "    ######################################\n",
        "    est = classifier.estimators_[tags_classes.index(tag)]\n",
        "    top_positive_words = [index_to_words[index] for index in est.coef_.argsort().tolist()[0][-5:]]# top-5 words sorted by the coefficiens.\n",
        "    top_negative_words = [index_to_words[index] for index in est.coef_.argsort().tolist()[0][:5]]# bottom-5 words  sorted by the coefficients.\n",
        "    print('Top positive words:\\t{}'.format(', '.join(top_positive_words)))\n",
        "    print('Top negative words:\\t{}\\n'.format(', '.join(top_negative_words)))\n",
        "    "
      ],
      "execution_count": null,
      "outputs": []
    },
    {
      "cell_type": "code",
      "metadata": {
        "id": "MjRir0q_vbn1",
        "colab_type": "code",
        "colab": {
          "base_uri": "https://localhost:8080/",
          "height": 221
        },
        "outputId": "dbd6bfde-5666-4356-c492-8b4c7f39c7fa"
      },
      "source": [
        "print_words_for_tag(classifier_tfidf_svm, 'c', mlb.classes, tfidf_reversed_vocab, ALL_WORDS)\n",
        "print_words_for_tag(classifier_tfidf_svm, 'c++', mlb.classes, tfidf_reversed_vocab, ALL_WORDS)\n",
        "print_words_for_tag(classifier_tfidf_svm, 'linux', mlb.classes, tfidf_reversed_vocab, ALL_WORDS)"
      ],
      "execution_count": null,
      "outputs": [
        {
          "output_type": "stream",
          "text": [
            "Tag:\tc\n",
            "Top positive words:\tkernel, printf, scanf, malloc, c\n",
            "Top negative words:\tobjective, java, python, php, objective c\n",
            "\n",
            "Tag:\tc++\n",
            "Top positive words:\tmfc, stl, boost, qt, c++\n",
            "Top negative words:\tjava, python, php, c#, r\n",
            "\n",
            "Tag:\tlinux\n",
            "Top positive words:\tfork, signal, shared, ubuntu, linux\n",
            "Top negative words:\tjavascript, c#, array, jquery, method\n",
            "\n"
          ],
          "name": "stdout"
        }
      ]
    },
    {
      "cell_type": "markdown",
      "metadata": {
        "id": "VbfrA5LGvbn4",
        "colab_type": "text"
      },
      "source": [
        "### Authorization & Submission\n",
        "To submit assignment parts to Cousera platform, please, enter your e-mail and token into variables below. You can generate token on this programming assignment page. <b>Note:</b> Token expires 30 minutes after generation."
      ]
    },
    {
      "cell_type": "code",
      "metadata": {
        "id": "EkXkDSYXvbn4",
        "colab_type": "code",
        "colab": {
          "base_uri": "https://localhost:8080/",
          "height": 374
        },
        "outputId": "3a2983f6-1da2-4c51-dd81-ebd5cd8aa5f5"
      },
      "source": [
        "grader.status()"
      ],
      "execution_count": null,
      "outputs": [
        {
          "output_type": "stream",
          "text": [
            "You want to submit these parts:\n",
            "Task TextPrepare:\n",
            " sqlite php readonly\n",
            "creating multiple textboxes dynamically\n",
            "self one prefer javascript\n",
            "save php date...\n",
            "Task WordsTagsCount:\n",
            " javascript,c#,java\n",
            "using,php,java...\n",
            "Task BagOfWords:\n",
            " 7...\n",
            "Task MultilabelClassification:\n",
            " 0\tmysql,php\n",
            "1\tjavascript\n",
            "2\t\n",
            "3\tjavascript,jquery\n",
            "4\tandroid,java\n",
            "5\tphp,xml\n",
            "6\tjson\n",
            "7\tjava,swing\n",
            "8\tpytho...\n"
          ],
          "name": "stdout"
        }
      ]
    },
    {
      "cell_type": "code",
      "metadata": {
        "id": "uvNsakPuvbn6",
        "colab_type": "code",
        "colab": {
          "base_uri": "https://localhost:8080/",
          "height": 374
        },
        "outputId": "1397830e-6ee9-48d7-fdd7-20daab8817d5"
      },
      "source": [
        "STUDENT_EMAIL = 'Meetu@uncc.edu'\n",
        "# EMAIL \n",
        "STUDENT_TOKEN = '7HKVCJK3vt46MPYG'\n",
        "# TOKEN \n",
        "grader.status()"
      ],
      "execution_count": null,
      "outputs": [
        {
          "output_type": "stream",
          "text": [
            "You want to submit these parts:\n",
            "Task TextPrepare:\n",
            " sqlite php readonly\n",
            "creating multiple textboxes dynamically\n",
            "self one prefer javascript\n",
            "save php date...\n",
            "Task WordsTagsCount:\n",
            " javascript,c#,java\n",
            "using,php,java...\n",
            "Task BagOfWords:\n",
            " 7...\n",
            "Task MultilabelClassification:\n",
            " 0\tmysql,php\n",
            "1\tjavascript\n",
            "2\t\n",
            "3\tjavascript,jquery\n",
            "4\tandroid,java\n",
            "5\tphp,xml\n",
            "6\tjson\n",
            "7\tjava,swing\n",
            "8\tpytho...\n"
          ],
          "name": "stdout"
        }
      ]
    },
    {
      "cell_type": "markdown",
      "metadata": {
        "id": "s5N2Ojq1vbn_",
        "colab_type": "text"
      },
      "source": [
        "If you want to submit these answers, run cell below"
      ]
    },
    {
      "cell_type": "code",
      "metadata": {
        "id": "VzRA_NhLvboA",
        "colab_type": "code",
        "colab": {
          "base_uri": "https://localhost:8080/",
          "height": 34
        },
        "outputId": "4fe3b5e3-c4da-475b-a951-0e617753bdb2"
      },
      "source": [
        "grader.submit(STUDENT_EMAIL, STUDENT_TOKEN)"
      ],
      "execution_count": null,
      "outputs": [
        {
          "output_type": "stream",
          "text": [
            "Submitted to Coursera platform. See results on assignment page!\n"
          ],
          "name": "stdout"
        }
      ]
    }
  ]
}